{
  "nbformat": 4,
  "nbformat_minor": 0,
  "metadata": {
    "colab": {
      "provenance": [],
      "authorship_tag": "ABX9TyObx3lus3s7tbTPehUr1IuV",
      "include_colab_link": true
    },
    "kernelspec": {
      "name": "python3",
      "display_name": "Python 3"
    },
    "language_info": {
      "name": "python"
    }
  },
  "cells": [
    {
      "cell_type": "markdown",
      "metadata": {
        "id": "view-in-github",
        "colab_type": "text"
      },
      "source": [
        "<a href=\"https://colab.research.google.com/github/imranypatel/ip-ng-training/blob/main/coding/python/tutorial/01_intro.ipynb\" target=\"_parent\"><img src=\"https://colab.research.google.com/assets/colab-badge.svg\" alt=\"Open In Colab\"/></a>"
      ]
    },
    {
      "cell_type": "markdown",
      "source": [
        "# Interact with Python Interpreter Environment\n",
        "Press Shift+Enter in the following cells to direct interpreter to interprete the command(s)."
      ],
      "metadata": {
        "id": "-nI0yhGOrcJc"
      }
    },
    {
      "cell_type": "markdown",
      "source": [
        "# Python Version"
      ],
      "metadata": {
        "id": "RHV0HCwX5JcG"
      }
    },
    {
      "cell_type": "code",
      "execution_count": 2,
      "metadata": {
        "id": "bT4P5P_fmlSa",
        "colab": {
          "base_uri": "https://localhost:8080/"
        },
        "outputId": "b11ec252-d139-44c7-a59c-fdf65d88dbd3"
      },
      "outputs": [
        {
          "output_type": "stream",
          "name": "stdout",
          "text": [
            "3.10.12 (main, Nov  6 2024, 20:22:13) [GCC 11.4.0]\n"
          ]
        }
      ],
      "source": [
        "# ask interpreter to print current version of python environment\n",
        "import sys\n",
        "print(sys.version)"
      ]
    },
    {
      "cell_type": "markdown",
      "source": [
        "# Instruction or Command to the Interpreter"
      ],
      "metadata": {
        "id": "MdHKJ7cy5gIq"
      }
    },
    {
      "cell_type": "code",
      "source": [
        "# hello is not a command or instruction so should produce an error\n",
        "hello"
      ],
      "metadata": {
        "id": "OflR094l4WoA",
        "colab": {
          "base_uri": "https://localhost:8080/",
          "height": 159
        },
        "outputId": "47a46cd1-e9a9-4531-e0a5-550d986f88d5"
      },
      "execution_count": 3,
      "outputs": [
        {
          "output_type": "error",
          "ename": "NameError",
          "evalue": "name 'hello' is not defined",
          "traceback": [
            "\u001b[0;31m---------------------------------------------------------------------------\u001b[0m",
            "\u001b[0;31mNameError\u001b[0m                                 Traceback (most recent call last)",
            "\u001b[0;32m<ipython-input-3-034596cde574>\u001b[0m in \u001b[0;36m<cell line: 2>\u001b[0;34m()\u001b[0m\n\u001b[1;32m      1\u001b[0m \u001b[0;31m# hello is not a command or instruction so should produce an error\u001b[0m\u001b[0;34m\u001b[0m\u001b[0;34m\u001b[0m\u001b[0m\n\u001b[0;32m----> 2\u001b[0;31m \u001b[0mhello\u001b[0m\u001b[0;34m\u001b[0m\u001b[0;34m\u001b[0m\u001b[0m\n\u001b[0m",
            "\u001b[0;31mNameError\u001b[0m: name 'hello' is not defined"
          ]
        }
      ]
    },
    {
      "cell_type": "code",
      "source": [
        "print(\"hello world\")"
      ],
      "metadata": {
        "colab": {
          "base_uri": "https://localhost:8080/"
        },
        "id": "wps65GW7ZYhr",
        "outputId": "b6655aea-6b87-49eb-f309-7ab1043f7a80"
      },
      "execution_count": 4,
      "outputs": [
        {
          "output_type": "stream",
          "name": "stdout",
          "text": [
            "hello world\n"
          ]
        }
      ]
    },
    {
      "cell_type": "code",
      "source": [
        "# print is a command, so it should print\n",
        "print(\"Hello World\")"
      ],
      "metadata": {
        "id": "kwC9y_Bc4xjZ",
        "colab": {
          "base_uri": "https://localhost:8080/"
        },
        "outputId": "ba029e64-7427-4ffe-b301-a701e4eeaa0d"
      },
      "execution_count": 5,
      "outputs": [
        {
          "output_type": "stream",
          "name": "stdout",
          "text": [
            "Hello World\n"
          ]
        }
      ]
    },
    {
      "cell_type": "code",
      "source": [
        "print(10)"
      ],
      "metadata": {
        "colab": {
          "base_uri": "https://localhost:8080/"
        },
        "id": "macF2Ip8ZOF0",
        "outputId": "4c5240fb-59a0-4c2f-844c-f7b7cbaa1b87"
      },
      "execution_count": 6,
      "outputs": [
        {
          "output_type": "stream",
          "name": "stdout",
          "text": [
            "10\n"
          ]
        }
      ]
    },
    {
      "cell_type": "markdown",
      "source": [
        "Let's test basic maths operation"
      ],
      "metadata": {
        "id": "tkS1pS36OIxX"
      }
    },
    {
      "cell_type": "code",
      "source": [
        "#\n",
        "1 + 1"
      ],
      "metadata": {
        "id": "S4dTk1TdoSZb",
        "colab": {
          "base_uri": "https://localhost:8080/"
        },
        "outputId": "b1cbe709-0d45-41ea-f20a-433fedcedf35"
      },
      "execution_count": 7,
      "outputs": [
        {
          "output_type": "execute_result",
          "data": {
            "text/plain": [
              "2"
            ]
          },
          "metadata": {},
          "execution_count": 7
        }
      ]
    },
    {
      "cell_type": "code",
      "source": [
        "4.567 * 8.323 * 17\n"
      ],
      "metadata": {
        "id": "LjJH6P77o3_H",
        "colab": {
          "base_uri": "https://localhost:8080/"
        },
        "outputId": "73ba039d-3383-4fc1-9d1c-709aeeade9f3"
      },
      "execution_count": 8,
      "outputs": [
        {
          "output_type": "execute_result",
          "data": {
            "text/plain": [
              "646.189397"
            ]
          },
          "metadata": {},
          "execution_count": 8
        }
      ]
    },
    {
      "cell_type": "code",
      "source": [
        "3 * 4 + 2"
      ],
      "metadata": {
        "colab": {
          "base_uri": "https://localhost:8080/"
        },
        "id": "Rudc-rO-QRnr",
        "outputId": "4c6f97d4-2571-4c09-859c-0055e6ecee1b"
      },
      "execution_count": 9,
      "outputs": [
        {
          "output_type": "execute_result",
          "data": {
            "text/plain": [
              "14"
            ]
          },
          "metadata": {},
          "execution_count": 9
        }
      ]
    },
    {
      "cell_type": "code",
      "source": [
        "3 + 4 * 2"
      ],
      "metadata": {
        "colab": {
          "base_uri": "https://localhost:8080/"
        },
        "id": "ZfRRcChMRLQv",
        "outputId": "1b29dda3-4f17-4e42-aa5c-40531118f945"
      },
      "execution_count": 10,
      "outputs": [
        {
          "output_type": "execute_result",
          "data": {
            "text/plain": [
              "11"
            ]
          },
          "metadata": {},
          "execution_count": 10
        }
      ]
    },
    {
      "cell_type": "code",
      "source": [
        "1"
      ],
      "metadata": {
        "id": "4dRq9wP1RYia"
      },
      "execution_count": null,
      "outputs": []
    },
    {
      "cell_type": "code",
      "source": [
        "1 + 4 * 3"
      ],
      "metadata": {
        "colab": {
          "base_uri": "https://localhost:8080/"
        },
        "id": "ZGrDyAaSRqst",
        "outputId": "396f750d-6ab2-4798-f56f-6883637bd8b2"
      },
      "execution_count": 11,
      "outputs": [
        {
          "output_type": "execute_result",
          "data": {
            "text/plain": [
              "13"
            ]
          },
          "metadata": {},
          "execution_count": 11
        }
      ]
    },
    {
      "cell_type": "code",
      "source": [
        "100"
      ],
      "metadata": {
        "id": "Ei-euj79Ryo8"
      },
      "execution_count": null,
      "outputs": []
    },
    {
      "cell_type": "code",
      "source": [
        "+"
      ],
      "metadata": {
        "id": "tV49xSh_SNZQ"
      },
      "execution_count": null,
      "outputs": []
    },
    {
      "cell_type": "code",
      "source": [
        "3 + (2 * 4)"
      ],
      "metadata": {
        "colab": {
          "base_uri": "https://localhost:8080/"
        },
        "id": "WPR_RzHXSWYW",
        "outputId": "4eabc161-1430-438a-a148-25efe13c1edc"
      },
      "execution_count": 12,
      "outputs": [
        {
          "output_type": "execute_result",
          "data": {
            "text/plain": [
              "11"
            ]
          },
          "metadata": {},
          "execution_count": 12
        }
      ]
    },
    {
      "cell_type": "code",
      "source": [
        "(3 + 2) * 4"
      ],
      "metadata": {
        "colab": {
          "base_uri": "https://localhost:8080/"
        },
        "id": "hJsBDUyMSsSl",
        "outputId": "f58e4674-60c4-4f9c-b403-86a8b185411a"
      },
      "execution_count": 13,
      "outputs": [
        {
          "output_type": "execute_result",
          "data": {
            "text/plain": [
              "20"
            ]
          },
          "metadata": {},
          "execution_count": 13
        }
      ]
    },
    {
      "cell_type": "code",
      "source": [
        "3 +"
      ],
      "metadata": {
        "colab": {
          "base_uri": "https://localhost:8080/",
          "height": 106
        },
        "id": "tvonxYXVS5K7",
        "outputId": "443b0d79-65d4-49dc-9477-b8cd3fe93a78"
      },
      "execution_count": 15,
      "outputs": [
        {
          "output_type": "error",
          "ename": "SyntaxError",
          "evalue": "invalid syntax (<ipython-input-15-3b36d4dc5165>, line 1)",
          "traceback": [
            "\u001b[0;36m  File \u001b[0;32m\"<ipython-input-15-3b36d4dc5165>\"\u001b[0;36m, line \u001b[0;32m1\u001b[0m\n\u001b[0;31m    3 +\u001b[0m\n\u001b[0m       ^\u001b[0m\n\u001b[0;31mSyntaxError\u001b[0m\u001b[0;31m:\u001b[0m invalid syntax\n"
          ]
        }
      ]
    },
    {
      "cell_type": "code",
      "source": [
        "3 - 2"
      ],
      "metadata": {
        "colab": {
          "base_uri": "https://localhost:8080/"
        },
        "id": "d7bWmUQzTCOP",
        "outputId": "bdc3f267-7cd8-4d0b-c192-45afd277808d"
      },
      "execution_count": 14,
      "outputs": [
        {
          "output_type": "execute_result",
          "data": {
            "text/plain": [
              "1"
            ]
          },
          "metadata": {},
          "execution_count": 14
        }
      ]
    },
    {
      "cell_type": "code",
      "source": [
        "-2"
      ],
      "metadata": {
        "colab": {
          "base_uri": "https://localhost:8080/"
        },
        "id": "k1UQNmHJTSLb",
        "outputId": "3b4dd62c-c558-49f6-dcd8-94b991ae60c7"
      },
      "execution_count": 16,
      "outputs": [
        {
          "output_type": "execute_result",
          "data": {
            "text/plain": [
              "-2"
            ]
          },
          "metadata": {},
          "execution_count": 16
        }
      ]
    },
    {
      "cell_type": "code",
      "source": [
        "-2 + 3"
      ],
      "metadata": {
        "colab": {
          "base_uri": "https://localhost:8080/"
        },
        "id": "JgeTljuVTeQj",
        "outputId": "758aa4fa-216f-4287-8a1a-b159ca4d9304"
      },
      "execution_count": 17,
      "outputs": [
        {
          "output_type": "execute_result",
          "data": {
            "text/plain": [
              "1"
            ]
          },
          "metadata": {},
          "execution_count": 17
        }
      ]
    },
    {
      "cell_type": "code",
      "source": [
        "3 + (2 * (-4))"
      ],
      "metadata": {
        "id": "r-UnQLNETq1y"
      },
      "execution_count": null,
      "outputs": []
    },
    {
      "cell_type": "code",
      "source": [
        "_\n"
      ],
      "metadata": {
        "id": "P8omoCOeT6E-"
      },
      "execution_count": null,
      "outputs": []
    },
    {
      "cell_type": "markdown",
      "source": [
        "Today's key terms/concepts:\n",
        "* Constant\n",
        "* Operators\n",
        "* Expression (Values, Operators) (Values-> Constant, Values->Variables)\n",
        "* Value (Number, String)\n",
        "* Binary Operator\n",
        "* Unary Operator\n"
      ],
      "metadata": {
        "id": "IFwHVNnKUF_X"
      }
    },
    {
      "cell_type": "markdown",
      "source": [
        "# Session 2"
      ],
      "metadata": {
        "id": "DhIlFfadL7d3"
      }
    },
    {
      "cell_type": "code",
      "source": [
        "-1 * 4"
      ],
      "metadata": {
        "id": "9RAJq1j0T_Bv"
      },
      "execution_count": null,
      "outputs": []
    },
    {
      "cell_type": "markdown",
      "source": [
        "Variables\n"
      ],
      "metadata": {
        "id": "zetYu51cUPBI"
      }
    },
    {
      "cell_type": "code",
      "source": [
        "124 - 94"
      ],
      "metadata": {
        "id": "wko_2BfeL_7N"
      },
      "execution_count": null,
      "outputs": []
    },
    {
      "cell_type": "code",
      "source": [
        "maximal = 124\n",
        "width = 94\n",
        "maximal - width"
      ],
      "metadata": {
        "id": "JT8lJ_tyML4X"
      },
      "execution_count": null,
      "outputs": []
    },
    {
      "cell_type": "code",
      "source": [
        "eht = 16\n",
        "aiman = 9\n",
        "eht - aiman"
      ],
      "metadata": {
        "id": "LpVkIjm4Xdfh"
      },
      "execution_count": null,
      "outputs": []
    },
    {
      "cell_type": "code",
      "source": [
        "aiman + 5"
      ],
      "metadata": {
        "id": "tksZY1yhXuzy"
      },
      "execution_count": null,
      "outputs": []
    },
    {
      "cell_type": "code",
      "source": [
        "eht - 5"
      ],
      "metadata": {
        "id": "tq8_GappYwLh"
      },
      "execution_count": null,
      "outputs": []
    },
    {
      "cell_type": "code",
      "source": [
        "\"Hello\" + \" \" + \"World\""
      ],
      "metadata": {
        "colab": {
          "base_uri": "https://localhost:8080/",
          "height": 35
        },
        "id": "lLvn6l2BY3Ft",
        "outputId": "1d4c6f72-d86b-4070-aa8a-00b2959d5f73"
      },
      "execution_count": 18,
      "outputs": [
        {
          "output_type": "execute_result",
          "data": {
            "text/plain": [
              "'Hello World'"
            ],
            "application/vnd.google.colaboratory.intrinsic+json": {
              "type": "string"
            }
          },
          "metadata": {},
          "execution_count": 18
        }
      ]
    },
    {
      "cell_type": "code",
      "source": [
        "\"Hello\" - \" \" - \"World\""
      ],
      "metadata": {
        "colab": {
          "base_uri": "https://localhost:8080/",
          "height": 141
        },
        "id": "jxaPpOubaGOp",
        "outputId": "af6d3bf2-9b9d-4297-ea8a-93b08ea82c0f"
      },
      "execution_count": 19,
      "outputs": [
        {
          "output_type": "error",
          "ename": "TypeError",
          "evalue": "unsupported operand type(s) for -: 'str' and 'str'",
          "traceback": [
            "\u001b[0;31m---------------------------------------------------------------------------\u001b[0m",
            "\u001b[0;31mTypeError\u001b[0m                                 Traceback (most recent call last)",
            "\u001b[0;32m<ipython-input-19-84e8be328623>\u001b[0m in \u001b[0;36m<cell line: 1>\u001b[0;34m()\u001b[0m\n\u001b[0;32m----> 1\u001b[0;31m \u001b[0;34m\"Hello\"\u001b[0m \u001b[0;34m-\u001b[0m \u001b[0;34m\" \"\u001b[0m \u001b[0;34m-\u001b[0m \u001b[0;34m\"World\"\u001b[0m\u001b[0;34m\u001b[0m\u001b[0;34m\u001b[0m\u001b[0m\n\u001b[0m",
            "\u001b[0;31mTypeError\u001b[0m: unsupported operand type(s) for -: 'str' and 'str'"
          ]
        }
      ]
    },
    {
      "cell_type": "code",
      "source": [
        "\"Hello\" * \"World\""
      ],
      "metadata": {
        "colab": {
          "base_uri": "https://localhost:8080/",
          "height": 141
        },
        "id": "4dWpc-b_adoV",
        "outputId": "e81bc96f-7da5-4d99-fd0d-1231fdf503f8"
      },
      "execution_count": 20,
      "outputs": [
        {
          "output_type": "error",
          "ename": "TypeError",
          "evalue": "can't multiply sequence by non-int of type 'str'",
          "traceback": [
            "\u001b[0;31m---------------------------------------------------------------------------\u001b[0m",
            "\u001b[0;31mTypeError\u001b[0m                                 Traceback (most recent call last)",
            "\u001b[0;32m<ipython-input-20-274f9dd30aa7>\u001b[0m in \u001b[0;36m<cell line: 1>\u001b[0;34m()\u001b[0m\n\u001b[0;32m----> 1\u001b[0;31m \u001b[0;34m\"Hello\"\u001b[0m \u001b[0;34m*\u001b[0m \u001b[0;34m\"World\"\u001b[0m\u001b[0;34m\u001b[0m\u001b[0;34m\u001b[0m\u001b[0m\n\u001b[0m",
            "\u001b[0;31mTypeError\u001b[0m: can't multiply sequence by non-int of type 'str'"
          ]
        }
      ]
    },
    {
      "cell_type": "code",
      "source": [
        "\"Hello\" + 2"
      ],
      "metadata": {
        "colab": {
          "base_uri": "https://localhost:8080/",
          "height": 141
        },
        "id": "kfq7aN3jamfN",
        "outputId": "a9aa29cc-57ae-49df-e20f-877de0c26e2c"
      },
      "execution_count": 21,
      "outputs": [
        {
          "output_type": "error",
          "ename": "TypeError",
          "evalue": "can only concatenate str (not \"int\") to str",
          "traceback": [
            "\u001b[0;31m---------------------------------------------------------------------------\u001b[0m",
            "\u001b[0;31mTypeError\u001b[0m                                 Traceback (most recent call last)",
            "\u001b[0;32m<ipython-input-21-917ec72bce98>\u001b[0m in \u001b[0;36m<cell line: 1>\u001b[0;34m()\u001b[0m\n\u001b[0;32m----> 1\u001b[0;31m \u001b[0;34m\"Hello\"\u001b[0m \u001b[0;34m+\u001b[0m \u001b[0;36m2\u001b[0m\u001b[0;34m\u001b[0m\u001b[0;34m\u001b[0m\u001b[0m\n\u001b[0m",
            "\u001b[0;31mTypeError\u001b[0m: can only concatenate str (not \"int\") to str"
          ]
        }
      ]
    },
    {
      "cell_type": "code",
      "source": [
        "\"Hello\" + \"2\""
      ],
      "metadata": {
        "colab": {
          "base_uri": "https://localhost:8080/",
          "height": 35
        },
        "id": "3nMN4unZa2SO",
        "outputId": "0abb8a2a-1368-4493-f66e-1340df7fcf6c"
      },
      "execution_count": 22,
      "outputs": [
        {
          "output_type": "execute_result",
          "data": {
            "text/plain": [
              "'Hello2'"
            ],
            "application/vnd.google.colaboratory.intrinsic+json": {
              "type": "string"
            }
          },
          "metadata": {},
          "execution_count": 22
        }
      ]
    },
    {
      "cell_type": "code",
      "source": [
        "first = \"Ammarah\"\n",
        "second = \"Patel\"\n",
        "first, second"
      ],
      "metadata": {
        "colab": {
          "base_uri": "https://localhost:8080/"
        },
        "id": "XYgifkOqbEnS",
        "outputId": "42141047-2773-467a-c567-f7aa4933c25a"
      },
      "execution_count": 23,
      "outputs": [
        {
          "output_type": "execute_result",
          "data": {
            "text/plain": [
              "('Ammarah', 'Patel')"
            ]
          },
          "metadata": {},
          "execution_count": 23
        }
      ]
    },
    {
      "cell_type": "code",
      "source": [
        "first + second"
      ],
      "metadata": {
        "colab": {
          "base_uri": "https://localhost:8080/",
          "height": 35
        },
        "id": "55Vl2VWCblzN",
        "outputId": "8abb742f-f6a2-4ce3-c4e0-c613eeb811e8"
      },
      "execution_count": 24,
      "outputs": [
        {
          "output_type": "execute_result",
          "data": {
            "text/plain": [
              "'AmmarahPatel'"
            ],
            "application/vnd.google.colaboratory.intrinsic+json": {
              "type": "string"
            }
          },
          "metadata": {},
          "execution_count": 24
        }
      ]
    },
    {
      "cell_type": "code",
      "source": [
        "first + \" \" + second"
      ],
      "metadata": {
        "colab": {
          "base_uri": "https://localhost:8080/",
          "height": 35
        },
        "id": "yd3i-fXcb8RN",
        "outputId": "c670f1dc-27f5-4800-bd9f-9598fdd51286"
      },
      "execution_count": 25,
      "outputs": [
        {
          "output_type": "execute_result",
          "data": {
            "text/plain": [
              "'Ammarah Patel'"
            ],
            "application/vnd.google.colaboratory.intrinsic+json": {
              "type": "string"
            }
          },
          "metadata": {},
          "execution_count": 25
        }
      ]
    },
    {
      "cell_type": "code",
      "source": [
        "second + \", \" + first"
      ],
      "metadata": {
        "colab": {
          "base_uri": "https://localhost:8080/",
          "height": 35
        },
        "id": "fwO-lCgscYQe",
        "outputId": "8eae4c25-4067-4832-eec9-7b11a9da70d4"
      },
      "execution_count": 26,
      "outputs": [
        {
          "output_type": "execute_result",
          "data": {
            "text/plain": [
              "'Patel, Ammarah'"
            ],
            "application/vnd.google.colaboratory.intrinsic+json": {
              "type": "string"
            }
          },
          "metadata": {},
          "execution_count": 26
        }
      ]
    },
    {
      "cell_type": "code",
      "source": [
        "\"\"\"Toronto is the largest city in Canada\n",
        "and the provincial capital of Ontario.\n",
        "It is located in Southern Ontario on the\n",
        "northwestern shore of Lake Ontario.\"\"\""
      ],
      "metadata": {
        "colab": {
          "base_uri": "https://localhost:8080/",
          "height": 35
        },
        "id": "OnULO_z4clCw",
        "outputId": "65e9cc76-3587-4fd5-ab51-a1e461f5af25"
      },
      "execution_count": 27,
      "outputs": [
        {
          "output_type": "execute_result",
          "data": {
            "text/plain": [
              "'Toronto is the largest city in Canada\\nand the provincial capital of Ontario.\\nIt is located in Southern Ontario on the\\nnorthwestern shore of Lake Ontario.'"
            ],
            "application/vnd.google.colaboratory.intrinsic+json": {
              "type": "string"
            }
          },
          "metadata": {},
          "execution_count": 27
        }
      ]
    },
    {
      "cell_type": "code",
      "source": [
        "city = \"\"\"Toronto is the largest city in Canada\n",
        "and the provincial capital of Ontario.\n",
        "It is located in Southern Ontario on the\n",
        "northwestern shore of Lake Ontario.\"\"\""
      ],
      "metadata": {
        "id": "nfp8Z0AcdJMK"
      },
      "execution_count": 28,
      "outputs": []
    },
    {
      "cell_type": "code",
      "source": [
        "city"
      ],
      "metadata": {
        "colab": {
          "base_uri": "https://localhost:8080/",
          "height": 35
        },
        "id": "RtwBDr41dXrD",
        "outputId": "d94f307b-7e32-4dac-8e4c-b2c0565ae0d3"
      },
      "execution_count": 29,
      "outputs": [
        {
          "output_type": "execute_result",
          "data": {
            "text/plain": [
              "'Toronto is the largest city in Canada\\nand the provincial capital of Ontario.\\nIt is located in Southern Ontario on the\\nnorthwestern shore of Lake Ontario.'"
            ],
            "application/vnd.google.colaboratory.intrinsic+json": {
              "type": "string"
            }
          },
          "metadata": {},
          "execution_count": 29
        }
      ]
    },
    {
      "cell_type": "code",
      "source": [
        "print(city)"
      ],
      "metadata": {
        "colab": {
          "base_uri": "https://localhost:8080/"
        },
        "id": "Z80nbTVJdZZ5",
        "outputId": "606a5d48-3612-45f7-9c8e-c220893a9c61"
      },
      "execution_count": 30,
      "outputs": [
        {
          "output_type": "stream",
          "name": "stdout",
          "text": [
            "Toronto is the largest city in Canada\n",
            "and the provincial capital of Ontario.\n",
            "It is located in Southern Ontario on the\n",
            "northwestern shore of Lake Ontario.\n"
          ]
        }
      ]
    },
    {
      "cell_type": "code",
      "source": [
        "bio = \"\"\"*\n",
        "Name = Ehtesham Patel\n",
        "Age = 17\n",
        "\n",
        "*\"\"\""
      ],
      "metadata": {
        "id": "Km65kzwpdcXu"
      },
      "execution_count": 31,
      "outputs": []
    },
    {
      "cell_type": "code",
      "source": [
        "bio\n"
      ],
      "metadata": {
        "colab": {
          "base_uri": "https://localhost:8080/",
          "height": 35
        },
        "id": "YZxFfo71dxig",
        "outputId": "f137e677-2446-4edc-b979-d14addc8a91e"
      },
      "execution_count": 32,
      "outputs": [
        {
          "output_type": "execute_result",
          "data": {
            "text/plain": [
              "'*\\nName = Ehtesham Patel\\nAge = 17\\n\\n*'"
            ],
            "application/vnd.google.colaboratory.intrinsic+json": {
              "type": "string"
            }
          },
          "metadata": {},
          "execution_count": 32
        }
      ]
    },
    {
      "cell_type": "code",
      "source": [
        "print(bio)"
      ],
      "metadata": {
        "colab": {
          "base_uri": "https://localhost:8080/"
        },
        "id": "tYrJeG8Bd3is",
        "outputId": "6f7350b4-3e28-40b3-974c-db46c6a60f9e"
      },
      "execution_count": 33,
      "outputs": [
        {
          "output_type": "stream",
          "name": "stdout",
          "text": [
            "*\n",
            "Name = Ehtesham Patel\n",
            "Age = 17\n",
            "\n",
            "*\n"
          ]
        }
      ]
    },
    {
      "cell_type": "markdown",
      "source": [
        "# Session 3"
      ],
      "metadata": {
        "id": "1ywcQvGFErba"
      }
    },
    {
      "cell_type": "markdown",
      "source": [
        "# Structuring and Indentation\n"
      ],
      "metadata": {
        "id": "SbIPPgg97lwx"
      }
    },
    {
      "cell_type": "code",
      "source": [
        "# Multi-line statement\n",
        "l = [\"A\", 42, 78, \"Just a String\"]\n",
        "for character in l:\n",
        "     print(character)\n"
      ],
      "metadata": {
        "id": "dsukWheZeLZV"
      },
      "execution_count": null,
      "outputs": []
    },
    {
      "cell_type": "code",
      "source": [
        "l = [\"A\", 42, 78, \"Just a String\"]\n",
        "for character in l:\n",
        "     print(character)\n",
        "     print(\"character again\", character)\n"
      ],
      "metadata": {
        "id": "jWIuj1mz8fyf"
      },
      "execution_count": null,
      "outputs": []
    },
    {
      "cell_type": "code",
      "source": [
        "l = [\"A\", 42, 78, \"Just a String\"]\n",
        "for character in l:\n",
        "     print(character)\n",
        "     print(\"character again\", character)\n",
        "print(\"last character again\", character)"
      ],
      "metadata": {
        "id": "80J5KFKG92f2"
      },
      "execution_count": null,
      "outputs": []
    },
    {
      "cell_type": "code",
      "source": [
        "# 3 blocks\n",
        "from math import sqrt\n",
        "n = input(\"Maximum Number? \")\n",
        "n = int(n)+1\n",
        "for a in range(1,n):\n",
        "    for b in range(a,n):\n",
        "        c_square = a**2 + b**2\n",
        "        c = int(sqrt(c_square))\n",
        "        if ((c_square - c**2) == 0):\n",
        "            print(a, b, c)"
      ],
      "metadata": {
        "id": "jCRMXUaj996e"
      },
      "execution_count": null,
      "outputs": []
    },
    {
      "cell_type": "markdown",
      "source": [
        "# Assignment Expression"
      ],
      "metadata": {
        "id": "KEbws5lt_Iag"
      }
    },
    {
      "cell_type": "code",
      "source": [
        "# assignment statement\n",
        "x = 5"
      ],
      "metadata": {
        "id": "ICNrCerx-bgn"
      },
      "execution_count": null,
      "outputs": []
    },
    {
      "cell_type": "code",
      "source": [
        "x"
      ],
      "metadata": {
        "id": "jD0z_-UX_nH7"
      },
      "execution_count": null,
      "outputs": []
    },
    {
      "cell_type": "code",
      "source": [
        "x = 4.56\n",
        "# assignment expression\n",
        "z = (square := x**2) - (6.6 / square)\n",
        "print(z)\n",
        "print(x,z,square)"
      ],
      "metadata": {
        "id": "CvXQe5qK_p9s"
      },
      "execution_count": null,
      "outputs": []
    },
    {
      "cell_type": "code",
      "source": [
        "x = 3\n",
        "z = (square := x**2) - (6.6 / square)\n",
        "print(x,z,square)\n"
      ],
      "metadata": {
        "id": "eZiWf7z1APX5"
      },
      "execution_count": null,
      "outputs": []
    },
    {
      "cell_type": "code",
      "source": [
        "# With the walrus operator\n",
        "n = int(input(\"Please give a number: \"))\n",
        "if (square := n ** 2) > 3:\n",
        "    print(\"The number is greater than 3.\")\n",
        "    print(f\"The square of {n} is {square}.\")"
      ],
      "metadata": {
        "id": "2aPXC1xUAtk1"
      },
      "execution_count": null,
      "outputs": []
    },
    {
      "cell_type": "code",
      "source": [
        "n = int(input(\"Please give a number: \"))\n",
        "square= n ** 2\n",
        "if square > 3:\n",
        "    print(\"The number is greater than 3.\")\n",
        "    print(f\"The square of {n} is {square}.\")"
      ],
      "metadata": {
        "id": "FKfx0i4NBTnS"
      },
      "execution_count": null,
      "outputs": []
    },
    {
      "cell_type": "markdown",
      "source": [
        "# 6. Data Types and Variables"
      ],
      "metadata": {
        "id": "xRqnTNRjCkwT"
      }
    },
    {
      "cell_type": "code",
      "source": [
        "i = 42"
      ],
      "metadata": {
        "id": "-LDSjJh1CFtE"
      },
      "execution_count": null,
      "outputs": []
    },
    {
      "cell_type": "code",
      "source": [
        "i"
      ],
      "metadata": {
        "id": "75Zv0VbBDMtS"
      },
      "execution_count": null,
      "outputs": []
    },
    {
      "cell_type": "code",
      "source": [
        "i = i + 1"
      ],
      "metadata": {
        "id": "tWA1lu92DPua"
      },
      "execution_count": null,
      "outputs": []
    },
    {
      "cell_type": "code",
      "source": [
        "i"
      ],
      "metadata": {
        "id": "HL7gD_CqDXgo"
      },
      "execution_count": null,
      "outputs": []
    },
    {
      "cell_type": "code",
      "source": [
        "i = 42          # data type is implicitly set to integer"
      ],
      "metadata": {
        "id": "uxuFusc4Dc45"
      },
      "execution_count": null,
      "outputs": []
    },
    {
      "cell_type": "code",
      "source": [
        "i"
      ],
      "metadata": {
        "id": "SD0vg5QeDnDa"
      },
      "execution_count": null,
      "outputs": []
    },
    {
      "cell_type": "code",
      "source": [
        "i = 42 + 0.11       # data type is changed to float"
      ],
      "metadata": {
        "id": "mIPMqUzZDn2-"
      },
      "execution_count": null,
      "outputs": []
    },
    {
      "cell_type": "code",
      "source": [
        "i"
      ],
      "metadata": {
        "id": "KSv9JFCrDz12"
      },
      "execution_count": null,
      "outputs": []
    },
    {
      "cell_type": "code",
      "source": [
        "i = \"forty\"     # and now it will be a string"
      ],
      "metadata": {
        "id": "2XiQtsPTD0r4"
      },
      "execution_count": null,
      "outputs": []
    },
    {
      "cell_type": "code",
      "source": [
        "i"
      ],
      "metadata": {
        "id": "amxwFls2EHk-"
      },
      "execution_count": null,
      "outputs": []
    },
    {
      "cell_type": "markdown",
      "source": [
        "# Session 4"
      ],
      "metadata": {
        "id": "4u3b1A6QbDyq"
      }
    },
    {
      "cell_type": "code",
      "source": [
        "x = 42\n",
        "y = x"
      ],
      "metadata": {
        "id": "DUBhUFTgEIf9"
      },
      "execution_count": null,
      "outputs": []
    },
    {
      "cell_type": "code",
      "source": [
        "(x,y)"
      ],
      "metadata": {
        "id": "kMIoomPeUhE3"
      },
      "execution_count": null,
      "outputs": []
    },
    {
      "cell_type": "code",
      "source": [
        "y = 78"
      ],
      "metadata": {
        "id": "znYT2eQJUkKw"
      },
      "execution_count": null,
      "outputs": []
    },
    {
      "cell_type": "code",
      "source": [
        "x,y"
      ],
      "metadata": {
        "id": "HwzwB9LfVNJP"
      },
      "execution_count": null,
      "outputs": []
    },
    {
      "cell_type": "code",
      "source": [
        "x = \"hello\""
      ],
      "metadata": {
        "id": "441VKdzWVUUj"
      },
      "execution_count": null,
      "outputs": []
    },
    {
      "cell_type": "code",
      "source": [
        "x,y"
      ],
      "metadata": {
        "id": "0bokCl36Vo4h"
      },
      "execution_count": null,
      "outputs": []
    },
    {
      "cell_type": "code",
      "source": [
        "x=42\n"
      ],
      "metadata": {
        "id": "Wzjww3FqVzCD"
      },
      "execution_count": null,
      "outputs": []
    },
    {
      "cell_type": "code",
      "source": [
        "id(x)"
      ],
      "metadata": {
        "id": "z1VZyMW9WAez"
      },
      "execution_count": null,
      "outputs": []
    },
    {
      "cell_type": "code",
      "source": [
        "id(y)"
      ],
      "metadata": {
        "id": "1I55cegJWLIh"
      },
      "execution_count": null,
      "outputs": []
    },
    {
      "cell_type": "code",
      "source": [
        "x,y"
      ],
      "metadata": {
        "id": "NuX53FcSWRP3"
      },
      "execution_count": null,
      "outputs": []
    },
    {
      "cell_type": "code",
      "source": [
        "y = x"
      ],
      "metadata": {
        "id": "7qKSbhkQWUrr"
      },
      "execution_count": null,
      "outputs": []
    },
    {
      "cell_type": "code",
      "source": [
        "x,y"
      ],
      "metadata": {
        "id": "HHGJ1P9mWc8f"
      },
      "execution_count": null,
      "outputs": []
    },
    {
      "cell_type": "code",
      "source": [
        "id(x), id(y)"
      ],
      "metadata": {
        "id": "PMJ2mID_WnL9"
      },
      "execution_count": null,
      "outputs": []
    },
    {
      "cell_type": "code",
      "source": [
        "x = 50\n"
      ],
      "metadata": {
        "id": "GG1kEyRRWtFB"
      },
      "execution_count": null,
      "outputs": []
    },
    {
      "cell_type": "code",
      "source": [
        "x,y"
      ],
      "metadata": {
        "id": "EcNhm7LeW17E"
      },
      "execution_count": null,
      "outputs": []
    },
    {
      "cell_type": "code",
      "source": [
        "id(x), id(y)"
      ],
      "metadata": {
        "id": "kSKAE1u1W5bt"
      },
      "execution_count": null,
      "outputs": []
    },
    {
      "cell_type": "markdown",
      "source": [
        "# Sesssion 5"
      ],
      "metadata": {
        "id": "V7C5242jaDKr"
      }
    },
    {
      "cell_type": "code",
      "source": [
        "a = 10\n",
        "A = 20\n",
        "a,A"
      ],
      "metadata": {
        "id": "dOcGMaQoW8eG"
      },
      "execution_count": null,
      "outputs": []
    },
    {
      "cell_type": "code",
      "source": [
        "id(a), id(A)"
      ],
      "metadata": {
        "id": "_c4S9CVtaB4e"
      },
      "execution_count": null,
      "outputs": []
    },
    {
      "cell_type": "code",
      "source": [
        "age = 17\n",
        "Age = 20\n",
        "age, Age"
      ],
      "metadata": {
        "id": "cqClVbgtaBmz"
      },
      "execution_count": null,
      "outputs": []
    },
    {
      "cell_type": "code",
      "source": [
        "BirthYear = 1972\n",
        "birth_year = 1999\n",
        "BirthYear, birth_year"
      ],
      "metadata": {
        "id": "9lYd10wRcTna"
      },
      "execution_count": null,
      "outputs": []
    },
    {
      "cell_type": "code",
      "source": [
        "birthyear = 1999\n",
        "birthyear"
      ],
      "metadata": {
        "id": "LXcizBTWclHo"
      },
      "execution_count": null,
      "outputs": []
    },
    {
      "cell_type": "code",
      "source": [
        "# keywords, reserved words\n",
        "for = 10"
      ],
      "metadata": {
        "id": "_mSE8I7sc4hJ"
      },
      "execution_count": null,
      "outputs": []
    },
    {
      "cell_type": "code",
      "source": [
        "help()"
      ],
      "metadata": {
        "id": "wZ3RkaAWdN4T"
      },
      "execution_count": null,
      "outputs": []
    },
    {
      "cell_type": "markdown",
      "source": [
        "# Session 5\n",
        "  "
      ],
      "metadata": {
        "id": "bcurdcWlAG9x"
      }
    },
    {
      "cell_type": "code",
      "source": [
        "# not a keyword\n",
        "While = 10"
      ],
      "metadata": {
        "id": "WbFNkyONAK-c"
      },
      "execution_count": null,
      "outputs": []
    },
    {
      "cell_type": "code",
      "source": [
        "whilE = 20"
      ],
      "metadata": {
        "id": "tV2Ni008AU7C"
      },
      "execution_count": null,
      "outputs": []
    },
    {
      "cell_type": "code",
      "source": [
        "x = 787366098712738903245678234782358292837498729182728\n",
        "print(x)\n"
      ],
      "metadata": {
        "id": "sBOZBjGOArLa"
      },
      "execution_count": null,
      "outputs": []
    },
    {
      "cell_type": "code",
      "source": [
        "x * x * x"
      ],
      "metadata": {
        "id": "JP28knJLChfw"
      },
      "execution_count": null,
      "outputs": []
    },
    {
      "cell_type": "code",
      "source": [
        "# int, whole value\n",
        "x = 350\n"
      ],
      "metadata": {
        "id": "6GYC8D3dCstW"
      },
      "execution_count": null,
      "outputs": []
    },
    {
      "cell_type": "code",
      "source": [
        "# floating point, with decimal\n",
        "y = 2.5\n",
        "y"
      ],
      "metadata": {
        "id": "_y3sqKE5DJJO"
      },
      "execution_count": null,
      "outputs": []
    },
    {
      "cell_type": "code",
      "source": [
        "# true division\n",
        "10 / 3"
      ],
      "metadata": {
        "id": "Ff2Fz864DNbP"
      },
      "execution_count": null,
      "outputs": []
    },
    {
      "cell_type": "code",
      "source": [
        "10.5 / 3.5"
      ],
      "metadata": {
        "id": "LhiqWzCQD0cI"
      },
      "execution_count": null,
      "outputs": []
    },
    {
      "cell_type": "code",
      "source": [
        "9 / 3"
      ],
      "metadata": {
        "id": "UyeARajmEVRj"
      },
      "execution_count": null,
      "outputs": []
    },
    {
      "cell_type": "code",
      "source": [
        "# floor division\n",
        "9 // 3"
      ],
      "metadata": {
        "id": "LTtwmVs-EGhI"
      },
      "execution_count": null,
      "outputs": []
    },
    {
      "cell_type": "markdown",
      "source": [
        "![image.png](data:image/png;base64,iVBORw0KGgoAAAANSUhEUgAAAHsAAAA+CAYAAAALUmSgAAAAAXNSR0IArs4c6QAAAARnQU1BAACxjwv8YQUAAAAJcEhZcwAADsMAAA7DAcdvqGQAAAMGSURBVHhe7ZwxkqJAFIZ/9yyywdScAE+gk0xkuhmEcgDDzTbBULJNjUwGTiAnsAwG7tLbrS3OjAqOSGvt+7+qVgZ0aPy66dcir6c0ICL4YZ+JAChbEJQtCMoWBGULgrIFQdmCoGxBULYgKFsQlC2IWtlZ2EOvZ8tghtKud0eJ2cDsP0Rm17gjQ7g/dlNC9zWoo5wNDnW7sH5nZRvRo3WMQikoVSBGBM/lAWehPohfwDiwK1xiGtkISM2xm5IiSEYYzNw393P0Jytbt0P9GvWYq17HpCqAr2JtuiINFL6u6wyz/0A/mkWzX7t8R9IACn6snBz+tylU7EP5DXJO9+xsiQTP+Nm3f5uW/jvRzzk2xW5NtwwxV3P9SC6ifMMi9zF+qYSd5PyY7T/BM8/lDIOeh81Un8r97RaBZFjqtu6PX1D/cbqliqm8CIj/YtJQudoArTBBgLfAuFCYi+1mu/E7QYBp06fpmOF8P2YXGC+8xiDtvOw8wmgx1gHayraYApt8u0UUWegh0qfIuHjkYaWPyVQHssmydtZyWrb3BHPGDqaTw2mrfMdat+5XQT3cTG9GiRG9b/APzn7oPccuTjvmc/S5i/YQ3CEmvlM0XsS+w9lHW8zspTkaPyu7Eqz/ybY4Ff1l31VxOfU7tX+oe7T3Y44/n0vqxV+XCqI2Gif/F5QtCMoWBGULgrIF0SjbfP9ad2mP2x97+0fYswVB2YKgbEFQtiAoWxCULQjKFgRlC4KyBUHZgqBsQVC2IChbEJQtCP7gUBDs2YKgbEFQtiAoWxCUfTXtcq4c5UTR5dLfkl0LZV/FjXKuBKl9/66sOr5VlLKvoo/J6mOCgiFeAyBfvOlm8LhQtiAo+yZcmXNFn/qrMdtFnjk9VpBW7O+VbpMwwN4P3nHqLcpuyTZDxS2SBDjIMMHTeAtumXOlfF/bpQ6x0sk3uSjnShErf5sGo6HH2tc15URpC3v2VWT4E5k8YTki7/MXI5d+t2JuyKve50V41nP2rufZvMQpCPZsQVC2IChbDMA/wRviAANFlBYAAAAASUVORK5CYII=)\n",
        "\n",
        "floor = 2\n",
        "\n",
        "ceil = 3"
      ],
      "metadata": {
        "id": "bAr8IIlGFugo"
      }
    },
    {
      "cell_type": "code",
      "source": [
        "5 // 2"
      ],
      "metadata": {
        "id": "jFcjhSo7EfaR"
      },
      "execution_count": null,
      "outputs": []
    },
    {
      "cell_type": "code",
      "source": [
        "7 / 2"
      ],
      "metadata": {
        "id": "LAQSnEI_GX_F"
      },
      "execution_count": null,
      "outputs": []
    },
    {
      "cell_type": "code",
      "source": [
        "7 // 2"
      ],
      "metadata": {
        "id": "OmMd59P-HHcJ"
      },
      "execution_count": null,
      "outputs": []
    },
    {
      "cell_type": "code",
      "source": [
        "-7 / 2"
      ],
      "metadata": {
        "id": "03MUobFdHKvl"
      },
      "execution_count": null,
      "outputs": []
    },
    {
      "cell_type": "code",
      "source": [
        "-7 // 2"
      ],
      "metadata": {
        "id": "QXwpgAHqHRnJ"
      },
      "execution_count": null,
      "outputs": []
    },
    {
      "cell_type": "markdown",
      "source": [
        "# Session 6"
      ],
      "metadata": {
        "id": "apLJxq8x0Xaj"
      }
    },
    {
      "cell_type": "code",
      "source": [
        "s = 'I am a string enclosed in single quotes.'\n",
        "s"
      ],
      "metadata": {
        "id": "bQIAPdzWHnDy"
      },
      "execution_count": null,
      "outputs": []
    },
    {
      "cell_type": "code",
      "source": [
        "s2 = \"I am another string, but I am enclosed in double quotes.\"\n",
        "s2"
      ],
      "metadata": {
        "id": "daCcEljW1UqT"
      },
      "execution_count": null,
      "outputs": []
    },
    {
      "cell_type": "code",
      "source": [
        "s3 = 'It doesn\\'t matter!'\n",
        "s3"
      ],
      "metadata": {
        "id": "YNWTAJUi1giE"
      },
      "execution_count": null,
      "outputs": []
    },
    {
      "cell_type": "code",
      "source": [
        "s3 = \"It doesn't matter!\"\n",
        "s3"
      ],
      "metadata": {
        "id": "4Kt9cbYw1qZo"
      },
      "execution_count": null,
      "outputs": []
    },
    {
      "cell_type": "code",
      "source": [
        "txt = \"He said: \\\"It doesn't matter, if you enclose a string in single or double quotes!\\\"\"\n",
        "txt"
      ],
      "metadata": {
        "id": "E0DNsU4U1-_C"
      },
      "execution_count": null,
      "outputs": []
    },
    {
      "cell_type": "code",
      "source": [
        "txt = 'He said: \"It doesn\\'t matter, if you enclose a string in single or double quotes!\"'\n",
        "txt"
      ],
      "metadata": {
        "id": "aXvn_jio2ef9"
      },
      "execution_count": null,
      "outputs": []
    },
    {
      "cell_type": "code",
      "source": [
        "txt = 'He said: \"It doesn\\'t matter, if you enclose a string in single or double quotes!\"'\n",
        "print(txt)"
      ],
      "metadata": {
        "id": "4swKx9Q02831"
      },
      "execution_count": null,
      "outputs": []
    },
    {
      "cell_type": "code",
      "source": [
        "txt = '''A string in triple quotes can extend\n",
        "over multiple lines like this one, and can contain\n",
        "'single' and \"double\" quotes.'''\n",
        "txt"
      ],
      "metadata": {
        "id": "UdfmYq7T3NUr"
      },
      "execution_count": null,
      "outputs": []
    },
    {
      "cell_type": "code",
      "source": [
        "print(txt)"
      ],
      "metadata": {
        "id": "JqvOxeiy3uxH"
      },
      "execution_count": null,
      "outputs": []
    },
    {
      "cell_type": "code",
      "source": [
        "txt = '''A string in triple quotes can extend\n",
        "over multiple lines like this one, and can contain\n",
        "''single'' and \"double\" quotes.'''\n",
        "print(txt)"
      ],
      "metadata": {
        "id": "6bx1Y5KS3yfJ"
      },
      "execution_count": null,
      "outputs": []
    },
    {
      "cell_type": "code",
      "source": [
        "txt = '''A string in triple quotes can extend\n",
        "over multiple lines like this one, and can contain\n",
        "''single'' and \"\"\"double\"\"\" quotes.'''\n",
        "print(txt)"
      ],
      "metadata": {
        "id": "ZGC_X8Vy4NMC"
      },
      "execution_count": null,
      "outputs": []
    },
    {
      "cell_type": "code",
      "source": [
        "txt = '''A string in triple quotes can extend\n",
        "over multiple lines like this one, and can contain\n",
        "\\'''single''\\' and \"\"\"double\"\"\" quotes.'''\n",
        "print(txt)"
      ],
      "metadata": {
        "id": "8iR_bmxM4lC3"
      },
      "execution_count": null,
      "outputs": []
    },
    {
      "cell_type": "code",
      "source": [
        "txt = \"\"\"A string in triple quotes can extend\n",
        "over multiple lines like this one, and can contain\n",
        "'''single''' and \"double\" quotes.\"\"\"\n",
        "print(txt)"
      ],
      "metadata": {
        "id": "TkZTnaZD5N6d"
      },
      "execution_count": null,
      "outputs": []
    },
    {
      "cell_type": "code",
      "source": [
        "txt = \"\"\"A string in triple quotes can extend\n",
        "over multiple lines like this one, and can contain\n",
        "'''single''' and \\\"\"\"double\"\"\\\" quotes.\"\"\"\n",
        "print(txt)"
      ],
      "metadata": {
        "id": "UYn8nC8s5muU"
      },
      "execution_count": null,
      "outputs": []
    },
    {
      "cell_type": "code",
      "source": [
        "txt = \"\"\"A string in triple quotes can extend\n",
        "over multiple lines like this one, and can contain\n",
        "'''single''' and \"\\\"\"double\\\"\"\" quotes.\"\"\"\n",
        "print(txt)"
      ],
      "metadata": {
        "id": "sHhrj_4I59o7"
      },
      "execution_count": null,
      "outputs": []
    },
    {
      "cell_type": "code",
      "source": [
        "s = \"Hello World\"\n",
        "s"
      ],
      "metadata": {
        "colab": {
          "base_uri": "https://localhost:8080/",
          "height": 35
        },
        "id": "nD3sdu6U6LZF",
        "outputId": "e908d5d0-bc7d-482c-a289-341f3201d863"
      },
      "execution_count": 9,
      "outputs": [
        {
          "output_type": "execute_result",
          "data": {
            "text/plain": [
              "'Hello World'"
            ],
            "application/vnd.google.colaboratory.intrinsic+json": {
              "type": "string"
            }
          },
          "metadata": {},
          "execution_count": 9
        }
      ]
    },
    {
      "cell_type": "code",
      "source": [
        "s[0]"
      ],
      "metadata": {
        "id": "O-4TTiCN60V2"
      },
      "execution_count": null,
      "outputs": []
    },
    {
      "cell_type": "code",
      "source": [
        "s[-11]"
      ],
      "metadata": {
        "id": "O0szSHQK63oe"
      },
      "execution_count": null,
      "outputs": []
    },
    {
      "cell_type": "code",
      "source": [
        "s[-12]"
      ],
      "metadata": {
        "id": "P043_n087FtC"
      },
      "execution_count": null,
      "outputs": []
    },
    {
      "cell_type": "code",
      "source": [
        "s[12]"
      ],
      "metadata": {
        "id": "VETM9E2B7Q2X"
      },
      "execution_count": null,
      "outputs": []
    },
    {
      "cell_type": "code",
      "source": [
        "s[12-2]"
      ],
      "metadata": {
        "id": "PmelytGZ7fIS"
      },
      "execution_count": null,
      "outputs": []
    },
    {
      "cell_type": "code",
      "source": [
        "s[1-2]"
      ],
      "metadata": {
        "id": "sKs7tsqj7qz8"
      },
      "execution_count": null,
      "outputs": []
    },
    {
      "cell_type": "code",
      "source": [
        "len(s)"
      ],
      "metadata": {
        "colab": {
          "base_uri": "https://localhost:8080/"
        },
        "id": "lfCh2VgF72Dr",
        "outputId": "d1c62550-5fb3-42aa-e455-83497427be24"
      },
      "execution_count": 10,
      "outputs": [
        {
          "output_type": "execute_result",
          "data": {
            "text/plain": [
              "11"
            ]
          },
          "metadata": {},
          "execution_count": 10
        }
      ]
    },
    {
      "cell_type": "code",
      "source": [
        "s[len(s)-1]"
      ],
      "metadata": {
        "id": "-rZMDbr68BcE"
      },
      "execution_count": null,
      "outputs": []
    },
    {
      "cell_type": "code",
      "source": [
        "# concatenation\n",
        "\"Hello\" + \"World\""
      ],
      "metadata": {
        "id": "tnAusrsa8RnK"
      },
      "execution_count": null,
      "outputs": []
    },
    {
      "cell_type": "code",
      "source": [
        "# repetition\n",
        "\"-\" * 5"
      ],
      "metadata": {
        "id": "V6JADFKg8uPE"
      },
      "execution_count": null,
      "outputs": []
    },
    {
      "cell_type": "code",
      "source": [
        "\"~/|\\~\" * 5"
      ],
      "metadata": {
        "id": "08kGPci4803V"
      },
      "execution_count": null,
      "outputs": []
    },
    {
      "cell_type": "code",
      "source": [
        "# indexing\n",
        "s[6]"
      ],
      "metadata": {
        "id": "ZrrrQ6I-9DPY"
      },
      "execution_count": null,
      "outputs": []
    },
    {
      "cell_type": "code",
      "source": [
        "\"Python\"[0]"
      ],
      "metadata": {
        "id": "LJNBU3hi9plD"
      },
      "execution_count": null,
      "outputs": []
    },
    {
      "cell_type": "code",
      "source": [
        "\"Python\"[-2]"
      ],
      "metadata": {
        "id": "KPp-Xc719yno"
      },
      "execution_count": null,
      "outputs": []
    },
    {
      "cell_type": "code",
      "source": [
        "# slicing\n",
        "\"Python\"[2:4]"
      ],
      "metadata": {
        "id": "8uMwQfbl9OCB"
      },
      "execution_count": null,
      "outputs": []
    },
    {
      "cell_type": "code",
      "source": [
        "\"Ali Patel\"[0:3]"
      ],
      "metadata": {
        "colab": {
          "base_uri": "https://localhost:8080/",
          "height": 35
        },
        "id": "qPx6yKKy-ap7",
        "outputId": "82e20496-990b-42d8-90af-79acc57b420f"
      },
      "execution_count": 3,
      "outputs": [
        {
          "output_type": "execute_result",
          "data": {
            "text/plain": [
              "'Ali'"
            ],
            "application/vnd.google.colaboratory.intrinsic+json": {
              "type": "string"
            }
          },
          "metadata": {},
          "execution_count": 3
        }
      ]
    },
    {
      "cell_type": "code",
      "source": [
        "\"Ali Patel\"[4:9]"
      ],
      "metadata": {
        "colab": {
          "base_uri": "https://localhost:8080/",
          "height": 35
        },
        "id": "yJWrWuXT_G_e",
        "outputId": "460449aa-0333-48c8-e0e6-49a9fe035b05"
      },
      "execution_count": 4,
      "outputs": [
        {
          "output_type": "execute_result",
          "data": {
            "text/plain": [
              "'Patel'"
            ],
            "application/vnd.google.colaboratory.intrinsic+json": {
              "type": "string"
            }
          },
          "metadata": {},
          "execution_count": 4
        }
      ]
    },
    {
      "cell_type": "code",
      "source": [
        "# size / length\n",
        "len('Ali Patel')"
      ],
      "metadata": {
        "id": "QikvJ4TI_axA"
      },
      "execution_count": null,
      "outputs": []
    },
    {
      "cell_type": "code",
      "source": [
        "txt = '''A string in triple quotes can extend\n",
        "over multiple lines like this one, and can contain\n",
        "'single' and \"double\" quotes.'''\n",
        "txt\n"
      ],
      "metadata": {
        "id": "DkZJnUTz_hGF"
      },
      "execution_count": null,
      "outputs": []
    },
    {
      "cell_type": "code",
      "source": [
        "len(txt)"
      ],
      "metadata": {
        "id": "7FQhLLPiADmp"
      },
      "execution_count": null,
      "outputs": []
    },
    {
      "cell_type": "code",
      "source": [
        "txt[0]"
      ],
      "metadata": {
        "id": "a2OptV8GAGre"
      },
      "execution_count": null,
      "outputs": []
    },
    {
      "cell_type": "code",
      "source": [
        "txt[-1]"
      ],
      "metadata": {
        "id": "kRbGLMc0AKcG"
      },
      "execution_count": null,
      "outputs": []
    },
    {
      "cell_type": "code",
      "source": [
        "txt[2:8]"
      ],
      "metadata": {
        "id": "t6pSGTkuAM8y"
      },
      "execution_count": null,
      "outputs": []
    },
    {
      "cell_type": "code",
      "source": [
        "print(txt)"
      ],
      "metadata": {
        "id": "Shjr94n8AVUm"
      },
      "execution_count": null,
      "outputs": []
    },
    {
      "cell_type": "markdown",
      "source": [
        "# Session 7"
      ],
      "metadata": {
        "id": "LZ9QdCEO90C6"
      }
    },
    {
      "cell_type": "code",
      "source": [
        "# immutable strings\n",
        "s = \"Some things are immutable!\"\n",
        "s[-1]"
      ],
      "metadata": {
        "id": "WSqseinAAkPP"
      },
      "execution_count": null,
      "outputs": []
    },
    {
      "cell_type": "code",
      "source": [
        "s[-1] = \".\""
      ],
      "metadata": {
        "id": "XJfSjnaT9-At"
      },
      "execution_count": null,
      "outputs": []
    },
    {
      "cell_type": "code",
      "source": [
        "s = \"Hello World\""
      ],
      "metadata": {
        "id": "6jiBACvA-6aJ"
      },
      "execution_count": null,
      "outputs": []
    },
    {
      "cell_type": "code",
      "source": [
        "s[0]"
      ],
      "metadata": {
        "id": "Bv2bEKgh_ElT"
      },
      "execution_count": null,
      "outputs": []
    },
    {
      "cell_type": "code",
      "source": [
        "s[0] = \"D\""
      ],
      "metadata": {
        "id": "B8w1KQRi_cXw"
      },
      "execution_count": null,
      "outputs": []
    },
    {
      "cell_type": "code",
      "source": [
        "#   escacpe sequence\n",
        "\n",
        "\"this is backslash \\\\\""
      ],
      "metadata": {
        "id": "b3UGrI4J_4Fz"
      },
      "execution_count": null,
      "outputs": []
    },
    {
      "cell_type": "code",
      "source": [
        "print(\"this is backslash \\\\\")"
      ],
      "metadata": {
        "id": "cHEQqvFAA_jM"
      },
      "execution_count": null,
      "outputs": []
    },
    {
      "cell_type": "code",
      "source": [
        "\"following is the character: \\n \\\\\""
      ],
      "metadata": {
        "id": "VmK5P4WBBVns"
      },
      "execution_count": null,
      "outputs": []
    },
    {
      "cell_type": "code",
      "source": [
        "print(\"following is the character: \\n\\t\\\\\")"
      ],
      "metadata": {
        "id": "7r8CQ5VVBzwy"
      },
      "execution_count": null,
      "outputs": []
    },
    {
      "cell_type": "code",
      "source": [
        "print(\"beep \\a beep \\a\")"
      ],
      "metadata": {
        "id": "2t5pdCx0B6vG"
      },
      "execution_count": null,
      "outputs": []
    },
    {
      "cell_type": "code",
      "source": [
        "print(\"\\u1FAE9\")"
      ],
      "metadata": {
        "id": "iWQKCm99CyoO"
      },
      "execution_count": null,
      "outputs": []
    },
    {
      "cell_type": "code",
      "source": [
        "print(\"\\u0651\")"
      ],
      "metadata": {
        "id": "7GxNf1wtDMvN"
      },
      "execution_count": null,
      "outputs": []
    },
    {
      "cell_type": "code",
      "source": [
        "print(\"\\u0627\\u064F\\u0654\")"
      ],
      "metadata": {
        "id": "I7rQembuDo9O"
      },
      "execution_count": null,
      "outputs": []
    },
    {
      "cell_type": "code",
      "source": [
        "# types\n",
        "a =10\n",
        "type(a)"
      ],
      "metadata": {
        "id": "VpgzsovjEIjR"
      },
      "execution_count": null,
      "outputs": []
    },
    {
      "cell_type": "code",
      "source": [
        "type(10)"
      ],
      "metadata": {
        "id": "PExM0QTvEp0v"
      },
      "execution_count": null,
      "outputs": []
    },
    {
      "cell_type": "code",
      "source": [
        "type(12.66)"
      ],
      "metadata": {
        "id": "DXOPqNBfE5Qm"
      },
      "execution_count": null,
      "outputs": []
    },
    {
      "cell_type": "code",
      "source": [
        "type(\"hello\")"
      ],
      "metadata": {
        "id": "dPheh5zYFETm"
      },
      "execution_count": null,
      "outputs": []
    },
    {
      "cell_type": "code",
      "source": [
        "# operator\n",
        "10 / 3"
      ],
      "metadata": {
        "id": "eQGL_gQ-FamR"
      },
      "execution_count": null,
      "outputs": []
    },
    {
      "cell_type": "code",
      "source": [
        "10 // 3"
      ],
      "metadata": {
        "id": "9kbiJDY8GOS4"
      },
      "execution_count": null,
      "outputs": []
    },
    {
      "cell_type": "code",
      "source": [
        "11 // 3"
      ],
      "metadata": {
        "id": "mwd03bMcGR_t"
      },
      "execution_count": null,
      "outputs": []
    },
    {
      "cell_type": "code",
      "source": [
        "13 // 3\n"
      ],
      "metadata": {
        "id": "_ur0yh21GZiu"
      },
      "execution_count": null,
      "outputs": []
    },
    {
      "cell_type": "code",
      "source": [
        "# modulo operator %\n",
        "6 % 3"
      ],
      "metadata": {
        "id": "KvBkwxNYGg9w"
      },
      "execution_count": null,
      "outputs": []
    },
    {
      "cell_type": "code",
      "source": [
        "7 % 3"
      ],
      "metadata": {
        "id": "LkfwQtxdG17I"
      },
      "execution_count": null,
      "outputs": []
    },
    {
      "cell_type": "code",
      "source": [
        "27 % 3"
      ],
      "metadata": {
        "id": "ynjx5CzxG_ur"
      },
      "execution_count": null,
      "outputs": []
    },
    {
      "cell_type": "code",
      "source": [
        "44 % 5"
      ],
      "metadata": {
        "id": "3l8Mt8hqHZ5F"
      },
      "execution_count": null,
      "outputs": []
    },
    {
      "cell_type": "code",
      "source": [
        "55 % 7"
      ],
      "metadata": {
        "id": "7YvPv_9eHeeG"
      },
      "execution_count": null,
      "outputs": []
    },
    {
      "cell_type": "markdown",
      "source": [
        "# Session 8"
      ],
      "metadata": {
        "id": "CGHCY4dCc-Eb"
      }
    },
    {
      "cell_type": "code",
      "source": [
        "98 % 9"
      ],
      "metadata": {
        "id": "7njzdWklHvZ3"
      },
      "execution_count": null,
      "outputs": []
    },
    {
      "cell_type": "code",
      "source": [
        "7 % 9"
      ],
      "metadata": {
        "id": "_3cyBDXSdMpJ"
      },
      "execution_count": null,
      "outputs": []
    },
    {
      "cell_type": "code",
      "source": [
        "-3 + 4"
      ],
      "metadata": {
        "id": "r9Qauqx1dgCc"
      },
      "execution_count": null,
      "outputs": []
    },
    {
      "cell_type": "code",
      "source": [
        "x = 42\n",
        "y = x\n",
        "x, y"
      ],
      "metadata": {
        "id": "mKKQYNQid01s"
      },
      "execution_count": null,
      "outputs": []
    },
    {
      "cell_type": "code",
      "source": [
        "y = y + 1\n",
        "x, y"
      ],
      "metadata": {
        "id": "kKMsFTGefriU"
      },
      "execution_count": null,
      "outputs": []
    },
    {
      "cell_type": "code",
      "source": [
        "# Sequential Data types\n",
        "# string -> sequence or list of CHARACTER OBJECT\n",
        "text = \"Lists and Strings can be accessed via indices!\"\n",
        "print(text[0], text[10], text[-1])"
      ],
      "metadata": {
        "id": "-V6EHXzygAdc",
        "outputId": "c87de1e0-222c-448e-b2a7-33a63c7dd2e7",
        "colab": {
          "base_uri": "https://localhost:8080/"
        }
      },
      "execution_count": 1,
      "outputs": [
        {
          "output_type": "stream",
          "name": "stdout",
          "text": [
            "L S !\n"
          ]
        }
      ]
    },
    {
      "cell_type": "code",
      "source": [
        "product_code = \"A11-905\"\n",
        "product_code"
      ],
      "metadata": {
        "id": "ANgGJH_ygm6s",
        "outputId": "36628a89-786e-4b48-977b-73e634793ab7",
        "colab": {
          "base_uri": "https://localhost:8080/",
          "height": 35
        }
      },
      "execution_count": 2,
      "outputs": [
        {
          "output_type": "execute_result",
          "data": {
            "text/plain": [
              "'A11-905'"
            ],
            "application/vnd.google.colaboratory.intrinsic+json": {
              "type": "string"
            }
          },
          "metadata": {},
          "execution_count": 2
        }
      ]
    },
    {
      "cell_type": "markdown",
      "source": [
        "# Session 9 - Revision\n",
        "# Session 10"
      ],
      "metadata": {
        "id": "dW1fk878AzmQ"
      }
    },
    {
      "cell_type": "code",
      "source": [
        "# Lists -> List of VALUE OBJECTs of different types\n",
        "cities = [\"Vienna\", \"London\", \"Paris\",\n",
        "          \"Berlin\", \"Zurich\", \"Hamburg\"]\n",
        "cities"
      ],
      "metadata": {
        "id": "L3zKIEczig2P",
        "outputId": "8b0b72b2-f7cb-4d55-8f0a-773e63bc7396",
        "colab": {
          "base_uri": "https://localhost:8080/"
        }
      },
      "execution_count": 11,
      "outputs": [
        {
          "output_type": "execute_result",
          "data": {
            "text/plain": [
              "['Vienna', 'London', 'Paris', 'Berlin', 'Zurich', 'Hamburg']"
            ]
          },
          "metadata": {},
          "execution_count": 11
        }
      ]
    },
    {
      "cell_type": "code",
      "source": [
        "print(cities[0])\n",
        "print(cities[2])\n",
        "print(cities[-1])"
      ],
      "metadata": {
        "id": "n3S9f5VCEc6E",
        "outputId": "2413cd5c-eba0-4522-8e5b-804300dbc485",
        "colab": {
          "base_uri": "https://localhost:8080/"
        }
      },
      "execution_count": 6,
      "outputs": [
        {
          "output_type": "stream",
          "name": "stdout",
          "text": [
            "Vienna\n",
            "Paris\n",
            "Hamburg\n"
          ]
        }
      ]
    },
    {
      "cell_type": "code",
      "source": [
        "countries = [\"Germany\", \"Switzerland\", \"Austria\",\n",
        "             \"France\", \"Belgium\", \"Netherlands\"]\n",
        "countries"
      ],
      "metadata": {
        "id": "KaS7NkK2FIP9",
        "outputId": "4fe2fb07-13eb-453a-cfac-d6cf0574e7e8",
        "colab": {
          "base_uri": "https://localhost:8080/"
        }
      },
      "execution_count": 13,
      "outputs": [
        {
          "output_type": "execute_result",
          "data": {
            "text/plain": [
              "['Germany', 'Switzerland', 'Austria', 'France', 'Belgium', 'Netherlands']"
            ]
          },
          "metadata": {},
          "execution_count": 13
        }
      ]
    },
    {
      "cell_type": "code",
      "source": [
        "len(countries)  # the length of the list, i.e. the number of objects"
      ],
      "metadata": {
        "id": "nv94WzOjFnzy",
        "outputId": "520a7072-ff58-478a-ee28-563569b31aef",
        "colab": {
          "base_uri": "https://localhost:8080/"
        }
      },
      "execution_count": 14,
      "outputs": [
        {
          "output_type": "execute_result",
          "data": {
            "text/plain": [
              "6"
            ]
          },
          "metadata": {},
          "execution_count": 14
        }
      ]
    },
    {
      "cell_type": "code",
      "source": [
        "fib = [1, 1, 2, 3, 5, 8, 13, 21, 34, 55]\n",
        "fib"
      ],
      "metadata": {
        "id": "E8d9PeBFFuIU",
        "outputId": "92d98462-44a5-41fe-ca96-e807ba4b054b",
        "colab": {
          "base_uri": "https://localhost:8080/"
        }
      },
      "execution_count": 15,
      "outputs": [
        {
          "output_type": "execute_result",
          "data": {
            "text/plain": [
              "[1, 1, 2, 3, 5, 8, 13, 21, 34, 55]"
            ]
          },
          "metadata": {},
          "execution_count": 15
        }
      ]
    },
    {
      "cell_type": "code",
      "source": [
        "len(fib)"
      ],
      "metadata": {
        "id": "yWWdU3GCHEfj",
        "outputId": "043d6350-b5bf-4b59-bd93-3cc79e76a373",
        "colab": {
          "base_uri": "https://localhost:8080/"
        }
      },
      "execution_count": 16,
      "outputs": [
        {
          "output_type": "execute_result",
          "data": {
            "text/plain": [
              "10"
            ]
          },
          "metadata": {},
          "execution_count": 16
        }
      ]
    },
    {
      "cell_type": "code",
      "source": [
        "data = []\n",
        "data\n"
      ],
      "metadata": {
        "id": "ArJPQWigHIUq",
        "outputId": "e07b7570-f663-49e6-edc0-22759691aee9",
        "colab": {
          "base_uri": "https://localhost:8080/"
        }
      },
      "execution_count": 17,
      "outputs": [
        {
          "output_type": "execute_result",
          "data": {
            "text/plain": [
              "[]"
            ]
          },
          "metadata": {},
          "execution_count": 17
        }
      ]
    },
    {
      "cell_type": "code",
      "source": [
        "len(data)"
      ],
      "metadata": {
        "id": "DpHvh4RcHfNH",
        "outputId": "79b6c4ff-f5c0-4247-d041-5b2db029077d",
        "colab": {
          "base_uri": "https://localhost:8080/"
        }
      },
      "execution_count": 18,
      "outputs": [
        {
          "output_type": "execute_result",
          "data": {
            "text/plain": [
              "0"
            ]
          },
          "metadata": {},
          "execution_count": 18
        }
      ]
    },
    {
      "cell_type": "code",
      "source": [
        "[1,1,2,3,5,8]"
      ],
      "metadata": {
        "id": "sINHXVh5HqQN",
        "outputId": "80d6c4dc-f8e7-44a0-9314-4530a3b8c6a7",
        "colab": {
          "base_uri": "https://localhost:8080/"
        }
      },
      "execution_count": 19,
      "outputs": [
        {
          "output_type": "execute_result",
          "data": {
            "text/plain": [
              "[1, 1, 2, 3, 5, 8]"
            ]
          },
          "metadata": {},
          "execution_count": 19
        }
      ]
    },
    {
      "cell_type": "code",
      "source": [
        "data = [42, \"What's the question?\", 3.1415]\n",
        "data"
      ],
      "metadata": {
        "id": "syH_DeHKHw7S",
        "outputId": "d6e96442-baf2-409b-8c43-4bf80d26c9b1",
        "colab": {
          "base_uri": "https://localhost:8080/"
        }
      },
      "execution_count": 20,
      "outputs": [
        {
          "output_type": "execute_result",
          "data": {
            "text/plain": [
              "[42, \"What's the question?\", 3.1415]"
            ]
          },
          "metadata": {},
          "execution_count": 20
        }
      ]
    },
    {
      "cell_type": "code",
      "source": [
        "len(data)"
      ],
      "metadata": {
        "id": "YKUNCSZuIV3S",
        "outputId": "0feecccd-ac33-4ded-be2e-2aee05d78603",
        "colab": {
          "base_uri": "https://localhost:8080/"
        }
      },
      "execution_count": 21,
      "outputs": [
        {
          "output_type": "execute_result",
          "data": {
            "text/plain": [
              "3"
            ]
          },
          "metadata": {},
          "execution_count": 21
        }
      ]
    },
    {
      "cell_type": "code",
      "source": [
        "data[0]"
      ],
      "metadata": {
        "id": "xfHaZYOCJ3uZ",
        "outputId": "f937a90f-5798-4877-de42-da3f7fb2551f",
        "colab": {
          "base_uri": "https://localhost:8080/"
        }
      },
      "execution_count": 22,
      "outputs": [
        {
          "output_type": "execute_result",
          "data": {
            "text/plain": [
              "42"
            ]
          },
          "metadata": {},
          "execution_count": 22
        }
      ]
    },
    {
      "cell_type": "code",
      "source": [
        "data[3]"
      ],
      "metadata": {
        "id": "Jk2-IzSTKFhn",
        "outputId": "ca6b71f5-6446-4a17-fef8-5d4a77cbf99b",
        "colab": {
          "base_uri": "https://localhost:8080/",
          "height": 141
        }
      },
      "execution_count": 23,
      "outputs": [
        {
          "output_type": "error",
          "ename": "IndexError",
          "evalue": "list index out of range",
          "traceback": [
            "\u001b[0;31m---------------------------------------------------------------------------\u001b[0m",
            "\u001b[0;31mIndexError\u001b[0m                                Traceback (most recent call last)",
            "\u001b[0;32m<ipython-input-23-71770fc9596b>\u001b[0m in \u001b[0;36m<cell line: 1>\u001b[0;34m()\u001b[0m\n\u001b[0;32m----> 1\u001b[0;31m \u001b[0mdata\u001b[0m\u001b[0;34m[\u001b[0m\u001b[0;36m3\u001b[0m\u001b[0;34m]\u001b[0m\u001b[0;34m\u001b[0m\u001b[0;34m\u001b[0m\u001b[0m\n\u001b[0m",
            "\u001b[0;31mIndexError\u001b[0m: list index out of range"
          ]
        }
      ]
    },
    {
      "cell_type": "code",
      "source": [
        "data[-4]"
      ],
      "metadata": {
        "id": "BuDYHLL0KQvH",
        "outputId": "bb74b66e-823c-4ce4-80a8-2ca996db3775",
        "colab": {
          "base_uri": "https://localhost:8080/",
          "height": 141
        }
      },
      "execution_count": 24,
      "outputs": [
        {
          "output_type": "error",
          "ename": "IndexError",
          "evalue": "list index out of range",
          "traceback": [
            "\u001b[0;31m---------------------------------------------------------------------------\u001b[0m",
            "\u001b[0;31mIndexError\u001b[0m                                Traceback (most recent call last)",
            "\u001b[0;32m<ipython-input-24-a57ef25fcfe0>\u001b[0m in \u001b[0;36m<cell line: 1>\u001b[0;34m()\u001b[0m\n\u001b[0;32m----> 1\u001b[0;31m \u001b[0mdata\u001b[0m\u001b[0;34m[\u001b[0m\u001b[0;34m-\u001b[0m\u001b[0;36m4\u001b[0m\u001b[0;34m]\u001b[0m\u001b[0;34m\u001b[0m\u001b[0;34m\u001b[0m\u001b[0m\n\u001b[0m",
            "\u001b[0;31mIndexError\u001b[0m: list index out of range"
          ]
        }
      ]
    },
    {
      "cell_type": "code",
      "source": [
        "# list of lists, nested list, nesting?\n",
        "data = [[\"London\",\"England\", 7556900], [\"Paris\",\"France\",2193031], [\"Bern\", \"Switzerland\", 123466]]\n",
        "data"
      ],
      "metadata": {
        "id": "lPufC6A1LkWA",
        "outputId": "f0b7ecea-a33c-495c-c8c0-0a5c6d57cd48",
        "colab": {
          "base_uri": "https://localhost:8080/"
        }
      },
      "execution_count": 25,
      "outputs": [
        {
          "output_type": "execute_result",
          "data": {
            "text/plain": [
              "[['London', 'England', 7556900],\n",
              " ['Paris', 'France', 2193031],\n",
              " ['Bern', 'Switzerland', 123466]]"
            ]
          },
          "metadata": {},
          "execution_count": 25
        }
      ]
    },
    {
      "cell_type": "code",
      "source": [
        "len(data)"
      ],
      "metadata": {
        "id": "OqHJB339MUKH",
        "outputId": "15553893-4505-45e5-ff24-4ffd6f4b0252",
        "colab": {
          "base_uri": "https://localhost:8080/"
        }
      },
      "execution_count": 26,
      "outputs": [
        {
          "output_type": "execute_result",
          "data": {
            "text/plain": [
              "3"
            ]
          },
          "metadata": {},
          "execution_count": 26
        }
      ]
    },
    {
      "cell_type": "code",
      "source": [
        "data[-1]"
      ],
      "metadata": {
        "id": "3a_oPTiDMfrU",
        "outputId": "16bdd691-516f-49dc-c7e1-fba55864b10d",
        "colab": {
          "base_uri": "https://localhost:8080/"
        }
      },
      "execution_count": 27,
      "outputs": [
        {
          "output_type": "execute_result",
          "data": {
            "text/plain": [
              "['Bern', 'Switzerland', 123466]"
            ]
          },
          "metadata": {},
          "execution_count": 27
        }
      ]
    },
    {
      "cell_type": "code",
      "source": [
        "data[-3]"
      ],
      "metadata": {
        "id": "VJv-Q_mcMq8N",
        "outputId": "8230fcda-ae0b-406e-821c-4466d018a038",
        "colab": {
          "base_uri": "https://localhost:8080/"
        }
      },
      "execution_count": 28,
      "outputs": [
        {
          "output_type": "execute_result",
          "data": {
            "text/plain": [
              "['London', 'England', 7556900]"
            ]
          },
          "metadata": {},
          "execution_count": 28
        }
      ]
    },
    {
      "cell_type": "code",
      "source": [
        "data[1]"
      ],
      "metadata": {
        "id": "FpsP1Gx_Muer",
        "outputId": "6ee4aef9-a46b-422b-bd21-6aa82dee716c",
        "colab": {
          "base_uri": "https://localhost:8080/"
        }
      },
      "execution_count": 29,
      "outputs": [
        {
          "output_type": "execute_result",
          "data": {
            "text/plain": [
              "['Paris', 'France', 2193031]"
            ]
          },
          "metadata": {},
          "execution_count": 29
        }
      ]
    },
    {
      "cell_type": "code",
      "source": [
        "data[1][1]"
      ],
      "metadata": {
        "id": "CgnwmBLzMyA9",
        "outputId": "a5674450-6d56-4e1b-b1de-5c15ec97a2a8",
        "colab": {
          "base_uri": "https://localhost:8080/",
          "height": 35
        }
      },
      "execution_count": 30,
      "outputs": [
        {
          "output_type": "execute_result",
          "data": {
            "text/plain": [
              "'France'"
            ],
            "application/vnd.google.colaboratory.intrinsic+json": {
              "type": "string"
            }
          },
          "metadata": {},
          "execution_count": 30
        }
      ]
    },
    {
      "cell_type": "code",
      "source": [
        "data[-1][-1]"
      ],
      "metadata": {
        "id": "bzurPVFlNEHu",
        "outputId": "485214ff-7d17-4d5b-bdfb-0e707933de54",
        "colab": {
          "base_uri": "https://localhost:8080/"
        }
      },
      "execution_count": 31,
      "outputs": [
        {
          "output_type": "execute_result",
          "data": {
            "text/plain": [
              "123466"
            ]
          },
          "metadata": {},
          "execution_count": 31
        }
      ]
    },
    {
      "cell_type": "code",
      "source": [
        "data[1][0:2]"
      ],
      "metadata": {
        "id": "S_phqwaMNcnH",
        "outputId": "f7f2d1e6-20b9-4ceb-bbea-fd6f61da67fd",
        "colab": {
          "base_uri": "https://localhost:8080/"
        }
      },
      "execution_count": 32,
      "outputs": [
        {
          "output_type": "execute_result",
          "data": {
            "text/plain": [
              "['Paris', 'France']"
            ]
          },
          "metadata": {},
          "execution_count": 32
        }
      ]
    },
    {
      "cell_type": "code",
      "source": [
        "data[1][0:2][0:1]"
      ],
      "metadata": {
        "id": "J0iV5XelNu6n",
        "outputId": "1ee48e00-9dc6-492e-bc39-92be1df3c548",
        "colab": {
          "base_uri": "https://localhost:8080/"
        }
      },
      "execution_count": 33,
      "outputs": [
        {
          "output_type": "execute_result",
          "data": {
            "text/plain": [
              "['Paris']"
            ]
          },
          "metadata": {},
          "execution_count": 33
        }
      ]
    },
    {
      "cell_type": "code",
      "source": [
        "data[1][0:2][0:1][0:1]"
      ],
      "metadata": {
        "id": "mvsGbPNNN9PH",
        "outputId": "0060223d-7cd4-48e1-a29a-de823ff6b146",
        "colab": {
          "base_uri": "https://localhost:8080/"
        }
      },
      "execution_count": 34,
      "outputs": [
        {
          "output_type": "execute_result",
          "data": {
            "text/plain": [
              "['Paris']"
            ]
          },
          "metadata": {},
          "execution_count": 34
        }
      ]
    },
    {
      "cell_type": "code",
      "source": [
        "data[1][0:2][0:1][0]"
      ],
      "metadata": {
        "id": "0eEL1zJOOGnC",
        "outputId": "7b81061f-7bb9-4dc2-a113-b4a8eb88ee56",
        "colab": {
          "base_uri": "https://localhost:8080/",
          "height": 35
        }
      },
      "execution_count": 35,
      "outputs": [
        {
          "output_type": "execute_result",
          "data": {
            "text/plain": [
              "'Paris'"
            ],
            "application/vnd.google.colaboratory.intrinsic+json": {
              "type": "string"
            }
          },
          "metadata": {},
          "execution_count": 35
        }
      ]
    },
    {
      "cell_type": "code",
      "source": [
        "data[1][0:2][0:1][0][0:3]"
      ],
      "metadata": {
        "id": "IeL89zoWOMqA",
        "outputId": "7d9c745c-ea4a-4d46-95ff-1a74c8c04742",
        "colab": {
          "base_uri": "https://localhost:8080/",
          "height": 35
        }
      },
      "execution_count": 36,
      "outputs": [
        {
          "output_type": "execute_result",
          "data": {
            "text/plain": [
              "'Par'"
            ],
            "application/vnd.google.colaboratory.intrinsic+json": {
              "type": "string"
            }
          },
          "metadata": {},
          "execution_count": 36
        }
      ]
    },
    {
      "cell_type": "code",
      "source": [],
      "metadata": {
        "id": "34f_xSd7OXor"
      },
      "execution_count": null,
      "outputs": []
    }
  ]
}