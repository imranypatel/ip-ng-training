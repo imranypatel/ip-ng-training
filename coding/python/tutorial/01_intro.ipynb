{
  "nbformat": 4,
  "nbformat_minor": 0,
  "metadata": {
    "colab": {
      "provenance": [],
      "authorship_tag": "ABX9TyPZ2QXXn3EzO4eP0UJLxDtU",
      "include_colab_link": true
    },
    "kernelspec": {
      "name": "python3",
      "display_name": "Python 3"
    },
    "language_info": {
      "name": "python"
    }
  },
  "cells": [
    {
      "cell_type": "markdown",
      "metadata": {
        "id": "view-in-github",
        "colab_type": "text"
      },
      "source": [
        "<a href=\"https://colab.research.google.com/github/imranypatel/ip-ng-training/blob/main/coding/python/tutorial/01_intro.ipynb\" target=\"_parent\"><img src=\"https://colab.research.google.com/assets/colab-badge.svg\" alt=\"Open In Colab\"/></a>"
      ]
    },
    {
      "cell_type": "markdown",
      "source": [
        "Hello,\n",
        "Press Shift+Enter in the following cells to check the output."
      ],
      "metadata": {
        "id": "-nI0yhGOrcJc"
      }
    },
    {
      "cell_type": "code",
      "execution_count": null,
      "metadata": {
        "id": "bT4P5P_fmlSa"
      },
      "outputs": [],
      "source": [
        "# print to check the current version of python environment\n",
        "import sys\n",
        "print(sys.version)"
      ]
    },
    {
      "cell_type": "code",
      "source": [
        "# just check basic addition\n",
        "1+1"
      ],
      "metadata": {
        "id": "S4dTk1TdoSZb"
      },
      "execution_count": null,
      "outputs": []
    },
    {
      "cell_type": "code",
      "source": [],
      "metadata": {
        "id": "LjJH6P77o3_H"
      },
      "execution_count": null,
      "outputs": []
    }
  ]
}