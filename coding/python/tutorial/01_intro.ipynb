{
  "nbformat": 4,
  "nbformat_minor": 0,
  "metadata": {
    "colab": {
      "provenance": [],
      "authorship_tag": "ABX9TyMtx97spaobqMCKQd3AElzX",
      "include_colab_link": true
    },
    "kernelspec": {
      "name": "python3",
      "display_name": "Python 3"
    },
    "language_info": {
      "name": "python"
    }
  },
  "cells": [
    {
      "cell_type": "markdown",
      "metadata": {
        "id": "view-in-github",
        "colab_type": "text"
      },
      "source": [
        "<a href=\"https://colab.research.google.com/github/imranypatel/ip-ng-training/blob/main/coding/python/tutorial/01_intro.ipynb\" target=\"_parent\"><img src=\"https://colab.research.google.com/assets/colab-badge.svg\" alt=\"Open In Colab\"/></a>"
      ]
    },
    {
      "cell_type": "markdown",
      "source": [
        "# Interact with Python Interpreter Environment\n",
        "Press Shift+Enter in the following cells to direct interpreter to interprete the command(s)."
      ],
      "metadata": {
        "id": "-nI0yhGOrcJc"
      }
    },
    {
      "cell_type": "markdown",
      "source": [
        "# Python Version"
      ],
      "metadata": {
        "id": "RHV0HCwX5JcG"
      }
    },
    {
      "cell_type": "code",
      "execution_count": 2,
      "metadata": {
        "id": "bT4P5P_fmlSa",
        "outputId": "c5a7e070-2f66-4a89-fd48-59d4d02d6ccb",
        "colab": {
          "base_uri": "https://localhost:8080/"
        }
      },
      "outputs": [
        {
          "output_type": "stream",
          "name": "stdout",
          "text": [
            "3.10.12 (main, Nov  6 2024, 20:22:13) [GCC 11.4.0]\n"
          ]
        }
      ],
      "source": [
        "# ask interpreter to print current version of python environment\n",
        "import sys\n",
        "print(sys.version)"
      ]
    },
    {
      "cell_type": "markdown",
      "source": [
        "# Instruction or Command to the Interpreter"
      ],
      "metadata": {
        "id": "MdHKJ7cy5gIq"
      }
    },
    {
      "cell_type": "code",
      "source": [
        "# hello is not a command or instruction so should produce an error\n",
        "hello"
      ],
      "metadata": {
        "id": "OflR094l4WoA",
        "outputId": "7c3d8a59-c777-4f14-f43f-0a075637b580",
        "colab": {
          "base_uri": "https://localhost:8080/",
          "height": 159
        }
      },
      "execution_count": 3,
      "outputs": [
        {
          "output_type": "error",
          "ename": "NameError",
          "evalue": "name 'hello' is not defined",
          "traceback": [
            "\u001b[0;31m---------------------------------------------------------------------------\u001b[0m",
            "\u001b[0;31mNameError\u001b[0m                                 Traceback (most recent call last)",
            "\u001b[0;32m<ipython-input-3-034596cde574>\u001b[0m in \u001b[0;36m<cell line: 2>\u001b[0;34m()\u001b[0m\n\u001b[1;32m      1\u001b[0m \u001b[0;31m# hello is not a command or instruction so should produce an error\u001b[0m\u001b[0;34m\u001b[0m\u001b[0;34m\u001b[0m\u001b[0m\n\u001b[0;32m----> 2\u001b[0;31m \u001b[0mhello\u001b[0m\u001b[0;34m\u001b[0m\u001b[0;34m\u001b[0m\u001b[0m\n\u001b[0m",
            "\u001b[0;31mNameError\u001b[0m: name 'hello' is not defined"
          ]
        }
      ]
    },
    {
      "cell_type": "code",
      "source": [
        "# print is a command, so it should print\n",
        "print(\"Hello World\")"
      ],
      "metadata": {
        "id": "kwC9y_Bc4xjZ",
        "outputId": "7869ae83-d134-47d8-9df9-a1815bdd7c54",
        "colab": {
          "base_uri": "https://localhost:8080/"
        }
      },
      "execution_count": 4,
      "outputs": [
        {
          "output_type": "stream",
          "name": "stdout",
          "text": [
            "Hello World\n"
          ]
        }
      ]
    },
    {
      "cell_type": "markdown",
      "source": [
        "Let's test basic maths operation"
      ],
      "metadata": {
        "id": "tkS1pS36OIxX"
      }
    },
    {
      "cell_type": "code",
      "source": [
        "#\n",
        "1 + 1"
      ],
      "metadata": {
        "id": "S4dTk1TdoSZb",
        "outputId": "db527952-39c7-4189-9785-299c3bfd356b",
        "colab": {
          "base_uri": "https://localhost:8080/"
        }
      },
      "execution_count": 5,
      "outputs": [
        {
          "output_type": "execute_result",
          "data": {
            "text/plain": [
              "2"
            ]
          },
          "metadata": {},
          "execution_count": 5
        }
      ]
    },
    {
      "cell_type": "code",
      "source": [
        "4.567 * 8.323 * 17\n"
      ],
      "metadata": {
        "id": "LjJH6P77o3_H",
        "outputId": "367b2041-880e-42b0-8b62-1c84b021603e",
        "colab": {
          "base_uri": "https://localhost:8080/"
        }
      },
      "execution_count": 7,
      "outputs": [
        {
          "output_type": "execute_result",
          "data": {
            "text/plain": [
              "646.189397"
            ]
          },
          "metadata": {},
          "execution_count": 7
        }
      ]
    },
    {
      "cell_type": "code",
      "source": [
        "3 * 4 + 2"
      ],
      "metadata": {
        "id": "Rudc-rO-QRnr",
        "outputId": "d828dd8d-bda2-4b27-f23b-c1ae307c51e0",
        "colab": {
          "base_uri": "https://localhost:8080/"
        }
      },
      "execution_count": 8,
      "outputs": [
        {
          "output_type": "execute_result",
          "data": {
            "text/plain": [
              "14"
            ]
          },
          "metadata": {},
          "execution_count": 8
        }
      ]
    },
    {
      "cell_type": "code",
      "source": [
        "3 + 4 * 2"
      ],
      "metadata": {
        "id": "ZfRRcChMRLQv",
        "outputId": "677699fd-c206-4380-f39f-31c413c20ced",
        "colab": {
          "base_uri": "https://localhost:8080/"
        }
      },
      "execution_count": 9,
      "outputs": [
        {
          "output_type": "execute_result",
          "data": {
            "text/plain": [
              "11"
            ]
          },
          "metadata": {},
          "execution_count": 9
        }
      ]
    },
    {
      "cell_type": "code",
      "source": [
        "1"
      ],
      "metadata": {
        "id": "4dRq9wP1RYia",
        "outputId": "1c8fb76d-2d86-49bc-9c0c-59d426d54d79",
        "colab": {
          "base_uri": "https://localhost:8080/"
        }
      },
      "execution_count": 12,
      "outputs": [
        {
          "output_type": "execute_result",
          "data": {
            "text/plain": [
              "1"
            ]
          },
          "metadata": {},
          "execution_count": 12
        }
      ]
    },
    {
      "cell_type": "code",
      "source": [
        "1 + 4 * 3"
      ],
      "metadata": {
        "id": "ZGrDyAaSRqst",
        "outputId": "f636767b-1657-4033-ba71-319248f86fd7",
        "colab": {
          "base_uri": "https://localhost:8080/"
        }
      },
      "execution_count": 13,
      "outputs": [
        {
          "output_type": "execute_result",
          "data": {
            "text/plain": [
              "13"
            ]
          },
          "metadata": {},
          "execution_count": 13
        }
      ]
    },
    {
      "cell_type": "code",
      "source": [
        "100"
      ],
      "metadata": {
        "id": "Ei-euj79Ryo8",
        "outputId": "692a157f-79ca-4a7b-c626-3579e50d3105",
        "colab": {
          "base_uri": "https://localhost:8080/"
        }
      },
      "execution_count": 14,
      "outputs": [
        {
          "output_type": "execute_result",
          "data": {
            "text/plain": [
              "100"
            ]
          },
          "metadata": {},
          "execution_count": 14
        }
      ]
    },
    {
      "cell_type": "code",
      "source": [
        "+"
      ],
      "metadata": {
        "id": "tV49xSh_SNZQ",
        "outputId": "0d15f9ec-cfc2-4f55-8548-4ba8d6268e03",
        "colab": {
          "base_uri": "https://localhost:8080/",
          "height": 106
        }
      },
      "execution_count": 15,
      "outputs": [
        {
          "output_type": "error",
          "ename": "SyntaxError",
          "evalue": "invalid syntax (<ipython-input-15-0b024bbfe84e>, line 1)",
          "traceback": [
            "\u001b[0;36m  File \u001b[0;32m\"<ipython-input-15-0b024bbfe84e>\"\u001b[0;36m, line \u001b[0;32m1\u001b[0m\n\u001b[0;31m    +\u001b[0m\n\u001b[0m     ^\u001b[0m\n\u001b[0;31mSyntaxError\u001b[0m\u001b[0;31m:\u001b[0m invalid syntax\n"
          ]
        }
      ]
    },
    {
      "cell_type": "code",
      "source": [
        "3 + (2 * 4)"
      ],
      "metadata": {
        "id": "WPR_RzHXSWYW",
        "outputId": "32c5f0bf-f912-4cd0-be9f-05c2068ccba5",
        "colab": {
          "base_uri": "https://localhost:8080/"
        }
      },
      "execution_count": 16,
      "outputs": [
        {
          "output_type": "execute_result",
          "data": {
            "text/plain": [
              "11"
            ]
          },
          "metadata": {},
          "execution_count": 16
        }
      ]
    },
    {
      "cell_type": "code",
      "source": [
        "(3 + 2) * 4"
      ],
      "metadata": {
        "id": "hJsBDUyMSsSl",
        "outputId": "3ff1086e-f899-4ce7-f0e4-0b0f1f10677c",
        "colab": {
          "base_uri": "https://localhost:8080/"
        }
      },
      "execution_count": 17,
      "outputs": [
        {
          "output_type": "execute_result",
          "data": {
            "text/plain": [
              "20"
            ]
          },
          "metadata": {},
          "execution_count": 17
        }
      ]
    },
    {
      "cell_type": "code",
      "source": [
        "3 +"
      ],
      "metadata": {
        "id": "tvonxYXVS5K7",
        "outputId": "ba94340b-bda2-43fa-fe1b-8a73506bbfd4",
        "colab": {
          "base_uri": "https://localhost:8080/",
          "height": 106
        }
      },
      "execution_count": 18,
      "outputs": [
        {
          "output_type": "error",
          "ename": "SyntaxError",
          "evalue": "invalid syntax (<ipython-input-18-3b36d4dc5165>, line 1)",
          "traceback": [
            "\u001b[0;36m  File \u001b[0;32m\"<ipython-input-18-3b36d4dc5165>\"\u001b[0;36m, line \u001b[0;32m1\u001b[0m\n\u001b[0;31m    3 +\u001b[0m\n\u001b[0m       ^\u001b[0m\n\u001b[0;31mSyntaxError\u001b[0m\u001b[0;31m:\u001b[0m invalid syntax\n"
          ]
        }
      ]
    },
    {
      "cell_type": "code",
      "source": [
        "3 - 2"
      ],
      "metadata": {
        "id": "d7bWmUQzTCOP",
        "outputId": "073e5118-8fb0-4c85-e5b3-4d339b1cfae8",
        "colab": {
          "base_uri": "https://localhost:8080/"
        }
      },
      "execution_count": 19,
      "outputs": [
        {
          "output_type": "execute_result",
          "data": {
            "text/plain": [
              "1"
            ]
          },
          "metadata": {},
          "execution_count": 19
        }
      ]
    },
    {
      "cell_type": "code",
      "source": [
        "-2"
      ],
      "metadata": {
        "id": "k1UQNmHJTSLb",
        "outputId": "a954548f-5754-43b3-ee4e-72f44a811548",
        "colab": {
          "base_uri": "https://localhost:8080/"
        }
      },
      "execution_count": 20,
      "outputs": [
        {
          "output_type": "execute_result",
          "data": {
            "text/plain": [
              "-2"
            ]
          },
          "metadata": {},
          "execution_count": 20
        }
      ]
    },
    {
      "cell_type": "code",
      "source": [
        "-2 + 3"
      ],
      "metadata": {
        "id": "JgeTljuVTeQj",
        "outputId": "30eae40f-1293-4471-99b1-09d100438fc4",
        "colab": {
          "base_uri": "https://localhost:8080/"
        }
      },
      "execution_count": 21,
      "outputs": [
        {
          "output_type": "execute_result",
          "data": {
            "text/plain": [
              "1"
            ]
          },
          "metadata": {},
          "execution_count": 21
        }
      ]
    },
    {
      "cell_type": "code",
      "source": [
        "3 + (2 * (-4))"
      ],
      "metadata": {
        "id": "r-UnQLNETq1y",
        "outputId": "7fd651a9-7525-45fb-f7ad-ef46ff6ebce8",
        "colab": {
          "base_uri": "https://localhost:8080/"
        }
      },
      "execution_count": 22,
      "outputs": [
        {
          "output_type": "execute_result",
          "data": {
            "text/plain": [
              "-5"
            ]
          },
          "metadata": {},
          "execution_count": 22
        }
      ]
    },
    {
      "cell_type": "code",
      "source": [
        "_\n"
      ],
      "metadata": {
        "id": "P8omoCOeT6E-",
        "outputId": "11fc54d2-f9bc-44c0-aa9b-85d7018da874",
        "colab": {
          "base_uri": "https://localhost:8080/"
        }
      },
      "execution_count": 23,
      "outputs": [
        {
          "output_type": "execute_result",
          "data": {
            "text/plain": [
              "-5"
            ]
          },
          "metadata": {},
          "execution_count": 23
        }
      ]
    },
    {
      "cell_type": "markdown",
      "source": [
        "Today's key terms/concepts:\n",
        "* Constant\n",
        "* Operators\n",
        "* Expression\n",
        "* Value\n",
        "* Binary Operator\n",
        "* Unary Operator\n"
      ],
      "metadata": {
        "id": "IFwHVNnKUF_X"
      }
    },
    {
      "cell_type": "code",
      "source": [],
      "metadata": {
        "id": "9RAJq1j0T_Bv"
      },
      "execution_count": null,
      "outputs": []
    }
  ]
}