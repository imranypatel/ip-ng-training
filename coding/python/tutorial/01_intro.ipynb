{
  "nbformat": 4,
  "nbformat_minor": 0,
  "metadata": {
    "colab": {
      "provenance": [],
      "authorship_tag": "ABX9TyNODYNwurdXiCFmMs6pYaI+",
      "include_colab_link": true
    },
    "kernelspec": {
      "name": "python3",
      "display_name": "Python 3"
    },
    "language_info": {
      "name": "python"
    }
  },
  "cells": [
    {
      "cell_type": "markdown",
      "metadata": {
        "id": "view-in-github",
        "colab_type": "text"
      },
      "source": [
        "<a href=\"https://colab.research.google.com/github/imranypatel/ip-ng-training/blob/main/coding/python/tutorial/01_intro.ipynb\" target=\"_parent\"><img src=\"https://colab.research.google.com/assets/colab-badge.svg\" alt=\"Open In Colab\"/></a>"
      ]
    },
    {
      "cell_type": "markdown",
      "source": [
        "# Interact with Python Interpreter Environment\n",
        "Press Shift+Enter in the following cells to direct interpreter to interprete the command(s)."
      ],
      "metadata": {
        "id": "-nI0yhGOrcJc"
      }
    },
    {
      "cell_type": "markdown",
      "source": [
        "# Python Version"
      ],
      "metadata": {
        "id": "RHV0HCwX5JcG"
      }
    },
    {
      "cell_type": "code",
      "execution_count": null,
      "metadata": {
        "id": "bT4P5P_fmlSa",
        "colab": {
          "base_uri": "https://localhost:8080/"
        },
        "outputId": "c5a7e070-2f66-4a89-fd48-59d4d02d6ccb"
      },
      "outputs": [
        {
          "output_type": "stream",
          "name": "stdout",
          "text": [
            "3.10.12 (main, Nov  6 2024, 20:22:13) [GCC 11.4.0]\n"
          ]
        }
      ],
      "source": [
        "# ask interpreter to print current version of python environment\n",
        "import sys\n",
        "print(sys.version)"
      ]
    },
    {
      "cell_type": "markdown",
      "source": [
        "# Instruction or Command to the Interpreter"
      ],
      "metadata": {
        "id": "MdHKJ7cy5gIq"
      }
    },
    {
      "cell_type": "code",
      "source": [
        "# hello is not a command or instruction so should produce an error\n",
        "hello"
      ],
      "metadata": {
        "id": "OflR094l4WoA",
        "colab": {
          "base_uri": "https://localhost:8080/",
          "height": 159
        },
        "outputId": "7c3d8a59-c777-4f14-f43f-0a075637b580"
      },
      "execution_count": null,
      "outputs": [
        {
          "output_type": "error",
          "ename": "NameError",
          "evalue": "name 'hello' is not defined",
          "traceback": [
            "\u001b[0;31m---------------------------------------------------------------------------\u001b[0m",
            "\u001b[0;31mNameError\u001b[0m                                 Traceback (most recent call last)",
            "\u001b[0;32m<ipython-input-3-034596cde574>\u001b[0m in \u001b[0;36m<cell line: 2>\u001b[0;34m()\u001b[0m\n\u001b[1;32m      1\u001b[0m \u001b[0;31m# hello is not a command or instruction so should produce an error\u001b[0m\u001b[0;34m\u001b[0m\u001b[0;34m\u001b[0m\u001b[0m\n\u001b[0;32m----> 2\u001b[0;31m \u001b[0mhello\u001b[0m\u001b[0;34m\u001b[0m\u001b[0;34m\u001b[0m\u001b[0m\n\u001b[0m",
            "\u001b[0;31mNameError\u001b[0m: name 'hello' is not defined"
          ]
        }
      ]
    },
    {
      "cell_type": "code",
      "source": [
        "print(\"hello world\")"
      ],
      "metadata": {
        "colab": {
          "base_uri": "https://localhost:8080/"
        },
        "id": "wps65GW7ZYhr",
        "outputId": "197e548d-080b-4d86-f521-e0755f85a281"
      },
      "execution_count": null,
      "outputs": [
        {
          "output_type": "stream",
          "name": "stdout",
          "text": [
            "hello world\n"
          ]
        }
      ]
    },
    {
      "cell_type": "code",
      "source": [
        "# print is a command, so it should print\n",
        "print(\"Hello World\")"
      ],
      "metadata": {
        "id": "kwC9y_Bc4xjZ",
        "colab": {
          "base_uri": "https://localhost:8080/"
        },
        "outputId": "7869ae83-d134-47d8-9df9-a1815bdd7c54"
      },
      "execution_count": null,
      "outputs": [
        {
          "output_type": "stream",
          "name": "stdout",
          "text": [
            "Hello World\n"
          ]
        }
      ]
    },
    {
      "cell_type": "code",
      "source": [
        "print(10)"
      ],
      "metadata": {
        "colab": {
          "base_uri": "https://localhost:8080/"
        },
        "id": "macF2Ip8ZOF0",
        "outputId": "8552da70-b936-4597-cede-af98902a00e5"
      },
      "execution_count": null,
      "outputs": [
        {
          "output_type": "stream",
          "name": "stdout",
          "text": [
            "10\n"
          ]
        }
      ]
    },
    {
      "cell_type": "markdown",
      "source": [
        "Let's test basic maths operation"
      ],
      "metadata": {
        "id": "tkS1pS36OIxX"
      }
    },
    {
      "cell_type": "code",
      "source": [
        "#\n",
        "1 + 1"
      ],
      "metadata": {
        "id": "S4dTk1TdoSZb",
        "colab": {
          "base_uri": "https://localhost:8080/"
        },
        "outputId": "db527952-39c7-4189-9785-299c3bfd356b"
      },
      "execution_count": null,
      "outputs": [
        {
          "output_type": "execute_result",
          "data": {
            "text/plain": [
              "2"
            ]
          },
          "metadata": {},
          "execution_count": 5
        }
      ]
    },
    {
      "cell_type": "code",
      "source": [
        "4.567 * 8.323 * 17\n"
      ],
      "metadata": {
        "id": "LjJH6P77o3_H",
        "colab": {
          "base_uri": "https://localhost:8080/"
        },
        "outputId": "367b2041-880e-42b0-8b62-1c84b021603e"
      },
      "execution_count": null,
      "outputs": [
        {
          "output_type": "execute_result",
          "data": {
            "text/plain": [
              "646.189397"
            ]
          },
          "metadata": {},
          "execution_count": 7
        }
      ]
    },
    {
      "cell_type": "code",
      "source": [
        "3 * 4 + 2"
      ],
      "metadata": {
        "colab": {
          "base_uri": "https://localhost:8080/"
        },
        "id": "Rudc-rO-QRnr",
        "outputId": "d828dd8d-bda2-4b27-f23b-c1ae307c51e0"
      },
      "execution_count": null,
      "outputs": [
        {
          "output_type": "execute_result",
          "data": {
            "text/plain": [
              "14"
            ]
          },
          "metadata": {},
          "execution_count": 8
        }
      ]
    },
    {
      "cell_type": "code",
      "source": [
        "3 + 4 * 2"
      ],
      "metadata": {
        "colab": {
          "base_uri": "https://localhost:8080/"
        },
        "id": "ZfRRcChMRLQv",
        "outputId": "677699fd-c206-4380-f39f-31c413c20ced"
      },
      "execution_count": null,
      "outputs": [
        {
          "output_type": "execute_result",
          "data": {
            "text/plain": [
              "11"
            ]
          },
          "metadata": {},
          "execution_count": 9
        }
      ]
    },
    {
      "cell_type": "code",
      "source": [
        "1"
      ],
      "metadata": {
        "colab": {
          "base_uri": "https://localhost:8080/"
        },
        "id": "4dRq9wP1RYia",
        "outputId": "1c8fb76d-2d86-49bc-9c0c-59d426d54d79"
      },
      "execution_count": null,
      "outputs": [
        {
          "output_type": "execute_result",
          "data": {
            "text/plain": [
              "1"
            ]
          },
          "metadata": {},
          "execution_count": 12
        }
      ]
    },
    {
      "cell_type": "code",
      "source": [
        "1 + 4 * 3"
      ],
      "metadata": {
        "colab": {
          "base_uri": "https://localhost:8080/"
        },
        "id": "ZGrDyAaSRqst",
        "outputId": "f636767b-1657-4033-ba71-319248f86fd7"
      },
      "execution_count": null,
      "outputs": [
        {
          "output_type": "execute_result",
          "data": {
            "text/plain": [
              "13"
            ]
          },
          "metadata": {},
          "execution_count": 13
        }
      ]
    },
    {
      "cell_type": "code",
      "source": [
        "100"
      ],
      "metadata": {
        "colab": {
          "base_uri": "https://localhost:8080/"
        },
        "id": "Ei-euj79Ryo8",
        "outputId": "692a157f-79ca-4a7b-c626-3579e50d3105"
      },
      "execution_count": null,
      "outputs": [
        {
          "output_type": "execute_result",
          "data": {
            "text/plain": [
              "100"
            ]
          },
          "metadata": {},
          "execution_count": 14
        }
      ]
    },
    {
      "cell_type": "code",
      "source": [
        "+"
      ],
      "metadata": {
        "colab": {
          "base_uri": "https://localhost:8080/",
          "height": 106
        },
        "id": "tV49xSh_SNZQ",
        "outputId": "0d15f9ec-cfc2-4f55-8548-4ba8d6268e03"
      },
      "execution_count": null,
      "outputs": [
        {
          "output_type": "error",
          "ename": "SyntaxError",
          "evalue": "invalid syntax (<ipython-input-15-0b024bbfe84e>, line 1)",
          "traceback": [
            "\u001b[0;36m  File \u001b[0;32m\"<ipython-input-15-0b024bbfe84e>\"\u001b[0;36m, line \u001b[0;32m1\u001b[0m\n\u001b[0;31m    +\u001b[0m\n\u001b[0m     ^\u001b[0m\n\u001b[0;31mSyntaxError\u001b[0m\u001b[0;31m:\u001b[0m invalid syntax\n"
          ]
        }
      ]
    },
    {
      "cell_type": "code",
      "source": [
        "3 + (2 * 4)"
      ],
      "metadata": {
        "colab": {
          "base_uri": "https://localhost:8080/"
        },
        "id": "WPR_RzHXSWYW",
        "outputId": "32c5f0bf-f912-4cd0-be9f-05c2068ccba5"
      },
      "execution_count": null,
      "outputs": [
        {
          "output_type": "execute_result",
          "data": {
            "text/plain": [
              "11"
            ]
          },
          "metadata": {},
          "execution_count": 16
        }
      ]
    },
    {
      "cell_type": "code",
      "source": [
        "(3 + 2) * 4"
      ],
      "metadata": {
        "colab": {
          "base_uri": "https://localhost:8080/"
        },
        "id": "hJsBDUyMSsSl",
        "outputId": "3ff1086e-f899-4ce7-f0e4-0b0f1f10677c"
      },
      "execution_count": null,
      "outputs": [
        {
          "output_type": "execute_result",
          "data": {
            "text/plain": [
              "20"
            ]
          },
          "metadata": {},
          "execution_count": 17
        }
      ]
    },
    {
      "cell_type": "code",
      "source": [
        "3 +"
      ],
      "metadata": {
        "colab": {
          "base_uri": "https://localhost:8080/",
          "height": 106
        },
        "id": "tvonxYXVS5K7",
        "outputId": "ba94340b-bda2-43fa-fe1b-8a73506bbfd4"
      },
      "execution_count": null,
      "outputs": [
        {
          "output_type": "error",
          "ename": "SyntaxError",
          "evalue": "invalid syntax (<ipython-input-18-3b36d4dc5165>, line 1)",
          "traceback": [
            "\u001b[0;36m  File \u001b[0;32m\"<ipython-input-18-3b36d4dc5165>\"\u001b[0;36m, line \u001b[0;32m1\u001b[0m\n\u001b[0;31m    3 +\u001b[0m\n\u001b[0m       ^\u001b[0m\n\u001b[0;31mSyntaxError\u001b[0m\u001b[0;31m:\u001b[0m invalid syntax\n"
          ]
        }
      ]
    },
    {
      "cell_type": "code",
      "source": [
        "3 - 2"
      ],
      "metadata": {
        "colab": {
          "base_uri": "https://localhost:8080/"
        },
        "id": "d7bWmUQzTCOP",
        "outputId": "073e5118-8fb0-4c85-e5b3-4d339b1cfae8"
      },
      "execution_count": null,
      "outputs": [
        {
          "output_type": "execute_result",
          "data": {
            "text/plain": [
              "1"
            ]
          },
          "metadata": {},
          "execution_count": 19
        }
      ]
    },
    {
      "cell_type": "code",
      "source": [
        "-2"
      ],
      "metadata": {
        "colab": {
          "base_uri": "https://localhost:8080/"
        },
        "id": "k1UQNmHJTSLb",
        "outputId": "a954548f-5754-43b3-ee4e-72f44a811548"
      },
      "execution_count": null,
      "outputs": [
        {
          "output_type": "execute_result",
          "data": {
            "text/plain": [
              "-2"
            ]
          },
          "metadata": {},
          "execution_count": 20
        }
      ]
    },
    {
      "cell_type": "code",
      "source": [
        "-2 + 3"
      ],
      "metadata": {
        "colab": {
          "base_uri": "https://localhost:8080/"
        },
        "id": "JgeTljuVTeQj",
        "outputId": "30eae40f-1293-4471-99b1-09d100438fc4"
      },
      "execution_count": null,
      "outputs": [
        {
          "output_type": "execute_result",
          "data": {
            "text/plain": [
              "1"
            ]
          },
          "metadata": {},
          "execution_count": 21
        }
      ]
    },
    {
      "cell_type": "code",
      "source": [
        "3 + (2 * (-4))"
      ],
      "metadata": {
        "colab": {
          "base_uri": "https://localhost:8080/"
        },
        "id": "r-UnQLNETq1y",
        "outputId": "7fd651a9-7525-45fb-f7ad-ef46ff6ebce8"
      },
      "execution_count": null,
      "outputs": [
        {
          "output_type": "execute_result",
          "data": {
            "text/plain": [
              "-5"
            ]
          },
          "metadata": {},
          "execution_count": 22
        }
      ]
    },
    {
      "cell_type": "code",
      "source": [
        "_\n"
      ],
      "metadata": {
        "colab": {
          "base_uri": "https://localhost:8080/"
        },
        "id": "P8omoCOeT6E-",
        "outputId": "11fc54d2-f9bc-44c0-aa9b-85d7018da874"
      },
      "execution_count": null,
      "outputs": [
        {
          "output_type": "execute_result",
          "data": {
            "text/plain": [
              "-5"
            ]
          },
          "metadata": {},
          "execution_count": 23
        }
      ]
    },
    {
      "cell_type": "markdown",
      "source": [
        "Today's key terms/concepts:\n",
        "* Constant\n",
        "* Operators\n",
        "* Expression (Values, Operators) (Values-> Constant, Values->Variables)\n",
        "* Value (Number, String)\n",
        "* Binary Operator\n",
        "* Unary Operator\n"
      ],
      "metadata": {
        "id": "IFwHVNnKUF_X"
      }
    },
    {
      "cell_type": "markdown",
      "source": [
        "# Session 2"
      ],
      "metadata": {
        "id": "DhIlFfadL7d3"
      }
    },
    {
      "cell_type": "code",
      "source": [
        "-1 * 4"
      ],
      "metadata": {
        "colab": {
          "base_uri": "https://localhost:8080/"
        },
        "id": "9RAJq1j0T_Bv",
        "outputId": "184e2f5e-67e9-4b8f-b185-36d7f91795d2"
      },
      "execution_count": null,
      "outputs": [
        {
          "output_type": "execute_result",
          "data": {
            "text/plain": [
              "-4"
            ]
          },
          "metadata": {},
          "execution_count": 4
        }
      ]
    },
    {
      "cell_type": "markdown",
      "source": [
        "Variables\n"
      ],
      "metadata": {
        "id": "zetYu51cUPBI"
      }
    },
    {
      "cell_type": "code",
      "source": [
        "124 - 94"
      ],
      "metadata": {
        "colab": {
          "base_uri": "https://localhost:8080/"
        },
        "id": "wko_2BfeL_7N",
        "outputId": "ce7d3391-4df8-4f1e-b336-584f3e95c4ae"
      },
      "execution_count": null,
      "outputs": [
        {
          "output_type": "execute_result",
          "data": {
            "text/plain": [
              "30"
            ]
          },
          "metadata": {},
          "execution_count": 5
        }
      ]
    },
    {
      "cell_type": "code",
      "source": [
        "maximal = 124\n",
        "width = 94\n",
        "maximal - width"
      ],
      "metadata": {
        "colab": {
          "base_uri": "https://localhost:8080/"
        },
        "id": "JT8lJ_tyML4X",
        "outputId": "1e1919be-4154-4f9b-d4bf-636a0e4a0e52"
      },
      "execution_count": null,
      "outputs": [
        {
          "output_type": "execute_result",
          "data": {
            "text/plain": [
              "30"
            ]
          },
          "metadata": {},
          "execution_count": 6
        }
      ]
    },
    {
      "cell_type": "code",
      "source": [
        "eht = 16\n",
        "aiman = 9\n",
        "eht - aiman"
      ],
      "metadata": {
        "colab": {
          "base_uri": "https://localhost:8080/"
        },
        "id": "LpVkIjm4Xdfh",
        "outputId": "093928f5-a123-4382-9f8e-500bb64d5b3d"
      },
      "execution_count": null,
      "outputs": [
        {
          "output_type": "execute_result",
          "data": {
            "text/plain": [
              "7"
            ]
          },
          "metadata": {},
          "execution_count": 7
        }
      ]
    },
    {
      "cell_type": "code",
      "source": [
        "aiman + 5"
      ],
      "metadata": {
        "colab": {
          "base_uri": "https://localhost:8080/"
        },
        "id": "tksZY1yhXuzy",
        "outputId": "142ddc13-b232-4ec5-d958-5ee492d41866"
      },
      "execution_count": null,
      "outputs": [
        {
          "output_type": "execute_result",
          "data": {
            "text/plain": [
              "14"
            ]
          },
          "metadata": {},
          "execution_count": 8
        }
      ]
    },
    {
      "cell_type": "code",
      "source": [
        "eht - 5"
      ],
      "metadata": {
        "colab": {
          "base_uri": "https://localhost:8080/"
        },
        "id": "tq8_GappYwLh",
        "outputId": "49d65342-2af8-43aa-d5a6-7bd8ba3cd8bc"
      },
      "execution_count": null,
      "outputs": [
        {
          "output_type": "execute_result",
          "data": {
            "text/plain": [
              "11"
            ]
          },
          "metadata": {},
          "execution_count": 9
        }
      ]
    },
    {
      "cell_type": "code",
      "source": [
        "\"Hello\" + \" \" + \"World\""
      ],
      "metadata": {
        "colab": {
          "base_uri": "https://localhost:8080/",
          "height": 35
        },
        "id": "lLvn6l2BY3Ft",
        "outputId": "6a029403-1ddf-42bc-8694-95742e9de694"
      },
      "execution_count": null,
      "outputs": [
        {
          "output_type": "execute_result",
          "data": {
            "text/plain": [
              "'Hello World'"
            ],
            "application/vnd.google.colaboratory.intrinsic+json": {
              "type": "string"
            }
          },
          "metadata": {},
          "execution_count": 13
        }
      ]
    },
    {
      "cell_type": "code",
      "source": [
        "\"Hello\" - \" \" - \"World\""
      ],
      "metadata": {
        "colab": {
          "base_uri": "https://localhost:8080/",
          "height": 141
        },
        "id": "jxaPpOubaGOp",
        "outputId": "92ec39e3-8338-42a9-ae44-30ac34e5b7c0"
      },
      "execution_count": null,
      "outputs": [
        {
          "output_type": "error",
          "ename": "TypeError",
          "evalue": "unsupported operand type(s) for -: 'str' and 'str'",
          "traceback": [
            "\u001b[0;31m---------------------------------------------------------------------------\u001b[0m",
            "\u001b[0;31mTypeError\u001b[0m                                 Traceback (most recent call last)",
            "\u001b[0;32m<ipython-input-14-84e8be328623>\u001b[0m in \u001b[0;36m<cell line: 1>\u001b[0;34m()\u001b[0m\n\u001b[0;32m----> 1\u001b[0;31m \u001b[0;34m\"Hello\"\u001b[0m \u001b[0;34m-\u001b[0m \u001b[0;34m\" \"\u001b[0m \u001b[0;34m-\u001b[0m \u001b[0;34m\"World\"\u001b[0m\u001b[0;34m\u001b[0m\u001b[0;34m\u001b[0m\u001b[0m\n\u001b[0m",
            "\u001b[0;31mTypeError\u001b[0m: unsupported operand type(s) for -: 'str' and 'str'"
          ]
        }
      ]
    },
    {
      "cell_type": "code",
      "source": [
        "\"Hello\" * \"World\""
      ],
      "metadata": {
        "colab": {
          "base_uri": "https://localhost:8080/",
          "height": 141
        },
        "id": "4dWpc-b_adoV",
        "outputId": "68fe02a9-186a-49ad-8126-abd4b07ddf0e"
      },
      "execution_count": null,
      "outputs": [
        {
          "output_type": "error",
          "ename": "TypeError",
          "evalue": "can't multiply sequence by non-int of type 'str'",
          "traceback": [
            "\u001b[0;31m---------------------------------------------------------------------------\u001b[0m",
            "\u001b[0;31mTypeError\u001b[0m                                 Traceback (most recent call last)",
            "\u001b[0;32m<ipython-input-15-274f9dd30aa7>\u001b[0m in \u001b[0;36m<cell line: 1>\u001b[0;34m()\u001b[0m\n\u001b[0;32m----> 1\u001b[0;31m \u001b[0;34m\"Hello\"\u001b[0m \u001b[0;34m*\u001b[0m \u001b[0;34m\"World\"\u001b[0m\u001b[0;34m\u001b[0m\u001b[0;34m\u001b[0m\u001b[0m\n\u001b[0m",
            "\u001b[0;31mTypeError\u001b[0m: can't multiply sequence by non-int of type 'str'"
          ]
        }
      ]
    },
    {
      "cell_type": "code",
      "source": [
        "\"Hello\" + 2"
      ],
      "metadata": {
        "colab": {
          "base_uri": "https://localhost:8080/",
          "height": 141
        },
        "id": "kfq7aN3jamfN",
        "outputId": "e442f2d8-1ba9-43ee-f1cb-36afd7af9ad4"
      },
      "execution_count": null,
      "outputs": [
        {
          "output_type": "error",
          "ename": "TypeError",
          "evalue": "can only concatenate str (not \"int\") to str",
          "traceback": [
            "\u001b[0;31m---------------------------------------------------------------------------\u001b[0m",
            "\u001b[0;31mTypeError\u001b[0m                                 Traceback (most recent call last)",
            "\u001b[0;32m<ipython-input-16-917ec72bce98>\u001b[0m in \u001b[0;36m<cell line: 1>\u001b[0;34m()\u001b[0m\n\u001b[0;32m----> 1\u001b[0;31m \u001b[0;34m\"Hello\"\u001b[0m \u001b[0;34m+\u001b[0m \u001b[0;36m2\u001b[0m\u001b[0;34m\u001b[0m\u001b[0;34m\u001b[0m\u001b[0m\n\u001b[0m",
            "\u001b[0;31mTypeError\u001b[0m: can only concatenate str (not \"int\") to str"
          ]
        }
      ]
    },
    {
      "cell_type": "code",
      "source": [
        "\"Hello\" + \"2\""
      ],
      "metadata": {
        "colab": {
          "base_uri": "https://localhost:8080/",
          "height": 35
        },
        "id": "3nMN4unZa2SO",
        "outputId": "0991a7c8-1572-45e7-9575-a63e7bf8160b"
      },
      "execution_count": null,
      "outputs": [
        {
          "output_type": "execute_result",
          "data": {
            "text/plain": [
              "'Hello2'"
            ],
            "application/vnd.google.colaboratory.intrinsic+json": {
              "type": "string"
            }
          },
          "metadata": {},
          "execution_count": 17
        }
      ]
    },
    {
      "cell_type": "code",
      "source": [
        "first = \"Ammarah\"\n",
        "second = \"Patel\"\n",
        "first, second"
      ],
      "metadata": {
        "colab": {
          "base_uri": "https://localhost:8080/"
        },
        "id": "XYgifkOqbEnS",
        "outputId": "1868a711-ea3c-45ed-aece-6ca1c02a928b"
      },
      "execution_count": null,
      "outputs": [
        {
          "output_type": "execute_result",
          "data": {
            "text/plain": [
              "('Ammarah', 'Patel')"
            ]
          },
          "metadata": {},
          "execution_count": 18
        }
      ]
    },
    {
      "cell_type": "code",
      "source": [
        "first + second"
      ],
      "metadata": {
        "colab": {
          "base_uri": "https://localhost:8080/",
          "height": 35
        },
        "id": "55Vl2VWCblzN",
        "outputId": "c8496abe-f12f-4abd-bb29-40b3440e7e6a"
      },
      "execution_count": null,
      "outputs": [
        {
          "output_type": "execute_result",
          "data": {
            "text/plain": [
              "'AmmarahPatel'"
            ],
            "application/vnd.google.colaboratory.intrinsic+json": {
              "type": "string"
            }
          },
          "metadata": {},
          "execution_count": 19
        }
      ]
    },
    {
      "cell_type": "code",
      "source": [
        "first + \" \" + second"
      ],
      "metadata": {
        "colab": {
          "base_uri": "https://localhost:8080/",
          "height": 35
        },
        "id": "yd3i-fXcb8RN",
        "outputId": "5e1c2abe-4b98-4e21-88cb-64dfccbe48df"
      },
      "execution_count": null,
      "outputs": [
        {
          "output_type": "execute_result",
          "data": {
            "text/plain": [
              "'Ammarah Patel'"
            ],
            "application/vnd.google.colaboratory.intrinsic+json": {
              "type": "string"
            }
          },
          "metadata": {},
          "execution_count": 20
        }
      ]
    },
    {
      "cell_type": "code",
      "source": [
        "second + \", \" + first"
      ],
      "metadata": {
        "colab": {
          "base_uri": "https://localhost:8080/",
          "height": 35
        },
        "id": "fwO-lCgscYQe",
        "outputId": "f6ba25d1-89e2-4faf-c560-de08f1518af1"
      },
      "execution_count": null,
      "outputs": [
        {
          "output_type": "execute_result",
          "data": {
            "text/plain": [
              "'Patel, Ammarah'"
            ],
            "application/vnd.google.colaboratory.intrinsic+json": {
              "type": "string"
            }
          },
          "metadata": {},
          "execution_count": 21
        }
      ]
    },
    {
      "cell_type": "code",
      "source": [
        "\"\"\"Toronto is the largest city in Canada\n",
        "and the provincial capital of Ontario.\n",
        "It is located in Southern Ontario on the\n",
        "northwestern shore of Lake Ontario.\"\"\""
      ],
      "metadata": {
        "colab": {
          "base_uri": "https://localhost:8080/",
          "height": 53
        },
        "id": "OnULO_z4clCw",
        "outputId": "2509f729-b434-4f73-b230-8b79489f545a"
      },
      "execution_count": null,
      "outputs": [
        {
          "output_type": "execute_result",
          "data": {
            "text/plain": [
              "'Toronto is the largest city in Canada \\nand the provincial capital of Ontario. \\nIt is located in Southern Ontario on the \\nnorthwestern shore of Lake Ontario.'"
            ],
            "application/vnd.google.colaboratory.intrinsic+json": {
              "type": "string"
            }
          },
          "metadata": {},
          "execution_count": 22
        }
      ]
    },
    {
      "cell_type": "code",
      "source": [
        "city = \"\"\"Toronto is the largest city in Canada\n",
        "and the provincial capital of Ontario.\n",
        "It is located in Southern Ontario on the\n",
        "northwestern shore of Lake Ontario.\"\"\""
      ],
      "metadata": {
        "id": "nfp8Z0AcdJMK"
      },
      "execution_count": null,
      "outputs": []
    },
    {
      "cell_type": "code",
      "source": [
        "city"
      ],
      "metadata": {
        "colab": {
          "base_uri": "https://localhost:8080/",
          "height": 53
        },
        "id": "RtwBDr41dXrD",
        "outputId": "9177ffbd-1140-4ae6-b8df-d6667362a4f3"
      },
      "execution_count": null,
      "outputs": [
        {
          "output_type": "execute_result",
          "data": {
            "text/plain": [
              "'Toronto is the largest city in Canada \\nand the provincial capital of Ontario. \\nIt is located in Southern Ontario on the \\nnorthwestern shore of Lake Ontario.'"
            ],
            "application/vnd.google.colaboratory.intrinsic+json": {
              "type": "string"
            }
          },
          "metadata": {},
          "execution_count": 24
        }
      ]
    },
    {
      "cell_type": "code",
      "source": [
        "print(city)"
      ],
      "metadata": {
        "colab": {
          "base_uri": "https://localhost:8080/"
        },
        "id": "Z80nbTVJdZZ5",
        "outputId": "9d8b2476-43d9-4d6c-b0fe-4316a92792ed"
      },
      "execution_count": null,
      "outputs": [
        {
          "output_type": "stream",
          "name": "stdout",
          "text": [
            "Toronto is the largest city in Canada \n",
            "and the provincial capital of Ontario. \n",
            "It is located in Southern Ontario on the \n",
            "northwestern shore of Lake Ontario.\n"
          ]
        }
      ]
    },
    {
      "cell_type": "code",
      "source": [
        "bio = \"\"\"*\n",
        "Name = Ehtesham Patel\n",
        "Age = 17\n",
        "\n",
        "*\"\"\""
      ],
      "metadata": {
        "id": "Km65kzwpdcXu"
      },
      "execution_count": null,
      "outputs": []
    },
    {
      "cell_type": "code",
      "source": [
        "bio\n"
      ],
      "metadata": {
        "colab": {
          "base_uri": "https://localhost:8080/",
          "height": 35
        },
        "id": "YZxFfo71dxig",
        "outputId": "61d47044-33eb-4601-e7ec-af5170ac1b2e"
      },
      "execution_count": null,
      "outputs": [
        {
          "output_type": "execute_result",
          "data": {
            "text/plain": [
              "'*\\nName = Ehtesham Patel\\nAge = 17\\n*'"
            ],
            "application/vnd.google.colaboratory.intrinsic+json": {
              "type": "string"
            }
          },
          "metadata": {},
          "execution_count": 30
        }
      ]
    },
    {
      "cell_type": "code",
      "source": [
        "print(bio)"
      ],
      "metadata": {
        "colab": {
          "base_uri": "https://localhost:8080/"
        },
        "id": "tYrJeG8Bd3is",
        "outputId": "51afcc02-76f1-4add-af71-de369fdae0c9"
      },
      "execution_count": null,
      "outputs": [
        {
          "output_type": "stream",
          "name": "stdout",
          "text": [
            "*\n",
            "Name = Ehtesham Patel\n",
            "Age = 17\n",
            "*\n"
          ]
        }
      ]
    },
    {
      "cell_type": "markdown",
      "source": [
        "# Session 3"
      ],
      "metadata": {
        "id": "1ywcQvGFErba"
      }
    },
    {
      "cell_type": "markdown",
      "source": [
        "# Structuring and Indentation\n"
      ],
      "metadata": {
        "id": "SbIPPgg97lwx"
      }
    },
    {
      "cell_type": "code",
      "source": [
        "# Multi-line statement\n",
        "l = [\"A\", 42, 78, \"Just a String\"]\n",
        "for character in l:\n",
        "     print(character)\n"
      ],
      "metadata": {
        "colab": {
          "base_uri": "https://localhost:8080/"
        },
        "id": "dsukWheZeLZV",
        "outputId": "702a3c43-c676-4df2-cdcd-7368b2999b27"
      },
      "execution_count": null,
      "outputs": [
        {
          "output_type": "stream",
          "name": "stdout",
          "text": [
            "A\n",
            "42\n",
            "78\n",
            "Just a String\n"
          ]
        }
      ]
    },
    {
      "cell_type": "code",
      "source": [
        "l = [\"A\", 42, 78, \"Just a String\"]\n",
        "for character in l:\n",
        "     print(character)\n",
        "     print(\"character again\", character)\n"
      ],
      "metadata": {
        "colab": {
          "base_uri": "https://localhost:8080/"
        },
        "id": "jWIuj1mz8fyf",
        "outputId": "1f4bf172-021b-4db9-a7e5-99513e5fe0b0"
      },
      "execution_count": null,
      "outputs": [
        {
          "output_type": "stream",
          "name": "stdout",
          "text": [
            "A\n",
            "character again A\n",
            "42\n",
            "character again 42\n",
            "78\n",
            "character again 78\n",
            "Just a String\n",
            "character again Just a String\n"
          ]
        }
      ]
    },
    {
      "cell_type": "code",
      "source": [
        "l = [\"A\", 42, 78, \"Just a String\"]\n",
        "for character in l:\n",
        "     print(character)\n",
        "     print(\"character again\", character)\n",
        "print(\"last character again\", character)"
      ],
      "metadata": {
        "colab": {
          "base_uri": "https://localhost:8080/"
        },
        "id": "80J5KFKG92f2",
        "outputId": "0bad99db-d74b-4ccc-ea56-9d8c7e18393b"
      },
      "execution_count": null,
      "outputs": [
        {
          "output_type": "stream",
          "name": "stdout",
          "text": [
            "A\n",
            "character again A\n",
            "42\n",
            "character again 42\n",
            "78\n",
            "character again 78\n",
            "Just a String\n",
            "character again Just a String\n",
            "last character again Just a String\n"
          ]
        }
      ]
    },
    {
      "cell_type": "code",
      "source": [
        "# 3 blocks\n",
        "from math import sqrt\n",
        "n = input(\"Maximum Number? \")\n",
        "n = int(n)+1\n",
        "for a in range(1,n):\n",
        "    for b in range(a,n):\n",
        "        c_square = a**2 + b**2\n",
        "        c = int(sqrt(c_square))\n",
        "        if ((c_square - c**2) == 0):\n",
        "            print(a, b, c)"
      ],
      "metadata": {
        "colab": {
          "base_uri": "https://localhost:8080/"
        },
        "id": "jCRMXUaj996e",
        "outputId": "7c3561a2-5b9f-479a-ddf9-b069d517cae6"
      },
      "execution_count": null,
      "outputs": [
        {
          "output_type": "stream",
          "name": "stdout",
          "text": [
            "Maximum Number? 25\n",
            "3 4 5\n",
            "5 12 13\n",
            "6 8 10\n",
            "7 24 25\n",
            "8 15 17\n",
            "9 12 15\n",
            "10 24 26\n",
            "12 16 20\n",
            "15 20 25\n",
            "18 24 30\n",
            "20 21 29\n"
          ]
        }
      ]
    },
    {
      "cell_type": "markdown",
      "source": [
        "# Assignment Expression"
      ],
      "metadata": {
        "id": "KEbws5lt_Iag"
      }
    },
    {
      "cell_type": "code",
      "source": [
        "# assignment statement\n",
        "x = 5"
      ],
      "metadata": {
        "id": "ICNrCerx-bgn"
      },
      "execution_count": null,
      "outputs": []
    },
    {
      "cell_type": "code",
      "source": [
        "x"
      ],
      "metadata": {
        "colab": {
          "base_uri": "https://localhost:8080/"
        },
        "id": "jD0z_-UX_nH7",
        "outputId": "c5f6c10c-e49d-43f5-f3cc-6ca765cb48e8"
      },
      "execution_count": null,
      "outputs": [
        {
          "output_type": "execute_result",
          "data": {
            "text/plain": [
              "5"
            ]
          },
          "metadata": {},
          "execution_count": 10
        }
      ]
    },
    {
      "cell_type": "code",
      "source": [
        "x = 4.56\n",
        "# assignment expression\n",
        "z = (square := x**2) - (6.6 / square)\n",
        "print(z)\n",
        "print(x,z,square)"
      ],
      "metadata": {
        "colab": {
          "base_uri": "https://localhost:8080/"
        },
        "id": "CvXQe5qK_p9s",
        "outputId": "f572f6c3-54f0-45bb-d7dc-d3bc840d9b2b"
      },
      "execution_count": null,
      "outputs": [
        {
          "output_type": "stream",
          "name": "stdout",
          "text": [
            "20.476194644506\n",
            "4.56 20.476194644506 20.793599999999998\n"
          ]
        }
      ]
    },
    {
      "cell_type": "code",
      "source": [
        "x = 3\n",
        "z = (square := x**2) - (6.6 / square)\n",
        "print(x,z,square)\n"
      ],
      "metadata": {
        "colab": {
          "base_uri": "https://localhost:8080/"
        },
        "id": "eZiWf7z1APX5",
        "outputId": "9d18c360-56ca-4a0f-a698-66e6fb4df700"
      },
      "execution_count": null,
      "outputs": [
        {
          "output_type": "stream",
          "name": "stdout",
          "text": [
            "3 8.266666666666667 9\n"
          ]
        }
      ]
    },
    {
      "cell_type": "code",
      "source": [
        "# With the walrus operator\n",
        "n = int(input(\"Please give a number: \"))\n",
        "if (square := n ** 2) > 3:\n",
        "    print(\"The number is greater than 3.\")\n",
        "    print(f\"The square of {n} is {square}.\")"
      ],
      "metadata": {
        "colab": {
          "base_uri": "https://localhost:8080/"
        },
        "id": "2aPXC1xUAtk1",
        "outputId": "d0a2cd71-8f29-4bb1-92fa-35f9c9806eb5"
      },
      "execution_count": null,
      "outputs": [
        {
          "name": "stdout",
          "output_type": "stream",
          "text": [
            "Please give a number: 1\n"
          ]
        }
      ]
    },
    {
      "cell_type": "code",
      "source": [
        "n = int(input(\"Please give a number: \"))\n",
        "square= n ** 2\n",
        "if square > 3:\n",
        "    print(\"The number is greater than 3.\")\n",
        "    print(f\"The square of {n} is {square}.\")"
      ],
      "metadata": {
        "colab": {
          "base_uri": "https://localhost:8080/"
        },
        "id": "FKfx0i4NBTnS",
        "outputId": "e591a378-d70c-483e-ad30-3d953659c385"
      },
      "execution_count": null,
      "outputs": [
        {
          "name": "stdout",
          "output_type": "stream",
          "text": [
            "Please give a number: 1\n"
          ]
        }
      ]
    },
    {
      "cell_type": "markdown",
      "source": [
        "# 6. Data Types and Variables"
      ],
      "metadata": {
        "id": "xRqnTNRjCkwT"
      }
    },
    {
      "cell_type": "code",
      "source": [
        "i = 42"
      ],
      "metadata": {
        "id": "-LDSjJh1CFtE"
      },
      "execution_count": null,
      "outputs": []
    },
    {
      "cell_type": "code",
      "source": [
        "i"
      ],
      "metadata": {
        "colab": {
          "base_uri": "https://localhost:8080/"
        },
        "id": "75Zv0VbBDMtS",
        "outputId": "993435d5-1d0f-4b67-b9f6-5e6d80f19593"
      },
      "execution_count": null,
      "outputs": [
        {
          "output_type": "execute_result",
          "data": {
            "text/plain": [
              "42"
            ]
          },
          "metadata": {},
          "execution_count": 18
        }
      ]
    },
    {
      "cell_type": "code",
      "source": [
        "i = i + 1"
      ],
      "metadata": {
        "id": "tWA1lu92DPua"
      },
      "execution_count": null,
      "outputs": []
    },
    {
      "cell_type": "code",
      "source": [
        "i"
      ],
      "metadata": {
        "colab": {
          "base_uri": "https://localhost:8080/"
        },
        "id": "HL7gD_CqDXgo",
        "outputId": "d382c063-24e9-466f-e8b2-73965cd858e4"
      },
      "execution_count": null,
      "outputs": [
        {
          "output_type": "execute_result",
          "data": {
            "text/plain": [
              "43"
            ]
          },
          "metadata": {},
          "execution_count": 20
        }
      ]
    },
    {
      "cell_type": "code",
      "source": [
        "i = 42          # data type is implicitly set to integer"
      ],
      "metadata": {
        "id": "uxuFusc4Dc45"
      },
      "execution_count": null,
      "outputs": []
    },
    {
      "cell_type": "code",
      "source": [
        "i"
      ],
      "metadata": {
        "colab": {
          "base_uri": "https://localhost:8080/"
        },
        "id": "SD0vg5QeDnDa",
        "outputId": "d56d31b6-f003-4a16-c7e1-91f552a31817"
      },
      "execution_count": null,
      "outputs": [
        {
          "output_type": "execute_result",
          "data": {
            "text/plain": [
              "42"
            ]
          },
          "metadata": {},
          "execution_count": 22
        }
      ]
    },
    {
      "cell_type": "code",
      "source": [
        "i = 42 + 0.11       # data type is changed to float"
      ],
      "metadata": {
        "id": "mIPMqUzZDn2-"
      },
      "execution_count": null,
      "outputs": []
    },
    {
      "cell_type": "code",
      "source": [
        "i"
      ],
      "metadata": {
        "colab": {
          "base_uri": "https://localhost:8080/"
        },
        "id": "KSv9JFCrDz12",
        "outputId": "9d5d0396-2960-496f-d530-9a04df6ace73"
      },
      "execution_count": null,
      "outputs": [
        {
          "output_type": "execute_result",
          "data": {
            "text/plain": [
              "42.11"
            ]
          },
          "metadata": {},
          "execution_count": 24
        }
      ]
    },
    {
      "cell_type": "code",
      "source": [
        "i = \"forty\"     # and now it will be a string"
      ],
      "metadata": {
        "id": "2XiQtsPTD0r4"
      },
      "execution_count": null,
      "outputs": []
    },
    {
      "cell_type": "code",
      "source": [
        "i"
      ],
      "metadata": {
        "colab": {
          "base_uri": "https://localhost:8080/",
          "height": 35
        },
        "id": "amxwFls2EHk-",
        "outputId": "ea85df1c-c752-4707-88de-1aa60c446d88"
      },
      "execution_count": null,
      "outputs": [
        {
          "output_type": "execute_result",
          "data": {
            "text/plain": [
              "'forty'"
            ],
            "application/vnd.google.colaboratory.intrinsic+json": {
              "type": "string"
            }
          },
          "metadata": {},
          "execution_count": 28
        }
      ]
    },
    {
      "cell_type": "markdown",
      "source": [
        "# Session 4"
      ],
      "metadata": {
        "id": "4u3b1A6QbDyq"
      }
    },
    {
      "cell_type": "code",
      "source": [
        "x = 42\n",
        "y = x"
      ],
      "metadata": {
        "id": "DUBhUFTgEIf9"
      },
      "execution_count": null,
      "outputs": []
    },
    {
      "cell_type": "code",
      "source": [
        "(x,y)"
      ],
      "metadata": {
        "colab": {
          "base_uri": "https://localhost:8080/"
        },
        "id": "kMIoomPeUhE3",
        "outputId": "df3d311c-ea1b-44c8-af72-847f76b647ca"
      },
      "execution_count": null,
      "outputs": [
        {
          "output_type": "execute_result",
          "data": {
            "text/plain": [
              "(42, 42)"
            ]
          },
          "metadata": {},
          "execution_count": 2
        }
      ]
    },
    {
      "cell_type": "code",
      "source": [
        "y = 78"
      ],
      "metadata": {
        "id": "znYT2eQJUkKw"
      },
      "execution_count": null,
      "outputs": []
    },
    {
      "cell_type": "code",
      "source": [
        "x,y"
      ],
      "metadata": {
        "colab": {
          "base_uri": "https://localhost:8080/"
        },
        "id": "HwzwB9LfVNJP",
        "outputId": "4570bbbf-dcb6-4cf5-b480-09f0a9091490"
      },
      "execution_count": null,
      "outputs": [
        {
          "output_type": "execute_result",
          "data": {
            "text/plain": [
              "(42, 78)"
            ]
          },
          "metadata": {},
          "execution_count": 4
        }
      ]
    },
    {
      "cell_type": "code",
      "source": [
        "x = \"hello\""
      ],
      "metadata": {
        "id": "441VKdzWVUUj"
      },
      "execution_count": null,
      "outputs": []
    },
    {
      "cell_type": "code",
      "source": [
        "x,y"
      ],
      "metadata": {
        "colab": {
          "base_uri": "https://localhost:8080/"
        },
        "id": "0bokCl36Vo4h",
        "outputId": "60e2a1da-117d-4a57-ff58-85b95c68aa97"
      },
      "execution_count": null,
      "outputs": [
        {
          "output_type": "execute_result",
          "data": {
            "text/plain": [
              "('hello', 78)"
            ]
          },
          "metadata": {},
          "execution_count": 6
        }
      ]
    },
    {
      "cell_type": "code",
      "source": [
        "x=42\n"
      ],
      "metadata": {
        "id": "Wzjww3FqVzCD"
      },
      "execution_count": null,
      "outputs": []
    },
    {
      "cell_type": "code",
      "source": [
        "id(x)"
      ],
      "metadata": {
        "colab": {
          "base_uri": "https://localhost:8080/"
        },
        "id": "z1VZyMW9WAez",
        "outputId": "c5ac2f02-fde5-40b3-a573-5bdf38b427c0"
      },
      "execution_count": null,
      "outputs": [
        {
          "output_type": "execute_result",
          "data": {
            "text/plain": [
              "139671404414480"
            ]
          },
          "metadata": {},
          "execution_count": 8
        }
      ]
    },
    {
      "cell_type": "code",
      "source": [
        "id(y)"
      ],
      "metadata": {
        "colab": {
          "base_uri": "https://localhost:8080/"
        },
        "id": "1I55cegJWLIh",
        "outputId": "4e8e18d9-0a7e-48d8-8dfd-b6f1cab64f10"
      },
      "execution_count": null,
      "outputs": [
        {
          "output_type": "execute_result",
          "data": {
            "text/plain": [
              "139671404415632"
            ]
          },
          "metadata": {},
          "execution_count": 9
        }
      ]
    },
    {
      "cell_type": "code",
      "source": [
        "x,y"
      ],
      "metadata": {
        "colab": {
          "base_uri": "https://localhost:8080/"
        },
        "id": "NuX53FcSWRP3",
        "outputId": "3083e3d9-cb35-4d36-b2f2-d08010b30697"
      },
      "execution_count": null,
      "outputs": [
        {
          "output_type": "execute_result",
          "data": {
            "text/plain": [
              "(42, 78)"
            ]
          },
          "metadata": {},
          "execution_count": 10
        }
      ]
    },
    {
      "cell_type": "code",
      "source": [
        "y = x"
      ],
      "metadata": {
        "id": "7qKSbhkQWUrr"
      },
      "execution_count": null,
      "outputs": []
    },
    {
      "cell_type": "code",
      "source": [
        "x,y"
      ],
      "metadata": {
        "colab": {
          "base_uri": "https://localhost:8080/"
        },
        "id": "HHGJ1P9mWc8f",
        "outputId": "1b2b24ff-901f-4687-ad71-7d3ba217449a"
      },
      "execution_count": null,
      "outputs": [
        {
          "output_type": "execute_result",
          "data": {
            "text/plain": [
              "(42, 42)"
            ]
          },
          "metadata": {},
          "execution_count": 12
        }
      ]
    },
    {
      "cell_type": "code",
      "source": [
        "id(x), id(y)"
      ],
      "metadata": {
        "colab": {
          "base_uri": "https://localhost:8080/"
        },
        "id": "PMJ2mID_WnL9",
        "outputId": "a4631990-656b-41a3-df4e-e2c6ba31a8aa"
      },
      "execution_count": null,
      "outputs": [
        {
          "output_type": "execute_result",
          "data": {
            "text/plain": [
              "(139671404414480, 139671404414480)"
            ]
          },
          "metadata": {},
          "execution_count": 13
        }
      ]
    },
    {
      "cell_type": "code",
      "source": [
        "x = 50\n"
      ],
      "metadata": {
        "id": "GG1kEyRRWtFB"
      },
      "execution_count": null,
      "outputs": []
    },
    {
      "cell_type": "code",
      "source": [
        "x,y"
      ],
      "metadata": {
        "colab": {
          "base_uri": "https://localhost:8080/"
        },
        "id": "EcNhm7LeW17E",
        "outputId": "c1e17b8c-4bbf-4c36-e4e0-5cb365562c43"
      },
      "execution_count": null,
      "outputs": [
        {
          "output_type": "execute_result",
          "data": {
            "text/plain": [
              "(50, 42)"
            ]
          },
          "metadata": {},
          "execution_count": 15
        }
      ]
    },
    {
      "cell_type": "code",
      "source": [
        "id(x), id(y)"
      ],
      "metadata": {
        "colab": {
          "base_uri": "https://localhost:8080/"
        },
        "id": "kSKAE1u1W5bt",
        "outputId": "7b090def-2bfe-4915-a942-549aa0d24f5d"
      },
      "execution_count": null,
      "outputs": [
        {
          "output_type": "execute_result",
          "data": {
            "text/plain": [
              "(139671404414736, 139671404414480)"
            ]
          },
          "metadata": {},
          "execution_count": 16
        }
      ]
    },
    {
      "cell_type": "markdown",
      "source": [
        "# Sesssion 5"
      ],
      "metadata": {
        "id": "V7C5242jaDKr"
      }
    },
    {
      "cell_type": "code",
      "source": [
        "a = 10\n",
        "A = 20\n",
        "a,A"
      ],
      "metadata": {
        "id": "dOcGMaQoW8eG",
        "colab": {
          "base_uri": "https://localhost:8080/"
        },
        "outputId": "e0f1b2f2-5e67-4482-ea0e-ac0659c77fbb"
      },
      "execution_count": 1,
      "outputs": [
        {
          "output_type": "execute_result",
          "data": {
            "text/plain": [
              "(10, 20)"
            ]
          },
          "metadata": {},
          "execution_count": 1
        }
      ]
    },
    {
      "cell_type": "code",
      "source": [
        "id(a), id(A)"
      ],
      "metadata": {
        "colab": {
          "base_uri": "https://localhost:8080/"
        },
        "id": "_c4S9CVtaB4e",
        "outputId": "6957b879-694d-49f9-d413-bd1d72c28d72"
      },
      "execution_count": 2,
      "outputs": [
        {
          "output_type": "execute_result",
          "data": {
            "text/plain": [
              "(139924444103184, 139924444103504)"
            ]
          },
          "metadata": {},
          "execution_count": 2
        }
      ]
    },
    {
      "cell_type": "code",
      "source": [
        "age = 17\n",
        "Age = 20\n",
        "age, Age"
      ],
      "metadata": {
        "colab": {
          "base_uri": "https://localhost:8080/"
        },
        "id": "cqClVbgtaBmz",
        "outputId": "72e697ed-e06d-412c-f714-1dbf6785fa10"
      },
      "execution_count": 3,
      "outputs": [
        {
          "output_type": "execute_result",
          "data": {
            "text/plain": [
              "(17, 20)"
            ]
          },
          "metadata": {},
          "execution_count": 3
        }
      ]
    },
    {
      "cell_type": "code",
      "source": [
        "BirthYear = 1972\n",
        "birth_year = 1999\n",
        "BirthYear, birth_year"
      ],
      "metadata": {
        "colab": {
          "base_uri": "https://localhost:8080/"
        },
        "id": "9lYd10wRcTna",
        "outputId": "cba1f86d-09d2-44d7-e80f-469ff2ee11e4"
      },
      "execution_count": 4,
      "outputs": [
        {
          "output_type": "execute_result",
          "data": {
            "text/plain": [
              "(1972, 1999)"
            ]
          },
          "metadata": {},
          "execution_count": 4
        }
      ]
    },
    {
      "cell_type": "code",
      "source": [
        "birthyear = 1999\n",
        "birthyear"
      ],
      "metadata": {
        "colab": {
          "base_uri": "https://localhost:8080/"
        },
        "id": "LXcizBTWclHo",
        "outputId": "1120b120-69a0-4e5e-c09d-da50fe181f2a"
      },
      "execution_count": 5,
      "outputs": [
        {
          "output_type": "execute_result",
          "data": {
            "text/plain": [
              "1999"
            ]
          },
          "metadata": {},
          "execution_count": 5
        }
      ]
    },
    {
      "cell_type": "code",
      "source": [
        "# keywords, reserved words\n",
        "for = 10"
      ],
      "metadata": {
        "colab": {
          "base_uri": "https://localhost:8080/",
          "height": 106
        },
        "id": "_mSE8I7sc4hJ",
        "outputId": "6e8b20ef-3dbe-4b40-b1e3-bdd51720334d"
      },
      "execution_count": 6,
      "outputs": [
        {
          "output_type": "error",
          "ename": "SyntaxError",
          "evalue": "invalid syntax (<ipython-input-6-597287a2d762>, line 1)",
          "traceback": [
            "\u001b[0;36m  File \u001b[0;32m\"<ipython-input-6-597287a2d762>\"\u001b[0;36m, line \u001b[0;32m1\u001b[0m\n\u001b[0;31m    for = 10\u001b[0m\n\u001b[0m        ^\u001b[0m\n\u001b[0;31mSyntaxError\u001b[0m\u001b[0;31m:\u001b[0m invalid syntax\n"
          ]
        }
      ]
    },
    {
      "cell_type": "code",
      "source": [
        "help()"
      ],
      "metadata": {
        "colab": {
          "base_uri": "https://localhost:8080/"
        },
        "id": "wZ3RkaAWdN4T",
        "outputId": "672c6682-c9f6-4f5b-e6b3-5985b063f05e"
      },
      "execution_count": 8,
      "outputs": [
        {
          "output_type": "stream",
          "name": "stdout",
          "text": [
            "\n",
            "Welcome to Python 3.10's help utility!\n",
            "\n",
            "If this is your first time using Python, you should definitely check out\n",
            "the tutorial on the internet at https://docs.python.org/3.10/tutorial/.\n",
            "\n",
            "Enter the name of any module, keyword, or topic to get help on writing\n",
            "Python programs and using Python modules.  To quit this help utility and\n",
            "return to the interpreter, just type \"quit\".\n",
            "\n",
            "To get a list of available modules, keywords, symbols, or topics, type\n",
            "\"modules\", \"keywords\", \"symbols\", or \"topics\".  Each module also comes\n",
            "with a one-line summary of what it does; to list the modules whose name\n",
            "or summary contain a given string such as \"spam\", type \"modules spam\".\n",
            "\n",
            "help> keywords\n",
            "\n",
            "Here is a list of the Python keywords.  Enter any keyword to get more help.\n",
            "\n",
            "False               class               from                or\n",
            "None                continue            global              pass\n",
            "True                def                 if                  raise\n",
            "and                 del                 import              return\n",
            "as                  elif                in                  try\n",
            "assert              else                is                  while\n",
            "async               except              lambda              with\n",
            "await               finally             nonlocal            yield\n",
            "break               for                 not                 \n",
            "\n",
            "help> \n",
            "\n",
            "You are now leaving help and returning to the Python interpreter.\n",
            "If you want to ask for help on a particular object directly from the\n",
            "interpreter, you can type \"help(object)\".  Executing \"help('string')\"\n",
            "has the same effect as typing a particular string at the help> prompt.\n"
          ]
        }
      ]
    },
    {
      "cell_type": "markdown",
      "source": [
        "# Session 5\n",
        "  "
      ],
      "metadata": {
        "id": "bcurdcWlAG9x"
      }
    },
    {
      "cell_type": "code",
      "source": [
        "# not a keyword\n",
        "While = 10"
      ],
      "metadata": {
        "id": "WbFNkyONAK-c"
      },
      "execution_count": 1,
      "outputs": []
    },
    {
      "cell_type": "code",
      "source": [
        "whilE = 20"
      ],
      "metadata": {
        "id": "tV2Ni008AU7C"
      },
      "execution_count": 2,
      "outputs": []
    },
    {
      "cell_type": "code",
      "source": [
        "x = 787366098712738903245678234782358292837498729182728\n",
        "print(x)\n"
      ],
      "metadata": {
        "colab": {
          "base_uri": "https://localhost:8080/"
        },
        "id": "sBOZBjGOArLa",
        "outputId": "a24574d4-448c-4c21-95fb-266b6206a8b0"
      },
      "execution_count": 3,
      "outputs": [
        {
          "output_type": "stream",
          "name": "stdout",
          "text": [
            "787366098712738903245678234782358292837498729182728\n"
          ]
        }
      ]
    },
    {
      "cell_type": "code",
      "source": [
        "x * x * x"
      ],
      "metadata": {
        "colab": {
          "base_uri": "https://localhost:8080/"
        },
        "id": "JP28knJLChfw",
        "outputId": "4be2ef17-4be0-4925-b7df-762421a3c2b9"
      },
      "execution_count": 4,
      "outputs": [
        {
          "output_type": "execute_result",
          "data": {
            "text/plain": [
              "488123970070638215986770162105731315538827586091948617997871122950228891123960901918308618286311523282239313708275589787123005317148968569797875581092352"
            ]
          },
          "metadata": {},
          "execution_count": 4
        }
      ]
    },
    {
      "cell_type": "code",
      "source": [
        "# int, whole value\n",
        "x = 350\n"
      ],
      "metadata": {
        "id": "6GYC8D3dCstW"
      },
      "execution_count": 5,
      "outputs": []
    },
    {
      "cell_type": "code",
      "source": [
        "# floating point, with decimal\n",
        "y = 2.5\n",
        "y"
      ],
      "metadata": {
        "colab": {
          "base_uri": "https://localhost:8080/"
        },
        "id": "_y3sqKE5DJJO",
        "outputId": "a92550da-9cc7-4754-a234-c88cdf2f8d74"
      },
      "execution_count": 6,
      "outputs": [
        {
          "output_type": "execute_result",
          "data": {
            "text/plain": [
              "2.5"
            ]
          },
          "metadata": {},
          "execution_count": 6
        }
      ]
    },
    {
      "cell_type": "code",
      "source": [
        "# true division\n",
        "10 / 3"
      ],
      "metadata": {
        "colab": {
          "base_uri": "https://localhost:8080/"
        },
        "id": "Ff2Fz864DNbP",
        "outputId": "e0ed9ff5-9d7b-416d-fb1e-d44d736e7764"
      },
      "execution_count": 7,
      "outputs": [
        {
          "output_type": "execute_result",
          "data": {
            "text/plain": [
              "3.3333333333333335"
            ]
          },
          "metadata": {},
          "execution_count": 7
        }
      ]
    },
    {
      "cell_type": "code",
      "source": [
        "10.5 / 3.5"
      ],
      "metadata": {
        "colab": {
          "base_uri": "https://localhost:8080/"
        },
        "id": "LhiqWzCQD0cI",
        "outputId": "fbe0040a-674a-47b7-b60e-c5d2f0fa8615"
      },
      "execution_count": 8,
      "outputs": [
        {
          "output_type": "execute_result",
          "data": {
            "text/plain": [
              "3.0"
            ]
          },
          "metadata": {},
          "execution_count": 8
        }
      ]
    },
    {
      "cell_type": "code",
      "source": [
        "9 / 3"
      ],
      "metadata": {
        "colab": {
          "base_uri": "https://localhost:8080/"
        },
        "id": "UyeARajmEVRj",
        "outputId": "b181e0f0-d788-4084-ed92-460dae88d1a6"
      },
      "execution_count": 9,
      "outputs": [
        {
          "output_type": "execute_result",
          "data": {
            "text/plain": [
              "3.0"
            ]
          },
          "metadata": {},
          "execution_count": 9
        }
      ]
    },
    {
      "cell_type": "code",
      "source": [
        "# floor division\n",
        "9 // 3"
      ],
      "metadata": {
        "colab": {
          "base_uri": "https://localhost:8080/"
        },
        "id": "LTtwmVs-EGhI",
        "outputId": "8519e3f1-3fa7-4860-fc11-f0124ddb05a1"
      },
      "execution_count": 10,
      "outputs": [
        {
          "output_type": "execute_result",
          "data": {
            "text/plain": [
              "3"
            ]
          },
          "metadata": {},
          "execution_count": 10
        }
      ]
    },
    {
      "cell_type": "markdown",
      "source": [
        "![image.png](data:image/png;base64,iVBORw0KGgoAAAANSUhEUgAAAHsAAAA+CAYAAAALUmSgAAAAAXNSR0IArs4c6QAAAARnQU1BAACxjwv8YQUAAAAJcEhZcwAADsMAAA7DAcdvqGQAAAMGSURBVHhe7ZwxkqJAFIZ/9yyywdScAE+gk0xkuhmEcgDDzTbBULJNjUwGTiAnsAwG7tLbrS3OjAqOSGvt+7+qVgZ0aPy66dcir6c0ICL4YZ+JAChbEJQtCMoWBGULgrIFQdmCoGxBULYgKFsQlC2IWtlZ2EOvZ8tghtKud0eJ2cDsP0Rm17gjQ7g/dlNC9zWoo5wNDnW7sH5nZRvRo3WMQikoVSBGBM/lAWehPohfwDiwK1xiGtkISM2xm5IiSEYYzNw393P0Jytbt0P9GvWYq17HpCqAr2JtuiINFL6u6wyz/0A/mkWzX7t8R9IACn6snBz+tylU7EP5DXJO9+xsiQTP+Nm3f5uW/jvRzzk2xW5NtwwxV3P9SC6ifMMi9zF+qYSd5PyY7T/BM8/lDIOeh81Un8r97RaBZFjqtu6PX1D/cbqliqm8CIj/YtJQudoArTBBgLfAuFCYi+1mu/E7QYBp06fpmOF8P2YXGC+8xiDtvOw8wmgx1gHayraYApt8u0UUWegh0qfIuHjkYaWPyVQHssmydtZyWrb3BHPGDqaTw2mrfMdat+5XQT3cTG9GiRG9b/APzn7oPccuTjvmc/S5i/YQ3CEmvlM0XsS+w9lHW8zspTkaPyu7Eqz/ybY4Ff1l31VxOfU7tX+oe7T3Y44/n0vqxV+XCqI2Gif/F5QtCMoWBGULgrIF0SjbfP9ad2mP2x97+0fYswVB2YKgbEFQtiAoWxCULQjKFgRlC4KyBUHZgqBsQVC2IChbEJQtCP7gUBDs2YKgbEFQtiAoWxCUfTXtcq4c5UTR5dLfkl0LZV/FjXKuBKl9/66sOr5VlLKvoo/J6mOCgiFeAyBfvOlm8LhQtiAo+yZcmXNFn/qrMdtFnjk9VpBW7O+VbpMwwN4P3nHqLcpuyTZDxS2SBDjIMMHTeAtumXOlfF/bpQ6x0sk3uSjnShErf5sGo6HH2tc15URpC3v2VWT4E5k8YTki7/MXI5d+t2JuyKve50V41nP2rufZvMQpCPZsQVC2IChbDMA/wRviAANFlBYAAAAASUVORK5CYII=)\n",
        "\n",
        "floor = 2\n",
        "\n",
        "ceil = 3"
      ],
      "metadata": {
        "id": "bAr8IIlGFugo"
      }
    },
    {
      "cell_type": "code",
      "source": [
        "5 // 2"
      ],
      "metadata": {
        "colab": {
          "base_uri": "https://localhost:8080/"
        },
        "id": "jFcjhSo7EfaR",
        "outputId": "011bf59d-be12-4322-b249-73b638fe7952"
      },
      "execution_count": 11,
      "outputs": [
        {
          "output_type": "execute_result",
          "data": {
            "text/plain": [
              "2"
            ]
          },
          "metadata": {},
          "execution_count": 11
        }
      ]
    },
    {
      "cell_type": "code",
      "source": [
        "7 / 2"
      ],
      "metadata": {
        "colab": {
          "base_uri": "https://localhost:8080/"
        },
        "id": "LAQSnEI_GX_F",
        "outputId": "e5d71a90-aca5-4675-e877-ea7ae3462c69"
      },
      "execution_count": 12,
      "outputs": [
        {
          "output_type": "execute_result",
          "data": {
            "text/plain": [
              "3.5"
            ]
          },
          "metadata": {},
          "execution_count": 12
        }
      ]
    },
    {
      "cell_type": "code",
      "source": [
        "7 // 2"
      ],
      "metadata": {
        "colab": {
          "base_uri": "https://localhost:8080/"
        },
        "id": "OmMd59P-HHcJ",
        "outputId": "998476cb-e1c3-4c49-eb03-533168afb6c1"
      },
      "execution_count": 13,
      "outputs": [
        {
          "output_type": "execute_result",
          "data": {
            "text/plain": [
              "3"
            ]
          },
          "metadata": {},
          "execution_count": 13
        }
      ]
    },
    {
      "cell_type": "code",
      "source": [
        "-7 / 2"
      ],
      "metadata": {
        "colab": {
          "base_uri": "https://localhost:8080/"
        },
        "id": "03MUobFdHKvl",
        "outputId": "ae266d2d-d6de-4114-e5f1-0a1ad2c3785d"
      },
      "execution_count": 14,
      "outputs": [
        {
          "output_type": "execute_result",
          "data": {
            "text/plain": [
              "-3.5"
            ]
          },
          "metadata": {},
          "execution_count": 14
        }
      ]
    },
    {
      "cell_type": "code",
      "source": [
        "-7 // 2"
      ],
      "metadata": {
        "colab": {
          "base_uri": "https://localhost:8080/"
        },
        "id": "QXwpgAHqHRnJ",
        "outputId": "bb9ad5d3-2bd3-456d-a289-11d57f30bb5c"
      },
      "execution_count": 15,
      "outputs": [
        {
          "output_type": "execute_result",
          "data": {
            "text/plain": [
              "-4"
            ]
          },
          "metadata": {},
          "execution_count": 15
        }
      ]
    },
    {
      "cell_type": "markdown",
      "source": [
        "# Session 6"
      ],
      "metadata": {
        "id": "apLJxq8x0Xaj"
      }
    },
    {
      "cell_type": "code",
      "source": [
        "s = 'I am a string enclosed in single quotes.'\n",
        "s"
      ],
      "metadata": {
        "colab": {
          "base_uri": "https://localhost:8080/",
          "height": 35
        },
        "id": "bQIAPdzWHnDy",
        "outputId": "114592d5-733d-48d4-8132-8ad014e55883"
      },
      "execution_count": 2,
      "outputs": [
        {
          "output_type": "execute_result",
          "data": {
            "text/plain": [
              "'I am a string enclosed in single quotes.'"
            ],
            "application/vnd.google.colaboratory.intrinsic+json": {
              "type": "string"
            }
          },
          "metadata": {},
          "execution_count": 2
        }
      ]
    },
    {
      "cell_type": "code",
      "source": [
        "s2 = \"I am another string, but I am enclosed in double quotes.\"\n",
        "s2"
      ],
      "metadata": {
        "colab": {
          "base_uri": "https://localhost:8080/",
          "height": 35
        },
        "id": "daCcEljW1UqT",
        "outputId": "6cda8c98-f9e5-456c-9ab8-3bd480f55ab7"
      },
      "execution_count": 3,
      "outputs": [
        {
          "output_type": "execute_result",
          "data": {
            "text/plain": [
              "'I am another string, but I am enclosed in double quotes.'"
            ],
            "application/vnd.google.colaboratory.intrinsic+json": {
              "type": "string"
            }
          },
          "metadata": {},
          "execution_count": 3
        }
      ]
    },
    {
      "cell_type": "code",
      "source": [
        "s3 = 'It doesn\\'t matter!'\n",
        "s3"
      ],
      "metadata": {
        "colab": {
          "base_uri": "https://localhost:8080/",
          "height": 35
        },
        "id": "YNWTAJUi1giE",
        "outputId": "14ff8d26-38ca-43ea-f1f4-27ed858868b7"
      },
      "execution_count": 10,
      "outputs": [
        {
          "output_type": "execute_result",
          "data": {
            "text/plain": [
              "\"It doesn't matter!\""
            ],
            "application/vnd.google.colaboratory.intrinsic+json": {
              "type": "string"
            }
          },
          "metadata": {},
          "execution_count": 10
        }
      ]
    },
    {
      "cell_type": "code",
      "source": [
        "s3 = \"It doesn't matter!\"\n",
        "s3"
      ],
      "metadata": {
        "colab": {
          "base_uri": "https://localhost:8080/",
          "height": 35
        },
        "id": "4Kt9cbYw1qZo",
        "outputId": "20af85ca-b8bd-4549-9170-5fd7946381b1"
      },
      "execution_count": 5,
      "outputs": [
        {
          "output_type": "execute_result",
          "data": {
            "text/plain": [
              "\"It doesn't matter!\""
            ],
            "application/vnd.google.colaboratory.intrinsic+json": {
              "type": "string"
            }
          },
          "metadata": {},
          "execution_count": 5
        }
      ]
    },
    {
      "cell_type": "code",
      "source": [
        "txt = \"He said: \\\"It doesn't matter, if you enclose a string in single or double quotes!\\\"\"\n",
        "txt"
      ],
      "metadata": {
        "colab": {
          "base_uri": "https://localhost:8080/",
          "height": 35
        },
        "id": "E0DNsU4U1-_C",
        "outputId": "c3d7240a-39ce-4566-85d4-378aa14983ba"
      },
      "execution_count": 6,
      "outputs": [
        {
          "output_type": "execute_result",
          "data": {
            "text/plain": [
              "'He said: \"It doesn\\'t matter, if you enclose a string in single or double quotes!\"'"
            ],
            "application/vnd.google.colaboratory.intrinsic+json": {
              "type": "string"
            }
          },
          "metadata": {},
          "execution_count": 6
        }
      ]
    },
    {
      "cell_type": "code",
      "source": [
        "txt = 'He said: \"It doesn\\'t matter, if you enclose a string in single or double quotes!\"'\n",
        "txt"
      ],
      "metadata": {
        "colab": {
          "base_uri": "https://localhost:8080/",
          "height": 35
        },
        "id": "aXvn_jio2ef9",
        "outputId": "16c73375-216c-4118-8137-1cc4d2f7fd33"
      },
      "execution_count": 7,
      "outputs": [
        {
          "output_type": "execute_result",
          "data": {
            "text/plain": [
              "'He said: \"It doesn\\'t matter, if you enclose a string in single or double quotes!\"'"
            ],
            "application/vnd.google.colaboratory.intrinsic+json": {
              "type": "string"
            }
          },
          "metadata": {},
          "execution_count": 7
        }
      ]
    },
    {
      "cell_type": "code",
      "source": [
        "txt = 'He said: \"It doesn\\'t matter, if you enclose a string in single or double quotes!\"'\n",
        "print(txt)"
      ],
      "metadata": {
        "colab": {
          "base_uri": "https://localhost:8080/"
        },
        "id": "4swKx9Q02831",
        "outputId": "7b79d716-330d-4c66-d946-7ec7cd483f45"
      },
      "execution_count": 14,
      "outputs": [
        {
          "output_type": "stream",
          "name": "stdout",
          "text": [
            "He said: \"It doesn't matter, if you enclose a string in single or double quotes!\"\n"
          ]
        }
      ]
    },
    {
      "cell_type": "code",
      "source": [
        "txt = '''A string in triple quotes can extend\n",
        "over multiple lines like this one, and can contain\n",
        "'single' and \"double\" quotes.'''\n",
        "txt"
      ],
      "metadata": {
        "colab": {
          "base_uri": "https://localhost:8080/",
          "height": 35
        },
        "id": "UdfmYq7T3NUr",
        "outputId": "7a729d35-ac36-46cc-f435-5ae490627333"
      },
      "execution_count": 12,
      "outputs": [
        {
          "output_type": "execute_result",
          "data": {
            "text/plain": [
              "'A string in triple quotes can extend\\nover multiple lines like this one, and can contain\\n\\'single\\' and \"double\" quotes.'"
            ],
            "application/vnd.google.colaboratory.intrinsic+json": {
              "type": "string"
            }
          },
          "metadata": {},
          "execution_count": 12
        }
      ]
    },
    {
      "cell_type": "code",
      "source": [
        "print(txt)"
      ],
      "metadata": {
        "colab": {
          "base_uri": "https://localhost:8080/"
        },
        "id": "JqvOxeiy3uxH",
        "outputId": "0317b6e1-0044-4601-c6ee-66e3f3451179"
      },
      "execution_count": 13,
      "outputs": [
        {
          "output_type": "stream",
          "name": "stdout",
          "text": [
            "A string in triple quotes can extend\n",
            "over multiple lines like this one, and can contain\n",
            "'single' and \"double\" quotes.\n"
          ]
        }
      ]
    },
    {
      "cell_type": "code",
      "source": [
        "txt = '''A string in triple quotes can extend\n",
        "over multiple lines like this one, and can contain\n",
        "''single'' and \"double\" quotes.'''\n",
        "print(txt)"
      ],
      "metadata": {
        "colab": {
          "base_uri": "https://localhost:8080/"
        },
        "id": "6bx1Y5KS3yfJ",
        "outputId": "6c8b920c-b3b0-4f1b-a535-2def1fe94bf2"
      },
      "execution_count": 16,
      "outputs": [
        {
          "output_type": "stream",
          "name": "stdout",
          "text": [
            "A string in triple quotes can extend\n",
            "over multiple lines like this one, and can contain\n",
            "''single'' and \"double\" quotes.\n"
          ]
        }
      ]
    },
    {
      "cell_type": "code",
      "source": [
        "txt = '''A string in triple quotes can extend\n",
        "over multiple lines like this one, and can contain\n",
        "''single'' and \"\"\"double\"\"\" quotes.'''\n",
        "print(txt)"
      ],
      "metadata": {
        "colab": {
          "base_uri": "https://localhost:8080/"
        },
        "id": "ZGC_X8Vy4NMC",
        "outputId": "b9038be1-87de-454c-cd1c-2f38a0a153b6"
      },
      "execution_count": 17,
      "outputs": [
        {
          "output_type": "stream",
          "name": "stdout",
          "text": [
            "A string in triple quotes can extend\n",
            "over multiple lines like this one, and can contain\n",
            "''single'' and \"\"\"double\"\"\" quotes.\n"
          ]
        }
      ]
    },
    {
      "cell_type": "code",
      "source": [
        "txt = '''A string in triple quotes can extend\n",
        "over multiple lines like this one, and can contain\n",
        "\\'''single''\\' and \"\"\"double\"\"\" quotes.'''\n",
        "print(txt)"
      ],
      "metadata": {
        "colab": {
          "base_uri": "https://localhost:8080/"
        },
        "id": "8iR_bmxM4lC3",
        "outputId": "4f96f4fc-d965-4aa4-f1c2-4532af56ca33"
      },
      "execution_count": 18,
      "outputs": [
        {
          "output_type": "stream",
          "name": "stdout",
          "text": [
            "A string in triple quotes can extend\n",
            "over multiple lines like this one, and can contain\n",
            "'''single''' and \"\"\"double\"\"\" quotes.\n"
          ]
        }
      ]
    },
    {
      "cell_type": "code",
      "source": [
        "txt = \"\"\"A string in triple quotes can extend\n",
        "over multiple lines like this one, and can contain\n",
        "'''single''' and \"double\" quotes.\"\"\"\n",
        "print(txt)"
      ],
      "metadata": {
        "colab": {
          "base_uri": "https://localhost:8080/"
        },
        "id": "TkZTnaZD5N6d",
        "outputId": "7922c4e6-458a-4945-a6a8-0b55c9edafcd"
      },
      "execution_count": 19,
      "outputs": [
        {
          "output_type": "stream",
          "name": "stdout",
          "text": [
            "A string in triple quotes can extend\n",
            "over multiple lines like this one, and can contain\n",
            "'''single''' and \"double\" quotes.\n"
          ]
        }
      ]
    },
    {
      "cell_type": "code",
      "source": [
        "txt = \"\"\"A string in triple quotes can extend\n",
        "over multiple lines like this one, and can contain\n",
        "'''single''' and \\\"\"\"double\"\"\\\" quotes.\"\"\"\n",
        "print(txt)"
      ],
      "metadata": {
        "colab": {
          "base_uri": "https://localhost:8080/"
        },
        "id": "UYn8nC8s5muU",
        "outputId": "6d905d7d-195f-4e90-eca7-36f2423f5171"
      },
      "execution_count": 20,
      "outputs": [
        {
          "output_type": "stream",
          "name": "stdout",
          "text": [
            "A string in triple quotes can extend\n",
            "over multiple lines like this one, and can contain\n",
            "'''single''' and \"\"\"double\"\"\" quotes.\n"
          ]
        }
      ]
    },
    {
      "cell_type": "code",
      "source": [
        "txt = \"\"\"A string in triple quotes can extend\n",
        "over multiple lines like this one, and can contain\n",
        "'''single''' and \"\\\"\"double\\\"\"\" quotes.\"\"\"\n",
        "print(txt)"
      ],
      "metadata": {
        "colab": {
          "base_uri": "https://localhost:8080/"
        },
        "id": "sHhrj_4I59o7",
        "outputId": "f8481c4a-fc29-4569-ea93-91fd4a92f72b"
      },
      "execution_count": 21,
      "outputs": [
        {
          "output_type": "stream",
          "name": "stdout",
          "text": [
            "A string in triple quotes can extend\n",
            "over multiple lines like this one, and can contain\n",
            "'''single''' and \"\"\"double\"\"\" quotes.\n"
          ]
        }
      ]
    },
    {
      "cell_type": "code",
      "source": [
        "s = \"Hello World\"\n",
        "s"
      ],
      "metadata": {
        "colab": {
          "base_uri": "https://localhost:8080/",
          "height": 35
        },
        "id": "nD3sdu6U6LZF",
        "outputId": "2a8bdcb6-010a-4df4-841b-0fe70acd47c7"
      },
      "execution_count": 22,
      "outputs": [
        {
          "output_type": "execute_result",
          "data": {
            "text/plain": [
              "'Hello World'"
            ],
            "application/vnd.google.colaboratory.intrinsic+json": {
              "type": "string"
            }
          },
          "metadata": {},
          "execution_count": 22
        }
      ]
    },
    {
      "cell_type": "code",
      "source": [
        "s[0]"
      ],
      "metadata": {
        "colab": {
          "base_uri": "https://localhost:8080/",
          "height": 35
        },
        "id": "O-4TTiCN60V2",
        "outputId": "ac98849a-edb3-4ba4-c60c-b07ccd1f5934"
      },
      "execution_count": 23,
      "outputs": [
        {
          "output_type": "execute_result",
          "data": {
            "text/plain": [
              "'H'"
            ],
            "application/vnd.google.colaboratory.intrinsic+json": {
              "type": "string"
            }
          },
          "metadata": {},
          "execution_count": 23
        }
      ]
    },
    {
      "cell_type": "code",
      "source": [
        "s[-11]"
      ],
      "metadata": {
        "colab": {
          "base_uri": "https://localhost:8080/",
          "height": 35
        },
        "id": "O0szSHQK63oe",
        "outputId": "d99cb1c8-90eb-49c7-8b0d-0b873688d7b1"
      },
      "execution_count": 24,
      "outputs": [
        {
          "output_type": "execute_result",
          "data": {
            "text/plain": [
              "'H'"
            ],
            "application/vnd.google.colaboratory.intrinsic+json": {
              "type": "string"
            }
          },
          "metadata": {},
          "execution_count": 24
        }
      ]
    },
    {
      "cell_type": "code",
      "source": [
        "s[-12]"
      ],
      "metadata": {
        "colab": {
          "base_uri": "https://localhost:8080/",
          "height": 141
        },
        "id": "P043_n087FtC",
        "outputId": "d5e7a264-04bc-4ead-9969-ac55b37e4699"
      },
      "execution_count": 25,
      "outputs": [
        {
          "output_type": "error",
          "ename": "IndexError",
          "evalue": "string index out of range",
          "traceback": [
            "\u001b[0;31m---------------------------------------------------------------------------\u001b[0m",
            "\u001b[0;31mIndexError\u001b[0m                                Traceback (most recent call last)",
            "\u001b[0;32m<ipython-input-25-8d093900ca14>\u001b[0m in \u001b[0;36m<cell line: 1>\u001b[0;34m()\u001b[0m\n\u001b[0;32m----> 1\u001b[0;31m \u001b[0ms\u001b[0m\u001b[0;34m[\u001b[0m\u001b[0;34m-\u001b[0m\u001b[0;36m12\u001b[0m\u001b[0;34m]\u001b[0m\u001b[0;34m\u001b[0m\u001b[0;34m\u001b[0m\u001b[0m\n\u001b[0m",
            "\u001b[0;31mIndexError\u001b[0m: string index out of range"
          ]
        }
      ]
    },
    {
      "cell_type": "code",
      "source": [
        "s[12]"
      ],
      "metadata": {
        "colab": {
          "base_uri": "https://localhost:8080/",
          "height": 141
        },
        "id": "VETM9E2B7Q2X",
        "outputId": "672e453c-95c1-4dab-c0b4-0c79f0cfdd42"
      },
      "execution_count": 26,
      "outputs": [
        {
          "output_type": "error",
          "ename": "IndexError",
          "evalue": "string index out of range",
          "traceback": [
            "\u001b[0;31m---------------------------------------------------------------------------\u001b[0m",
            "\u001b[0;31mIndexError\u001b[0m                                Traceback (most recent call last)",
            "\u001b[0;32m<ipython-input-26-ccbc0585b80d>\u001b[0m in \u001b[0;36m<cell line: 1>\u001b[0;34m()\u001b[0m\n\u001b[0;32m----> 1\u001b[0;31m \u001b[0ms\u001b[0m\u001b[0;34m[\u001b[0m\u001b[0;36m12\u001b[0m\u001b[0;34m]\u001b[0m\u001b[0;34m\u001b[0m\u001b[0;34m\u001b[0m\u001b[0m\n\u001b[0m",
            "\u001b[0;31mIndexError\u001b[0m: string index out of range"
          ]
        }
      ]
    },
    {
      "cell_type": "code",
      "source": [
        "s[12-2]"
      ],
      "metadata": {
        "colab": {
          "base_uri": "https://localhost:8080/",
          "height": 35
        },
        "id": "PmelytGZ7fIS",
        "outputId": "f2e87936-d265-422e-b50f-19271f0b76ec"
      },
      "execution_count": 27,
      "outputs": [
        {
          "output_type": "execute_result",
          "data": {
            "text/plain": [
              "'d'"
            ],
            "application/vnd.google.colaboratory.intrinsic+json": {
              "type": "string"
            }
          },
          "metadata": {},
          "execution_count": 27
        }
      ]
    },
    {
      "cell_type": "code",
      "source": [
        "s[1-2]"
      ],
      "metadata": {
        "colab": {
          "base_uri": "https://localhost:8080/",
          "height": 35
        },
        "id": "sKs7tsqj7qz8",
        "outputId": "d41a1781-4d68-40b3-efd4-1c0fd0eae6b7"
      },
      "execution_count": 28,
      "outputs": [
        {
          "output_type": "execute_result",
          "data": {
            "text/plain": [
              "'d'"
            ],
            "application/vnd.google.colaboratory.intrinsic+json": {
              "type": "string"
            }
          },
          "metadata": {},
          "execution_count": 28
        }
      ]
    },
    {
      "cell_type": "code",
      "source": [
        "len(s)"
      ],
      "metadata": {
        "colab": {
          "base_uri": "https://localhost:8080/"
        },
        "id": "lfCh2VgF72Dr",
        "outputId": "7323135d-b9f6-47b9-e03f-15211df0665a"
      },
      "execution_count": 29,
      "outputs": [
        {
          "output_type": "execute_result",
          "data": {
            "text/plain": [
              "11"
            ]
          },
          "metadata": {},
          "execution_count": 29
        }
      ]
    },
    {
      "cell_type": "code",
      "source": [
        "s[len(s)-1]"
      ],
      "metadata": {
        "colab": {
          "base_uri": "https://localhost:8080/",
          "height": 35
        },
        "id": "-rZMDbr68BcE",
        "outputId": "6d782749-8545-4716-85e0-74d8dce9fbc1"
      },
      "execution_count": 30,
      "outputs": [
        {
          "output_type": "execute_result",
          "data": {
            "text/plain": [
              "'d'"
            ],
            "application/vnd.google.colaboratory.intrinsic+json": {
              "type": "string"
            }
          },
          "metadata": {},
          "execution_count": 30
        }
      ]
    },
    {
      "cell_type": "code",
      "source": [
        "# concatenation\n",
        "\"Hello\" + \"World\""
      ],
      "metadata": {
        "colab": {
          "base_uri": "https://localhost:8080/",
          "height": 35
        },
        "id": "tnAusrsa8RnK",
        "outputId": "62c92fcb-bda0-491f-e5cd-b18224e3eefb"
      },
      "execution_count": 31,
      "outputs": [
        {
          "output_type": "execute_result",
          "data": {
            "text/plain": [
              "'HelloWorld'"
            ],
            "application/vnd.google.colaboratory.intrinsic+json": {
              "type": "string"
            }
          },
          "metadata": {},
          "execution_count": 31
        }
      ]
    },
    {
      "cell_type": "code",
      "source": [
        "# repetition\n",
        "\"-\" * 5"
      ],
      "metadata": {
        "colab": {
          "base_uri": "https://localhost:8080/",
          "height": 35
        },
        "id": "V6JADFKg8uPE",
        "outputId": "32d7c954-693b-4874-b11f-1fe0b99ec8d5"
      },
      "execution_count": 32,
      "outputs": [
        {
          "output_type": "execute_result",
          "data": {
            "text/plain": [
              "'-----'"
            ],
            "application/vnd.google.colaboratory.intrinsic+json": {
              "type": "string"
            }
          },
          "metadata": {},
          "execution_count": 32
        }
      ]
    },
    {
      "cell_type": "code",
      "source": [
        "\"~/|\\~\" * 5"
      ],
      "metadata": {
        "colab": {
          "base_uri": "https://localhost:8080/",
          "height": 35
        },
        "id": "08kGPci4803V",
        "outputId": "81e1de5d-804d-4e9a-90d3-9089dbb0e9ef"
      },
      "execution_count": 33,
      "outputs": [
        {
          "output_type": "execute_result",
          "data": {
            "text/plain": [
              "'~/|\\\\~~/|\\\\~~/|\\\\~~/|\\\\~~/|\\\\~'"
            ],
            "application/vnd.google.colaboratory.intrinsic+json": {
              "type": "string"
            }
          },
          "metadata": {},
          "execution_count": 33
        }
      ]
    },
    {
      "cell_type": "code",
      "source": [
        "# indexing\n",
        "s[6]"
      ],
      "metadata": {
        "colab": {
          "base_uri": "https://localhost:8080/",
          "height": 35
        },
        "id": "ZrrrQ6I-9DPY",
        "outputId": "a615c7a4-c2a5-4ad2-83da-16c4e116dc42"
      },
      "execution_count": 35,
      "outputs": [
        {
          "output_type": "execute_result",
          "data": {
            "text/plain": [
              "'W'"
            ],
            "application/vnd.google.colaboratory.intrinsic+json": {
              "type": "string"
            }
          },
          "metadata": {},
          "execution_count": 35
        }
      ]
    },
    {
      "cell_type": "code",
      "source": [
        "\"Python\"[0]"
      ],
      "metadata": {
        "colab": {
          "base_uri": "https://localhost:8080/",
          "height": 35
        },
        "id": "LJNBU3hi9plD",
        "outputId": "f68771e6-d814-4058-c294-c6b5697928b1"
      },
      "execution_count": 36,
      "outputs": [
        {
          "output_type": "execute_result",
          "data": {
            "text/plain": [
              "'P'"
            ],
            "application/vnd.google.colaboratory.intrinsic+json": {
              "type": "string"
            }
          },
          "metadata": {},
          "execution_count": 36
        }
      ]
    },
    {
      "cell_type": "code",
      "source": [
        "\"Python\"[-2]"
      ],
      "metadata": {
        "colab": {
          "base_uri": "https://localhost:8080/",
          "height": 35
        },
        "id": "KPp-Xc719yno",
        "outputId": "2aeb1b5b-2a07-4674-83fc-261dfe14feac"
      },
      "execution_count": 37,
      "outputs": [
        {
          "output_type": "execute_result",
          "data": {
            "text/plain": [
              "'o'"
            ],
            "application/vnd.google.colaboratory.intrinsic+json": {
              "type": "string"
            }
          },
          "metadata": {},
          "execution_count": 37
        }
      ]
    },
    {
      "cell_type": "code",
      "source": [
        "# slicing\n",
        "\"Python\"[2:4]"
      ],
      "metadata": {
        "colab": {
          "base_uri": "https://localhost:8080/",
          "height": 35
        },
        "id": "8uMwQfbl9OCB",
        "outputId": "94ac860f-addd-4c24-8587-29ee81a282d8"
      },
      "execution_count": 38,
      "outputs": [
        {
          "output_type": "execute_result",
          "data": {
            "text/plain": [
              "'th'"
            ],
            "application/vnd.google.colaboratory.intrinsic+json": {
              "type": "string"
            }
          },
          "metadata": {},
          "execution_count": 38
        }
      ]
    },
    {
      "cell_type": "code",
      "source": [
        "\"Ali Patel\"[0:3]"
      ],
      "metadata": {
        "colab": {
          "base_uri": "https://localhost:8080/",
          "height": 35
        },
        "id": "qPx6yKKy-ap7",
        "outputId": "a8172a7e-5275-431c-b796-0fe46fe3ca8b"
      },
      "execution_count": 39,
      "outputs": [
        {
          "output_type": "execute_result",
          "data": {
            "text/plain": [
              "'Ali'"
            ],
            "application/vnd.google.colaboratory.intrinsic+json": {
              "type": "string"
            }
          },
          "metadata": {},
          "execution_count": 39
        }
      ]
    },
    {
      "cell_type": "code",
      "source": [
        "\"Ali Patel\"[4:9]"
      ],
      "metadata": {
        "colab": {
          "base_uri": "https://localhost:8080/",
          "height": 35
        },
        "id": "yJWrWuXT_G_e",
        "outputId": "a8882ac1-5a3b-4b9b-8b2c-5708c43bb51c"
      },
      "execution_count": 40,
      "outputs": [
        {
          "output_type": "execute_result",
          "data": {
            "text/plain": [
              "'Patel'"
            ],
            "application/vnd.google.colaboratory.intrinsic+json": {
              "type": "string"
            }
          },
          "metadata": {},
          "execution_count": 40
        }
      ]
    },
    {
      "cell_type": "code",
      "source": [
        "# size / length\n",
        "len('Ali Patel')"
      ],
      "metadata": {
        "colab": {
          "base_uri": "https://localhost:8080/"
        },
        "id": "QikvJ4TI_axA",
        "outputId": "779d8de8-8f41-4f66-c774-dc5b6253ea9c"
      },
      "execution_count": 41,
      "outputs": [
        {
          "output_type": "execute_result",
          "data": {
            "text/plain": [
              "9"
            ]
          },
          "metadata": {},
          "execution_count": 41
        }
      ]
    },
    {
      "cell_type": "code",
      "source": [
        "txt = '''A string in triple quotes can extend\n",
        "over multiple lines like this one, and can contain\n",
        "'single' and \"double\" quotes.'''\n",
        "txt\n"
      ],
      "metadata": {
        "colab": {
          "base_uri": "https://localhost:8080/",
          "height": 35
        },
        "id": "DkZJnUTz_hGF",
        "outputId": "0291ed77-b40b-4460-8efd-bd3fcaa2da88"
      },
      "execution_count": 42,
      "outputs": [
        {
          "output_type": "execute_result",
          "data": {
            "text/plain": [
              "'A string in triple quotes can extend\\nover multiple lines like this one, and can contain\\n\\'single\\' and \"double\" quotes.'"
            ],
            "application/vnd.google.colaboratory.intrinsic+json": {
              "type": "string"
            }
          },
          "metadata": {},
          "execution_count": 42
        }
      ]
    },
    {
      "cell_type": "code",
      "source": [
        "len(txt)"
      ],
      "metadata": {
        "colab": {
          "base_uri": "https://localhost:8080/"
        },
        "id": "7FQhLLPiADmp",
        "outputId": "041132af-20e1-41fb-be8c-17247d94d523"
      },
      "execution_count": 43,
      "outputs": [
        {
          "output_type": "execute_result",
          "data": {
            "text/plain": [
              "117"
            ]
          },
          "metadata": {},
          "execution_count": 43
        }
      ]
    },
    {
      "cell_type": "code",
      "source": [
        "txt[0]"
      ],
      "metadata": {
        "colab": {
          "base_uri": "https://localhost:8080/",
          "height": 35
        },
        "id": "a2OptV8GAGre",
        "outputId": "54324344-0240-4518-d2c3-7fd5cb786357"
      },
      "execution_count": 44,
      "outputs": [
        {
          "output_type": "execute_result",
          "data": {
            "text/plain": [
              "'A'"
            ],
            "application/vnd.google.colaboratory.intrinsic+json": {
              "type": "string"
            }
          },
          "metadata": {},
          "execution_count": 44
        }
      ]
    },
    {
      "cell_type": "code",
      "source": [
        "txt[-1]"
      ],
      "metadata": {
        "colab": {
          "base_uri": "https://localhost:8080/",
          "height": 35
        },
        "id": "kRbGLMc0AKcG",
        "outputId": "075e6cda-4846-41ed-b331-fe765a47c864"
      },
      "execution_count": 45,
      "outputs": [
        {
          "output_type": "execute_result",
          "data": {
            "text/plain": [
              "'.'"
            ],
            "application/vnd.google.colaboratory.intrinsic+json": {
              "type": "string"
            }
          },
          "metadata": {},
          "execution_count": 45
        }
      ]
    },
    {
      "cell_type": "code",
      "source": [
        "txt[2:8]"
      ],
      "metadata": {
        "colab": {
          "base_uri": "https://localhost:8080/",
          "height": 35
        },
        "id": "t6pSGTkuAM8y",
        "outputId": "9c947885-3493-414c-845f-f37ca959a59c"
      },
      "execution_count": 47,
      "outputs": [
        {
          "output_type": "execute_result",
          "data": {
            "text/plain": [
              "'string'"
            ],
            "application/vnd.google.colaboratory.intrinsic+json": {
              "type": "string"
            }
          },
          "metadata": {},
          "execution_count": 47
        }
      ]
    },
    {
      "cell_type": "code",
      "source": [
        "print(txt)"
      ],
      "metadata": {
        "colab": {
          "base_uri": "https://localhost:8080/"
        },
        "id": "Shjr94n8AVUm",
        "outputId": "a429ed82-193e-41ac-b3fc-27cf8faee364"
      },
      "execution_count": 48,
      "outputs": [
        {
          "output_type": "stream",
          "name": "stdout",
          "text": [
            "A string in triple quotes can extend\n",
            "over multiple lines like this one, and can contain\n",
            "'single' and \"double\" quotes.\n"
          ]
        }
      ]
    },
    {
      "cell_type": "markdown",
      "source": [
        "# Session 7"
      ],
      "metadata": {
        "id": "LZ9QdCEO90C6"
      }
    },
    {
      "cell_type": "code",
      "source": [
        "# immutable strings\n",
        "s = \"Some things are immutable!\"\n",
        "s[-1]"
      ],
      "metadata": {
        "colab": {
          "base_uri": "https://localhost:8080/",
          "height": 35
        },
        "id": "WSqseinAAkPP",
        "outputId": "c83512eb-9867-4fd4-ff3b-f732f71b783e"
      },
      "execution_count": 2,
      "outputs": [
        {
          "output_type": "execute_result",
          "data": {
            "text/plain": [
              "'!'"
            ],
            "application/vnd.google.colaboratory.intrinsic+json": {
              "type": "string"
            }
          },
          "metadata": {},
          "execution_count": 2
        }
      ]
    },
    {
      "cell_type": "code",
      "source": [
        "s[-1] = \".\""
      ],
      "metadata": {
        "id": "XJfSjnaT9-At",
        "outputId": "1a129639-1144-474b-c4ee-a923a820f6f8",
        "colab": {
          "base_uri": "https://localhost:8080/",
          "height": 141
        }
      },
      "execution_count": 3,
      "outputs": [
        {
          "output_type": "error",
          "ename": "TypeError",
          "evalue": "'str' object does not support item assignment",
          "traceback": [
            "\u001b[0;31m---------------------------------------------------------------------------\u001b[0m",
            "\u001b[0;31mTypeError\u001b[0m                                 Traceback (most recent call last)",
            "\u001b[0;32m<ipython-input-3-7394423f18cc>\u001b[0m in \u001b[0;36m<cell line: 1>\u001b[0;34m()\u001b[0m\n\u001b[0;32m----> 1\u001b[0;31m \u001b[0ms\u001b[0m\u001b[0;34m[\u001b[0m\u001b[0;34m-\u001b[0m\u001b[0;36m1\u001b[0m\u001b[0;34m]\u001b[0m \u001b[0;34m=\u001b[0m \u001b[0;34m\".\"\u001b[0m\u001b[0;34m\u001b[0m\u001b[0;34m\u001b[0m\u001b[0m\n\u001b[0m",
            "\u001b[0;31mTypeError\u001b[0m: 'str' object does not support item assignment"
          ]
        }
      ]
    },
    {
      "cell_type": "code",
      "source": [
        "s = \"Hello World\""
      ],
      "metadata": {
        "id": "6jiBACvA-6aJ"
      },
      "execution_count": 4,
      "outputs": []
    },
    {
      "cell_type": "code",
      "source": [
        "s[0]"
      ],
      "metadata": {
        "id": "Bv2bEKgh_ElT",
        "outputId": "9199cd6e-f2a9-4040-ebd4-99bee329d798",
        "colab": {
          "base_uri": "https://localhost:8080/",
          "height": 35
        }
      },
      "execution_count": 5,
      "outputs": [
        {
          "output_type": "execute_result",
          "data": {
            "text/plain": [
              "'H'"
            ],
            "application/vnd.google.colaboratory.intrinsic+json": {
              "type": "string"
            }
          },
          "metadata": {},
          "execution_count": 5
        }
      ]
    },
    {
      "cell_type": "code",
      "source": [
        "s[0] = \"D\""
      ],
      "metadata": {
        "id": "B8w1KQRi_cXw",
        "outputId": "14f00e9e-2635-4168-e8e6-9664906382a9",
        "colab": {
          "base_uri": "https://localhost:8080/",
          "height": 141
        }
      },
      "execution_count": 6,
      "outputs": [
        {
          "output_type": "error",
          "ename": "TypeError",
          "evalue": "'str' object does not support item assignment",
          "traceback": [
            "\u001b[0;31m---------------------------------------------------------------------------\u001b[0m",
            "\u001b[0;31mTypeError\u001b[0m                                 Traceback (most recent call last)",
            "\u001b[0;32m<ipython-input-6-51196eef6afb>\u001b[0m in \u001b[0;36m<cell line: 1>\u001b[0;34m()\u001b[0m\n\u001b[0;32m----> 1\u001b[0;31m \u001b[0ms\u001b[0m\u001b[0;34m[\u001b[0m\u001b[0;36m0\u001b[0m\u001b[0;34m]\u001b[0m \u001b[0;34m=\u001b[0m \u001b[0;34m\"D\"\u001b[0m\u001b[0;34m\u001b[0m\u001b[0;34m\u001b[0m\u001b[0m\n\u001b[0m",
            "\u001b[0;31mTypeError\u001b[0m: 'str' object does not support item assignment"
          ]
        }
      ]
    },
    {
      "cell_type": "code",
      "source": [
        "#   escacpe sequence\n",
        "\n",
        "\"this is backslash \\\\\""
      ],
      "metadata": {
        "id": "b3UGrI4J_4Fz",
        "outputId": "c572ef96-f322-4f21-862a-504ae0f3dba9",
        "colab": {
          "base_uri": "https://localhost:8080/",
          "height": 35
        }
      },
      "execution_count": 8,
      "outputs": [
        {
          "output_type": "execute_result",
          "data": {
            "text/plain": [
              "'this is backslash \\\\'"
            ],
            "application/vnd.google.colaboratory.intrinsic+json": {
              "type": "string"
            }
          },
          "metadata": {},
          "execution_count": 8
        }
      ]
    },
    {
      "cell_type": "code",
      "source": [
        "print(\"this is backslash \\\\\")"
      ],
      "metadata": {
        "id": "cHEQqvFAA_jM",
        "outputId": "d04afc30-0643-48cf-8cfa-f50ea9acdfad",
        "colab": {
          "base_uri": "https://localhost:8080/"
        }
      },
      "execution_count": 9,
      "outputs": [
        {
          "output_type": "stream",
          "name": "stdout",
          "text": [
            "this is backslash \\\n"
          ]
        }
      ]
    },
    {
      "cell_type": "code",
      "source": [
        "\"following is the character: \\n \\\\\""
      ],
      "metadata": {
        "id": "VmK5P4WBBVns",
        "outputId": "727c3c43-9aa2-4c18-db19-237ed5ba2baf",
        "colab": {
          "base_uri": "https://localhost:8080/",
          "height": 35
        }
      },
      "execution_count": 10,
      "outputs": [
        {
          "output_type": "execute_result",
          "data": {
            "text/plain": [
              "'following is the character: \\n \\\\'"
            ],
            "application/vnd.google.colaboratory.intrinsic+json": {
              "type": "string"
            }
          },
          "metadata": {},
          "execution_count": 10
        }
      ]
    },
    {
      "cell_type": "code",
      "source": [
        "print(\"following is the character: \\n\\t\\\\\")"
      ],
      "metadata": {
        "id": "7r8CQ5VVBzwy",
        "outputId": "23a9fc52-0865-479e-cc25-9d3b25a65b44",
        "colab": {
          "base_uri": "https://localhost:8080/"
        }
      },
      "execution_count": 13,
      "outputs": [
        {
          "output_type": "stream",
          "name": "stdout",
          "text": [
            "following is the character: \n",
            "\t\\\n"
          ]
        }
      ]
    },
    {
      "cell_type": "code",
      "source": [
        "print(\"beep \\a beep \\a\")"
      ],
      "metadata": {
        "id": "2t5pdCx0B6vG",
        "outputId": "61e21089-43cb-41d6-e68a-a464b414f105",
        "colab": {
          "base_uri": "https://localhost:8080/"
        }
      },
      "execution_count": 14,
      "outputs": [
        {
          "output_type": "stream",
          "name": "stdout",
          "text": [
            "beep \u0007 beep \u0007\n"
          ]
        }
      ]
    },
    {
      "cell_type": "code",
      "source": [
        "print(\"\\u1FAE9\")"
      ],
      "metadata": {
        "id": "iWQKCm99CyoO",
        "outputId": "8f0d4364-aa49-4b44-e69e-48e960aef5f2",
        "colab": {
          "base_uri": "https://localhost:8080/"
        }
      },
      "execution_count": 15,
      "outputs": [
        {
          "output_type": "stream",
          "name": "stdout",
          "text": [
            "ᾮ9\n"
          ]
        }
      ]
    },
    {
      "cell_type": "code",
      "source": [
        "print(\"\\u0651\")"
      ],
      "metadata": {
        "id": "7GxNf1wtDMvN",
        "outputId": "f76bf668-cbc6-4207-ed8f-8977dca2d2d7",
        "colab": {
          "base_uri": "https://localhost:8080/"
        }
      },
      "execution_count": 17,
      "outputs": [
        {
          "output_type": "stream",
          "name": "stdout",
          "text": [
            "ّ\n"
          ]
        }
      ]
    },
    {
      "cell_type": "code",
      "source": [
        "print(\"\\u0627\\u064F\\u0654\")"
      ],
      "metadata": {
        "id": "I7rQembuDo9O",
        "outputId": "b93e8cd0-66c8-443f-a5e5-8bb462dbc304",
        "colab": {
          "base_uri": "https://localhost:8080/"
        }
      },
      "execution_count": 18,
      "outputs": [
        {
          "output_type": "stream",
          "name": "stdout",
          "text": [
            "أُ\n"
          ]
        }
      ]
    },
    {
      "cell_type": "code",
      "source": [
        "# types\n",
        "a =10\n",
        "type(a)"
      ],
      "metadata": {
        "id": "VpgzsovjEIjR",
        "outputId": "0de862d5-bcfd-4e0f-ca78-46e42924eb5f",
        "colab": {
          "base_uri": "https://localhost:8080/"
        }
      },
      "execution_count": 19,
      "outputs": [
        {
          "output_type": "execute_result",
          "data": {
            "text/plain": [
              "int"
            ]
          },
          "metadata": {},
          "execution_count": 19
        }
      ]
    },
    {
      "cell_type": "code",
      "source": [
        "type(10)"
      ],
      "metadata": {
        "id": "PExM0QTvEp0v",
        "outputId": "049fcfa1-b467-408e-93df-b36eac44b546",
        "colab": {
          "base_uri": "https://localhost:8080/"
        }
      },
      "execution_count": 20,
      "outputs": [
        {
          "output_type": "execute_result",
          "data": {
            "text/plain": [
              "int"
            ]
          },
          "metadata": {},
          "execution_count": 20
        }
      ]
    },
    {
      "cell_type": "code",
      "source": [
        "type(12.66)"
      ],
      "metadata": {
        "id": "DXOPqNBfE5Qm",
        "outputId": "ed986a17-199c-429c-ce4b-c4e271ee9500",
        "colab": {
          "base_uri": "https://localhost:8080/"
        }
      },
      "execution_count": 21,
      "outputs": [
        {
          "output_type": "execute_result",
          "data": {
            "text/plain": [
              "float"
            ]
          },
          "metadata": {},
          "execution_count": 21
        }
      ]
    },
    {
      "cell_type": "code",
      "source": [
        "type(\"hello\")"
      ],
      "metadata": {
        "id": "dPheh5zYFETm",
        "outputId": "5bfe9361-26f9-48b9-bb61-aa19bdbeb0a2",
        "colab": {
          "base_uri": "https://localhost:8080/"
        }
      },
      "execution_count": 22,
      "outputs": [
        {
          "output_type": "execute_result",
          "data": {
            "text/plain": [
              "str"
            ]
          },
          "metadata": {},
          "execution_count": 22
        }
      ]
    },
    {
      "cell_type": "code",
      "source": [
        "# operator\n",
        "10 / 3"
      ],
      "metadata": {
        "id": "eQGL_gQ-FamR",
        "outputId": "269fd151-541f-4717-c464-0de63603a2cd",
        "colab": {
          "base_uri": "https://localhost:8080/"
        }
      },
      "execution_count": 23,
      "outputs": [
        {
          "output_type": "execute_result",
          "data": {
            "text/plain": [
              "3.3333333333333335"
            ]
          },
          "metadata": {},
          "execution_count": 23
        }
      ]
    },
    {
      "cell_type": "code",
      "source": [
        "10 // 3"
      ],
      "metadata": {
        "id": "9kbiJDY8GOS4",
        "outputId": "11ad123e-1ac4-4bd5-ef53-70b3c9d83ab8",
        "colab": {
          "base_uri": "https://localhost:8080/"
        }
      },
      "execution_count": 24,
      "outputs": [
        {
          "output_type": "execute_result",
          "data": {
            "text/plain": [
              "3"
            ]
          },
          "metadata": {},
          "execution_count": 24
        }
      ]
    },
    {
      "cell_type": "code",
      "source": [
        "11 // 3"
      ],
      "metadata": {
        "id": "mwd03bMcGR_t",
        "outputId": "4a5580e8-eb28-4cd9-f98a-0a1508a697aa",
        "colab": {
          "base_uri": "https://localhost:8080/"
        }
      },
      "execution_count": 25,
      "outputs": [
        {
          "output_type": "execute_result",
          "data": {
            "text/plain": [
              "3"
            ]
          },
          "metadata": {},
          "execution_count": 25
        }
      ]
    },
    {
      "cell_type": "code",
      "source": [
        "13 // 3\n"
      ],
      "metadata": {
        "id": "_ur0yh21GZiu",
        "outputId": "9a2fa818-ae36-4493-f7e2-21d580387305",
        "colab": {
          "base_uri": "https://localhost:8080/"
        }
      },
      "execution_count": 26,
      "outputs": [
        {
          "output_type": "execute_result",
          "data": {
            "text/plain": [
              "4"
            ]
          },
          "metadata": {},
          "execution_count": 26
        }
      ]
    },
    {
      "cell_type": "code",
      "source": [
        "# modulo operator %\n",
        "6 % 3"
      ],
      "metadata": {
        "id": "KvBkwxNYGg9w",
        "outputId": "d6e241e0-3f9b-4053-a3bc-0fa19558d71e",
        "colab": {
          "base_uri": "https://localhost:8080/"
        }
      },
      "execution_count": 27,
      "outputs": [
        {
          "output_type": "execute_result",
          "data": {
            "text/plain": [
              "0"
            ]
          },
          "metadata": {},
          "execution_count": 27
        }
      ]
    },
    {
      "cell_type": "code",
      "source": [
        "7 % 3"
      ],
      "metadata": {
        "id": "LkfwQtxdG17I",
        "outputId": "ba2601d4-62bd-46ba-d705-6bec57286e18",
        "colab": {
          "base_uri": "https://localhost:8080/"
        }
      },
      "execution_count": 28,
      "outputs": [
        {
          "output_type": "execute_result",
          "data": {
            "text/plain": [
              "1"
            ]
          },
          "metadata": {},
          "execution_count": 28
        }
      ]
    },
    {
      "cell_type": "code",
      "source": [
        "27 % 3"
      ],
      "metadata": {
        "id": "ynjx5CzxG_ur",
        "outputId": "f6fc350a-d6d9-4bd0-a0ce-2896b5f536d1",
        "colab": {
          "base_uri": "https://localhost:8080/"
        }
      },
      "execution_count": 29,
      "outputs": [
        {
          "output_type": "execute_result",
          "data": {
            "text/plain": [
              "0"
            ]
          },
          "metadata": {},
          "execution_count": 29
        }
      ]
    },
    {
      "cell_type": "code",
      "source": [
        "44 % 5"
      ],
      "metadata": {
        "id": "3l8Mt8hqHZ5F",
        "outputId": "0c7ac415-0cfd-4d65-bdf6-22d7a3f9e620",
        "colab": {
          "base_uri": "https://localhost:8080/"
        }
      },
      "execution_count": 30,
      "outputs": [
        {
          "output_type": "execute_result",
          "data": {
            "text/plain": [
              "4"
            ]
          },
          "metadata": {},
          "execution_count": 30
        }
      ]
    },
    {
      "cell_type": "code",
      "source": [
        "55 % 7"
      ],
      "metadata": {
        "id": "7YvPv_9eHeeG",
        "outputId": "6950c02a-65ef-4ce3-8e07-7231eec7a00b",
        "colab": {
          "base_uri": "https://localhost:8080/"
        }
      },
      "execution_count": 31,
      "outputs": [
        {
          "output_type": "execute_result",
          "data": {
            "text/plain": [
              "6"
            ]
          },
          "metadata": {},
          "execution_count": 31
        }
      ]
    },
    {
      "cell_type": "code",
      "source": [],
      "metadata": {
        "id": "7njzdWklHvZ3"
      },
      "execution_count": null,
      "outputs": []
    }
  ]
}