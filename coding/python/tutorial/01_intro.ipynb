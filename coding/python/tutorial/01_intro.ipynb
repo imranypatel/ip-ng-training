{
  "nbformat": 4,
  "nbformat_minor": 0,
  "metadata": {
    "colab": {
      "provenance": [],
      "authorship_tag": "ABX9TyNtS76xsMxovdPqNWkrlPoS",
      "include_colab_link": true
    },
    "kernelspec": {
      "name": "python3",
      "display_name": "Python 3"
    },
    "language_info": {
      "name": "python"
    }
  },
  "cells": [
    {
      "cell_type": "markdown",
      "metadata": {
        "id": "view-in-github",
        "colab_type": "text"
      },
      "source": [
        "<a href=\"https://colab.research.google.com/github/imranypatel/ip-ng-training/blob/main/coding/python/tutorial/01_intro.ipynb\" target=\"_parent\"><img src=\"https://colab.research.google.com/assets/colab-badge.svg\" alt=\"Open In Colab\"/></a>"
      ]
    },
    {
      "cell_type": "markdown",
      "source": [
        "# Interact with Python Interpreter Environment\n",
        "Press Shift+Enter in the following cells to direct interpreter to interprete the command(s)."
      ],
      "metadata": {
        "id": "-nI0yhGOrcJc"
      }
    },
    {
      "cell_type": "markdown",
      "source": [
        "# Python Version"
      ],
      "metadata": {
        "id": "RHV0HCwX5JcG"
      }
    },
    {
      "cell_type": "code",
      "execution_count": null,
      "metadata": {
        "id": "bT4P5P_fmlSa"
      },
      "outputs": [],
      "source": [
        "# ask interpreter to print current version of python environment\n",
        "import sys\n",
        "print(sys.version)"
      ]
    },
    {
      "cell_type": "markdown",
      "source": [
        "# Instruction or Command to the Interpreter"
      ],
      "metadata": {
        "id": "MdHKJ7cy5gIq"
      }
    },
    {
      "cell_type": "code",
      "source": [
        "# hello is not a command or instruction so should produce an error\n",
        "hello"
      ],
      "metadata": {
        "id": "OflR094l4WoA"
      },
      "execution_count": null,
      "outputs": []
    },
    {
      "cell_type": "code",
      "source": [
        "# print is a command, so it should print\n",
        "print(\"Hello World\")"
      ],
      "metadata": {
        "id": "kwC9y_Bc4xjZ"
      },
      "execution_count": null,
      "outputs": []
    },
    {
      "cell_type": "code",
      "source": [
        "#\n",
        "1+1"
      ],
      "metadata": {
        "id": "S4dTk1TdoSZb"
      },
      "execution_count": null,
      "outputs": []
    },
    {
      "cell_type": "code",
      "source": [],
      "metadata": {
        "id": "LjJH6P77o3_H"
      },
      "execution_count": null,
      "outputs": []
    }
  ]
}