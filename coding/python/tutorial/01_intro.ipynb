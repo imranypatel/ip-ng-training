{
  "nbformat": 4,
  "nbformat_minor": 0,
  "metadata": {
    "colab": {
      "provenance": [],
      "authorship_tag": "ABX9TyOGkWa4AdvPOT1dqSB7E6qf",
      "include_colab_link": true
    },
    "kernelspec": {
      "name": "python3",
      "display_name": "Python 3"
    },
    "language_info": {
      "name": "python"
    }
  },
  "cells": [
    {
      "cell_type": "markdown",
      "metadata": {
        "id": "view-in-github",
        "colab_type": "text"
      },
      "source": [
        "<a href=\"https://colab.research.google.com/github/imranypatel/ip-ng-training/blob/main/coding/python/tutorial/01_intro.ipynb\" target=\"_parent\"><img src=\"https://colab.research.google.com/assets/colab-badge.svg\" alt=\"Open In Colab\"/></a>"
      ]
    },
    {
      "cell_type": "markdown",
      "source": [
        "# Interact with Python Interpreter Environment\n",
        "Press Shift+Enter in the following cells to direct interpreter to interprete the command(s)."
      ],
      "metadata": {
        "id": "-nI0yhGOrcJc"
      }
    },
    {
      "cell_type": "markdown",
      "source": [
        "# Python Version"
      ],
      "metadata": {
        "id": "RHV0HCwX5JcG"
      }
    },
    {
      "cell_type": "code",
      "execution_count": 2,
      "metadata": {
        "id": "bT4P5P_fmlSa",
        "colab": {
          "base_uri": "https://localhost:8080/"
        },
        "outputId": "c5a7e070-2f66-4a89-fd48-59d4d02d6ccb"
      },
      "outputs": [
        {
          "output_type": "stream",
          "name": "stdout",
          "text": [
            "3.10.12 (main, Nov  6 2024, 20:22:13) [GCC 11.4.0]\n"
          ]
        }
      ],
      "source": [
        "# ask interpreter to print current version of python environment\n",
        "import sys\n",
        "print(sys.version)"
      ]
    },
    {
      "cell_type": "markdown",
      "source": [
        "# Instruction or Command to the Interpreter"
      ],
      "metadata": {
        "id": "MdHKJ7cy5gIq"
      }
    },
    {
      "cell_type": "code",
      "source": [
        "# hello is not a command or instruction so should produce an error\n",
        "hello"
      ],
      "metadata": {
        "id": "OflR094l4WoA",
        "colab": {
          "base_uri": "https://localhost:8080/",
          "height": 159
        },
        "outputId": "7c3d8a59-c777-4f14-f43f-0a075637b580"
      },
      "execution_count": 3,
      "outputs": [
        {
          "output_type": "error",
          "ename": "NameError",
          "evalue": "name 'hello' is not defined",
          "traceback": [
            "\u001b[0;31m---------------------------------------------------------------------------\u001b[0m",
            "\u001b[0;31mNameError\u001b[0m                                 Traceback (most recent call last)",
            "\u001b[0;32m<ipython-input-3-034596cde574>\u001b[0m in \u001b[0;36m<cell line: 2>\u001b[0;34m()\u001b[0m\n\u001b[1;32m      1\u001b[0m \u001b[0;31m# hello is not a command or instruction so should produce an error\u001b[0m\u001b[0;34m\u001b[0m\u001b[0;34m\u001b[0m\u001b[0m\n\u001b[0;32m----> 2\u001b[0;31m \u001b[0mhello\u001b[0m\u001b[0;34m\u001b[0m\u001b[0;34m\u001b[0m\u001b[0m\n\u001b[0m",
            "\u001b[0;31mNameError\u001b[0m: name 'hello' is not defined"
          ]
        }
      ]
    },
    {
      "cell_type": "code",
      "source": [
        "print(\"hello world\")"
      ],
      "metadata": {
        "colab": {
          "base_uri": "https://localhost:8080/"
        },
        "id": "wps65GW7ZYhr",
        "outputId": "197e548d-080b-4d86-f521-e0755f85a281"
      },
      "execution_count": 12,
      "outputs": [
        {
          "output_type": "stream",
          "name": "stdout",
          "text": [
            "hello world\n"
          ]
        }
      ]
    },
    {
      "cell_type": "code",
      "source": [
        "# print is a command, so it should print\n",
        "print(\"Hello World\")"
      ],
      "metadata": {
        "id": "kwC9y_Bc4xjZ",
        "colab": {
          "base_uri": "https://localhost:8080/"
        },
        "outputId": "7869ae83-d134-47d8-9df9-a1815bdd7c54"
      },
      "execution_count": 4,
      "outputs": [
        {
          "output_type": "stream",
          "name": "stdout",
          "text": [
            "Hello World\n"
          ]
        }
      ]
    },
    {
      "cell_type": "code",
      "source": [
        "print(10)"
      ],
      "metadata": {
        "colab": {
          "base_uri": "https://localhost:8080/"
        },
        "id": "macF2Ip8ZOF0",
        "outputId": "8552da70-b936-4597-cede-af98902a00e5"
      },
      "execution_count": 10,
      "outputs": [
        {
          "output_type": "stream",
          "name": "stdout",
          "text": [
            "10\n"
          ]
        }
      ]
    },
    {
      "cell_type": "markdown",
      "source": [
        "Let's test basic maths operation"
      ],
      "metadata": {
        "id": "tkS1pS36OIxX"
      }
    },
    {
      "cell_type": "code",
      "source": [
        "#\n",
        "1 + 1"
      ],
      "metadata": {
        "id": "S4dTk1TdoSZb",
        "colab": {
          "base_uri": "https://localhost:8080/"
        },
        "outputId": "db527952-39c7-4189-9785-299c3bfd356b"
      },
      "execution_count": 5,
      "outputs": [
        {
          "output_type": "execute_result",
          "data": {
            "text/plain": [
              "2"
            ]
          },
          "metadata": {},
          "execution_count": 5
        }
      ]
    },
    {
      "cell_type": "code",
      "source": [
        "4.567 * 8.323 * 17\n"
      ],
      "metadata": {
        "id": "LjJH6P77o3_H",
        "colab": {
          "base_uri": "https://localhost:8080/"
        },
        "outputId": "367b2041-880e-42b0-8b62-1c84b021603e"
      },
      "execution_count": 7,
      "outputs": [
        {
          "output_type": "execute_result",
          "data": {
            "text/plain": [
              "646.189397"
            ]
          },
          "metadata": {},
          "execution_count": 7
        }
      ]
    },
    {
      "cell_type": "code",
      "source": [
        "3 * 4 + 2"
      ],
      "metadata": {
        "colab": {
          "base_uri": "https://localhost:8080/"
        },
        "id": "Rudc-rO-QRnr",
        "outputId": "d828dd8d-bda2-4b27-f23b-c1ae307c51e0"
      },
      "execution_count": 8,
      "outputs": [
        {
          "output_type": "execute_result",
          "data": {
            "text/plain": [
              "14"
            ]
          },
          "metadata": {},
          "execution_count": 8
        }
      ]
    },
    {
      "cell_type": "code",
      "source": [
        "3 + 4 * 2"
      ],
      "metadata": {
        "colab": {
          "base_uri": "https://localhost:8080/"
        },
        "id": "ZfRRcChMRLQv",
        "outputId": "677699fd-c206-4380-f39f-31c413c20ced"
      },
      "execution_count": 9,
      "outputs": [
        {
          "output_type": "execute_result",
          "data": {
            "text/plain": [
              "11"
            ]
          },
          "metadata": {},
          "execution_count": 9
        }
      ]
    },
    {
      "cell_type": "code",
      "source": [
        "1"
      ],
      "metadata": {
        "colab": {
          "base_uri": "https://localhost:8080/"
        },
        "id": "4dRq9wP1RYia",
        "outputId": "1c8fb76d-2d86-49bc-9c0c-59d426d54d79"
      },
      "execution_count": 12,
      "outputs": [
        {
          "output_type": "execute_result",
          "data": {
            "text/plain": [
              "1"
            ]
          },
          "metadata": {},
          "execution_count": 12
        }
      ]
    },
    {
      "cell_type": "code",
      "source": [
        "1 + 4 * 3"
      ],
      "metadata": {
        "colab": {
          "base_uri": "https://localhost:8080/"
        },
        "id": "ZGrDyAaSRqst",
        "outputId": "f636767b-1657-4033-ba71-319248f86fd7"
      },
      "execution_count": 13,
      "outputs": [
        {
          "output_type": "execute_result",
          "data": {
            "text/plain": [
              "13"
            ]
          },
          "metadata": {},
          "execution_count": 13
        }
      ]
    },
    {
      "cell_type": "code",
      "source": [
        "100"
      ],
      "metadata": {
        "colab": {
          "base_uri": "https://localhost:8080/"
        },
        "id": "Ei-euj79Ryo8",
        "outputId": "692a157f-79ca-4a7b-c626-3579e50d3105"
      },
      "execution_count": 14,
      "outputs": [
        {
          "output_type": "execute_result",
          "data": {
            "text/plain": [
              "100"
            ]
          },
          "metadata": {},
          "execution_count": 14
        }
      ]
    },
    {
      "cell_type": "code",
      "source": [
        "+"
      ],
      "metadata": {
        "colab": {
          "base_uri": "https://localhost:8080/",
          "height": 106
        },
        "id": "tV49xSh_SNZQ",
        "outputId": "0d15f9ec-cfc2-4f55-8548-4ba8d6268e03"
      },
      "execution_count": 15,
      "outputs": [
        {
          "output_type": "error",
          "ename": "SyntaxError",
          "evalue": "invalid syntax (<ipython-input-15-0b024bbfe84e>, line 1)",
          "traceback": [
            "\u001b[0;36m  File \u001b[0;32m\"<ipython-input-15-0b024bbfe84e>\"\u001b[0;36m, line \u001b[0;32m1\u001b[0m\n\u001b[0;31m    +\u001b[0m\n\u001b[0m     ^\u001b[0m\n\u001b[0;31mSyntaxError\u001b[0m\u001b[0;31m:\u001b[0m invalid syntax\n"
          ]
        }
      ]
    },
    {
      "cell_type": "code",
      "source": [
        "3 + (2 * 4)"
      ],
      "metadata": {
        "colab": {
          "base_uri": "https://localhost:8080/"
        },
        "id": "WPR_RzHXSWYW",
        "outputId": "32c5f0bf-f912-4cd0-be9f-05c2068ccba5"
      },
      "execution_count": 16,
      "outputs": [
        {
          "output_type": "execute_result",
          "data": {
            "text/plain": [
              "11"
            ]
          },
          "metadata": {},
          "execution_count": 16
        }
      ]
    },
    {
      "cell_type": "code",
      "source": [
        "(3 + 2) * 4"
      ],
      "metadata": {
        "colab": {
          "base_uri": "https://localhost:8080/"
        },
        "id": "hJsBDUyMSsSl",
        "outputId": "3ff1086e-f899-4ce7-f0e4-0b0f1f10677c"
      },
      "execution_count": 17,
      "outputs": [
        {
          "output_type": "execute_result",
          "data": {
            "text/plain": [
              "20"
            ]
          },
          "metadata": {},
          "execution_count": 17
        }
      ]
    },
    {
      "cell_type": "code",
      "source": [
        "3 +"
      ],
      "metadata": {
        "colab": {
          "base_uri": "https://localhost:8080/",
          "height": 106
        },
        "id": "tvonxYXVS5K7",
        "outputId": "ba94340b-bda2-43fa-fe1b-8a73506bbfd4"
      },
      "execution_count": 18,
      "outputs": [
        {
          "output_type": "error",
          "ename": "SyntaxError",
          "evalue": "invalid syntax (<ipython-input-18-3b36d4dc5165>, line 1)",
          "traceback": [
            "\u001b[0;36m  File \u001b[0;32m\"<ipython-input-18-3b36d4dc5165>\"\u001b[0;36m, line \u001b[0;32m1\u001b[0m\n\u001b[0;31m    3 +\u001b[0m\n\u001b[0m       ^\u001b[0m\n\u001b[0;31mSyntaxError\u001b[0m\u001b[0;31m:\u001b[0m invalid syntax\n"
          ]
        }
      ]
    },
    {
      "cell_type": "code",
      "source": [
        "3 - 2"
      ],
      "metadata": {
        "colab": {
          "base_uri": "https://localhost:8080/"
        },
        "id": "d7bWmUQzTCOP",
        "outputId": "073e5118-8fb0-4c85-e5b3-4d339b1cfae8"
      },
      "execution_count": 19,
      "outputs": [
        {
          "output_type": "execute_result",
          "data": {
            "text/plain": [
              "1"
            ]
          },
          "metadata": {},
          "execution_count": 19
        }
      ]
    },
    {
      "cell_type": "code",
      "source": [
        "-2"
      ],
      "metadata": {
        "colab": {
          "base_uri": "https://localhost:8080/"
        },
        "id": "k1UQNmHJTSLb",
        "outputId": "a954548f-5754-43b3-ee4e-72f44a811548"
      },
      "execution_count": 20,
      "outputs": [
        {
          "output_type": "execute_result",
          "data": {
            "text/plain": [
              "-2"
            ]
          },
          "metadata": {},
          "execution_count": 20
        }
      ]
    },
    {
      "cell_type": "code",
      "source": [
        "-2 + 3"
      ],
      "metadata": {
        "colab": {
          "base_uri": "https://localhost:8080/"
        },
        "id": "JgeTljuVTeQj",
        "outputId": "30eae40f-1293-4471-99b1-09d100438fc4"
      },
      "execution_count": 21,
      "outputs": [
        {
          "output_type": "execute_result",
          "data": {
            "text/plain": [
              "1"
            ]
          },
          "metadata": {},
          "execution_count": 21
        }
      ]
    },
    {
      "cell_type": "code",
      "source": [
        "3 + (2 * (-4))"
      ],
      "metadata": {
        "colab": {
          "base_uri": "https://localhost:8080/"
        },
        "id": "r-UnQLNETq1y",
        "outputId": "7fd651a9-7525-45fb-f7ad-ef46ff6ebce8"
      },
      "execution_count": 22,
      "outputs": [
        {
          "output_type": "execute_result",
          "data": {
            "text/plain": [
              "-5"
            ]
          },
          "metadata": {},
          "execution_count": 22
        }
      ]
    },
    {
      "cell_type": "code",
      "source": [
        "_\n"
      ],
      "metadata": {
        "colab": {
          "base_uri": "https://localhost:8080/"
        },
        "id": "P8omoCOeT6E-",
        "outputId": "11fc54d2-f9bc-44c0-aa9b-85d7018da874"
      },
      "execution_count": 23,
      "outputs": [
        {
          "output_type": "execute_result",
          "data": {
            "text/plain": [
              "-5"
            ]
          },
          "metadata": {},
          "execution_count": 23
        }
      ]
    },
    {
      "cell_type": "markdown",
      "source": [
        "Today's key terms/concepts:\n",
        "* Constant\n",
        "* Operators\n",
        "* Expression (Values, Operators) (Values-> Constant, Values->Variables)\n",
        "* Value (Number, String)\n",
        "* Binary Operator\n",
        "* Unary Operator\n"
      ],
      "metadata": {
        "id": "IFwHVNnKUF_X"
      }
    },
    {
      "cell_type": "markdown",
      "source": [
        "# Session 2"
      ],
      "metadata": {
        "id": "DhIlFfadL7d3"
      }
    },
    {
      "cell_type": "code",
      "source": [
        "-1 * 4"
      ],
      "metadata": {
        "colab": {
          "base_uri": "https://localhost:8080/"
        },
        "id": "9RAJq1j0T_Bv",
        "outputId": "184e2f5e-67e9-4b8f-b185-36d7f91795d2"
      },
      "execution_count": 4,
      "outputs": [
        {
          "output_type": "execute_result",
          "data": {
            "text/plain": [
              "-4"
            ]
          },
          "metadata": {},
          "execution_count": 4
        }
      ]
    },
    {
      "cell_type": "markdown",
      "source": [
        "Variables\n"
      ],
      "metadata": {
        "id": "zetYu51cUPBI"
      }
    },
    {
      "cell_type": "code",
      "source": [
        "124 - 94"
      ],
      "metadata": {
        "colab": {
          "base_uri": "https://localhost:8080/"
        },
        "id": "wko_2BfeL_7N",
        "outputId": "ce7d3391-4df8-4f1e-b336-584f3e95c4ae"
      },
      "execution_count": 5,
      "outputs": [
        {
          "output_type": "execute_result",
          "data": {
            "text/plain": [
              "30"
            ]
          },
          "metadata": {},
          "execution_count": 5
        }
      ]
    },
    {
      "cell_type": "code",
      "source": [
        "maximal = 124\n",
        "width = 94\n",
        "maximal - width"
      ],
      "metadata": {
        "colab": {
          "base_uri": "https://localhost:8080/"
        },
        "id": "JT8lJ_tyML4X",
        "outputId": "1e1919be-4154-4f9b-d4bf-636a0e4a0e52"
      },
      "execution_count": 6,
      "outputs": [
        {
          "output_type": "execute_result",
          "data": {
            "text/plain": [
              "30"
            ]
          },
          "metadata": {},
          "execution_count": 6
        }
      ]
    },
    {
      "cell_type": "code",
      "source": [
        "eht = 16\n",
        "aiman = 9\n",
        "eht - aiman"
      ],
      "metadata": {
        "colab": {
          "base_uri": "https://localhost:8080/"
        },
        "id": "LpVkIjm4Xdfh",
        "outputId": "093928f5-a123-4382-9f8e-500bb64d5b3d"
      },
      "execution_count": 7,
      "outputs": [
        {
          "output_type": "execute_result",
          "data": {
            "text/plain": [
              "7"
            ]
          },
          "metadata": {},
          "execution_count": 7
        }
      ]
    },
    {
      "cell_type": "code",
      "source": [
        "aiman + 5"
      ],
      "metadata": {
        "colab": {
          "base_uri": "https://localhost:8080/"
        },
        "id": "tksZY1yhXuzy",
        "outputId": "142ddc13-b232-4ec5-d958-5ee492d41866"
      },
      "execution_count": 8,
      "outputs": [
        {
          "output_type": "execute_result",
          "data": {
            "text/plain": [
              "14"
            ]
          },
          "metadata": {},
          "execution_count": 8
        }
      ]
    },
    {
      "cell_type": "code",
      "source": [
        "eht - 5"
      ],
      "metadata": {
        "colab": {
          "base_uri": "https://localhost:8080/"
        },
        "id": "tq8_GappYwLh",
        "outputId": "49d65342-2af8-43aa-d5a6-7bd8ba3cd8bc"
      },
      "execution_count": 9,
      "outputs": [
        {
          "output_type": "execute_result",
          "data": {
            "text/plain": [
              "11"
            ]
          },
          "metadata": {},
          "execution_count": 9
        }
      ]
    },
    {
      "cell_type": "code",
      "source": [
        "\"Hello\" + \" \" + \"World\""
      ],
      "metadata": {
        "colab": {
          "base_uri": "https://localhost:8080/",
          "height": 35
        },
        "id": "lLvn6l2BY3Ft",
        "outputId": "6a029403-1ddf-42bc-8694-95742e9de694"
      },
      "execution_count": 13,
      "outputs": [
        {
          "output_type": "execute_result",
          "data": {
            "text/plain": [
              "'Hello World'"
            ],
            "application/vnd.google.colaboratory.intrinsic+json": {
              "type": "string"
            }
          },
          "metadata": {},
          "execution_count": 13
        }
      ]
    },
    {
      "cell_type": "code",
      "source": [
        "\"Hello\" - \" \" - \"World\""
      ],
      "metadata": {
        "colab": {
          "base_uri": "https://localhost:8080/",
          "height": 141
        },
        "id": "jxaPpOubaGOp",
        "outputId": "92ec39e3-8338-42a9-ae44-30ac34e5b7c0"
      },
      "execution_count": 14,
      "outputs": [
        {
          "output_type": "error",
          "ename": "TypeError",
          "evalue": "unsupported operand type(s) for -: 'str' and 'str'",
          "traceback": [
            "\u001b[0;31m---------------------------------------------------------------------------\u001b[0m",
            "\u001b[0;31mTypeError\u001b[0m                                 Traceback (most recent call last)",
            "\u001b[0;32m<ipython-input-14-84e8be328623>\u001b[0m in \u001b[0;36m<cell line: 1>\u001b[0;34m()\u001b[0m\n\u001b[0;32m----> 1\u001b[0;31m \u001b[0;34m\"Hello\"\u001b[0m \u001b[0;34m-\u001b[0m \u001b[0;34m\" \"\u001b[0m \u001b[0;34m-\u001b[0m \u001b[0;34m\"World\"\u001b[0m\u001b[0;34m\u001b[0m\u001b[0;34m\u001b[0m\u001b[0m\n\u001b[0m",
            "\u001b[0;31mTypeError\u001b[0m: unsupported operand type(s) for -: 'str' and 'str'"
          ]
        }
      ]
    },
    {
      "cell_type": "code",
      "source": [
        "\"Hello\" * \"World\""
      ],
      "metadata": {
        "colab": {
          "base_uri": "https://localhost:8080/",
          "height": 141
        },
        "id": "4dWpc-b_adoV",
        "outputId": "68fe02a9-186a-49ad-8126-abd4b07ddf0e"
      },
      "execution_count": 15,
      "outputs": [
        {
          "output_type": "error",
          "ename": "TypeError",
          "evalue": "can't multiply sequence by non-int of type 'str'",
          "traceback": [
            "\u001b[0;31m---------------------------------------------------------------------------\u001b[0m",
            "\u001b[0;31mTypeError\u001b[0m                                 Traceback (most recent call last)",
            "\u001b[0;32m<ipython-input-15-274f9dd30aa7>\u001b[0m in \u001b[0;36m<cell line: 1>\u001b[0;34m()\u001b[0m\n\u001b[0;32m----> 1\u001b[0;31m \u001b[0;34m\"Hello\"\u001b[0m \u001b[0;34m*\u001b[0m \u001b[0;34m\"World\"\u001b[0m\u001b[0;34m\u001b[0m\u001b[0;34m\u001b[0m\u001b[0m\n\u001b[0m",
            "\u001b[0;31mTypeError\u001b[0m: can't multiply sequence by non-int of type 'str'"
          ]
        }
      ]
    },
    {
      "cell_type": "code",
      "source": [
        "\"Hello\" + 2"
      ],
      "metadata": {
        "colab": {
          "base_uri": "https://localhost:8080/",
          "height": 141
        },
        "id": "kfq7aN3jamfN",
        "outputId": "e442f2d8-1ba9-43ee-f1cb-36afd7af9ad4"
      },
      "execution_count": 16,
      "outputs": [
        {
          "output_type": "error",
          "ename": "TypeError",
          "evalue": "can only concatenate str (not \"int\") to str",
          "traceback": [
            "\u001b[0;31m---------------------------------------------------------------------------\u001b[0m",
            "\u001b[0;31mTypeError\u001b[0m                                 Traceback (most recent call last)",
            "\u001b[0;32m<ipython-input-16-917ec72bce98>\u001b[0m in \u001b[0;36m<cell line: 1>\u001b[0;34m()\u001b[0m\n\u001b[0;32m----> 1\u001b[0;31m \u001b[0;34m\"Hello\"\u001b[0m \u001b[0;34m+\u001b[0m \u001b[0;36m2\u001b[0m\u001b[0;34m\u001b[0m\u001b[0;34m\u001b[0m\u001b[0m\n\u001b[0m",
            "\u001b[0;31mTypeError\u001b[0m: can only concatenate str (not \"int\") to str"
          ]
        }
      ]
    },
    {
      "cell_type": "code",
      "source": [
        "\"Hello\" + \"2\""
      ],
      "metadata": {
        "colab": {
          "base_uri": "https://localhost:8080/",
          "height": 35
        },
        "id": "3nMN4unZa2SO",
        "outputId": "0991a7c8-1572-45e7-9575-a63e7bf8160b"
      },
      "execution_count": 17,
      "outputs": [
        {
          "output_type": "execute_result",
          "data": {
            "text/plain": [
              "'Hello2'"
            ],
            "application/vnd.google.colaboratory.intrinsic+json": {
              "type": "string"
            }
          },
          "metadata": {},
          "execution_count": 17
        }
      ]
    },
    {
      "cell_type": "code",
      "source": [
        "first = \"Ammarah\"\n",
        "second = \"Patel\"\n",
        "first, second"
      ],
      "metadata": {
        "colab": {
          "base_uri": "https://localhost:8080/"
        },
        "id": "XYgifkOqbEnS",
        "outputId": "1868a711-ea3c-45ed-aece-6ca1c02a928b"
      },
      "execution_count": 18,
      "outputs": [
        {
          "output_type": "execute_result",
          "data": {
            "text/plain": [
              "('Ammarah', 'Patel')"
            ]
          },
          "metadata": {},
          "execution_count": 18
        }
      ]
    },
    {
      "cell_type": "code",
      "source": [
        "first + second"
      ],
      "metadata": {
        "colab": {
          "base_uri": "https://localhost:8080/",
          "height": 35
        },
        "id": "55Vl2VWCblzN",
        "outputId": "c8496abe-f12f-4abd-bb29-40b3440e7e6a"
      },
      "execution_count": 19,
      "outputs": [
        {
          "output_type": "execute_result",
          "data": {
            "text/plain": [
              "'AmmarahPatel'"
            ],
            "application/vnd.google.colaboratory.intrinsic+json": {
              "type": "string"
            }
          },
          "metadata": {},
          "execution_count": 19
        }
      ]
    },
    {
      "cell_type": "code",
      "source": [
        "first + \" \" + second"
      ],
      "metadata": {
        "colab": {
          "base_uri": "https://localhost:8080/",
          "height": 35
        },
        "id": "yd3i-fXcb8RN",
        "outputId": "5e1c2abe-4b98-4e21-88cb-64dfccbe48df"
      },
      "execution_count": 20,
      "outputs": [
        {
          "output_type": "execute_result",
          "data": {
            "text/plain": [
              "'Ammarah Patel'"
            ],
            "application/vnd.google.colaboratory.intrinsic+json": {
              "type": "string"
            }
          },
          "metadata": {},
          "execution_count": 20
        }
      ]
    },
    {
      "cell_type": "code",
      "source": [
        "second + \", \" + first"
      ],
      "metadata": {
        "colab": {
          "base_uri": "https://localhost:8080/",
          "height": 35
        },
        "id": "fwO-lCgscYQe",
        "outputId": "f6ba25d1-89e2-4faf-c560-de08f1518af1"
      },
      "execution_count": 21,
      "outputs": [
        {
          "output_type": "execute_result",
          "data": {
            "text/plain": [
              "'Patel, Ammarah'"
            ],
            "application/vnd.google.colaboratory.intrinsic+json": {
              "type": "string"
            }
          },
          "metadata": {},
          "execution_count": 21
        }
      ]
    },
    {
      "cell_type": "code",
      "source": [
        "\"\"\"Toronto is the largest city in Canada\n",
        "and the provincial capital of Ontario.\n",
        "It is located in Southern Ontario on the\n",
        "northwestern shore of Lake Ontario.\"\"\""
      ],
      "metadata": {
        "colab": {
          "base_uri": "https://localhost:8080/",
          "height": 53
        },
        "id": "OnULO_z4clCw",
        "outputId": "2509f729-b434-4f73-b230-8b79489f545a"
      },
      "execution_count": 22,
      "outputs": [
        {
          "output_type": "execute_result",
          "data": {
            "text/plain": [
              "'Toronto is the largest city in Canada \\nand the provincial capital of Ontario. \\nIt is located in Southern Ontario on the \\nnorthwestern shore of Lake Ontario.'"
            ],
            "application/vnd.google.colaboratory.intrinsic+json": {
              "type": "string"
            }
          },
          "metadata": {},
          "execution_count": 22
        }
      ]
    },
    {
      "cell_type": "code",
      "source": [
        "city = \"\"\"Toronto is the largest city in Canada\n",
        "and the provincial capital of Ontario.\n",
        "It is located in Southern Ontario on the\n",
        "northwestern shore of Lake Ontario.\"\"\""
      ],
      "metadata": {
        "id": "nfp8Z0AcdJMK"
      },
      "execution_count": 23,
      "outputs": []
    },
    {
      "cell_type": "code",
      "source": [
        "city"
      ],
      "metadata": {
        "colab": {
          "base_uri": "https://localhost:8080/",
          "height": 53
        },
        "id": "RtwBDr41dXrD",
        "outputId": "9177ffbd-1140-4ae6-b8df-d6667362a4f3"
      },
      "execution_count": 24,
      "outputs": [
        {
          "output_type": "execute_result",
          "data": {
            "text/plain": [
              "'Toronto is the largest city in Canada \\nand the provincial capital of Ontario. \\nIt is located in Southern Ontario on the \\nnorthwestern shore of Lake Ontario.'"
            ],
            "application/vnd.google.colaboratory.intrinsic+json": {
              "type": "string"
            }
          },
          "metadata": {},
          "execution_count": 24
        }
      ]
    },
    {
      "cell_type": "code",
      "source": [
        "print(city)"
      ],
      "metadata": {
        "colab": {
          "base_uri": "https://localhost:8080/"
        },
        "id": "Z80nbTVJdZZ5",
        "outputId": "9d8b2476-43d9-4d6c-b0fe-4316a92792ed"
      },
      "execution_count": 25,
      "outputs": [
        {
          "output_type": "stream",
          "name": "stdout",
          "text": [
            "Toronto is the largest city in Canada \n",
            "and the provincial capital of Ontario. \n",
            "It is located in Southern Ontario on the \n",
            "northwestern shore of Lake Ontario.\n"
          ]
        }
      ]
    },
    {
      "cell_type": "code",
      "source": [
        "bio = \"\"\"*\n",
        "Name = Ehtesham Patel\n",
        "Age = 17\n",
        "\n",
        "*\"\"\""
      ],
      "metadata": {
        "id": "Km65kzwpdcXu"
      },
      "execution_count": 29,
      "outputs": []
    },
    {
      "cell_type": "code",
      "source": [
        "bio\n"
      ],
      "metadata": {
        "colab": {
          "base_uri": "https://localhost:8080/",
          "height": 35
        },
        "id": "YZxFfo71dxig",
        "outputId": "61d47044-33eb-4601-e7ec-af5170ac1b2e"
      },
      "execution_count": 30,
      "outputs": [
        {
          "output_type": "execute_result",
          "data": {
            "text/plain": [
              "'*\\nName = Ehtesham Patel\\nAge = 17\\n*'"
            ],
            "application/vnd.google.colaboratory.intrinsic+json": {
              "type": "string"
            }
          },
          "metadata": {},
          "execution_count": 30
        }
      ]
    },
    {
      "cell_type": "code",
      "source": [
        "print(bio)"
      ],
      "metadata": {
        "colab": {
          "base_uri": "https://localhost:8080/"
        },
        "id": "tYrJeG8Bd3is",
        "outputId": "51afcc02-76f1-4add-af71-de369fdae0c9"
      },
      "execution_count": 31,
      "outputs": [
        {
          "output_type": "stream",
          "name": "stdout",
          "text": [
            "*\n",
            "Name = Ehtesham Patel\n",
            "Age = 17\n",
            "*\n"
          ]
        }
      ]
    },
    {
      "cell_type": "markdown",
      "source": [
        "# Session 3"
      ],
      "metadata": {
        "id": "1ywcQvGFErba"
      }
    },
    {
      "cell_type": "markdown",
      "source": [
        "# Structuring and Indentation\n"
      ],
      "metadata": {
        "id": "SbIPPgg97lwx"
      }
    },
    {
      "cell_type": "code",
      "source": [
        "# Multi-line statement\n",
        "l = [\"A\", 42, 78, \"Just a String\"]\n",
        "for character in l:\n",
        "     print(character)\n",
        ""
      ],
      "metadata": {
        "colab": {
          "base_uri": "https://localhost:8080/"
        },
        "id": "dsukWheZeLZV",
        "outputId": "702a3c43-c676-4df2-cdcd-7368b2999b27"
      },
      "execution_count": 4,
      "outputs": [
        {
          "output_type": "stream",
          "name": "stdout",
          "text": [
            "A\n",
            "42\n",
            "78\n",
            "Just a String\n"
          ]
        }
      ]
    },
    {
      "cell_type": "code",
      "source": [
        "l = [\"A\", 42, 78, \"Just a String\"]\n",
        "for character in l:\n",
        "     print(character)\n",
        "     print(\"character again\", character)\n"
      ],
      "metadata": {
        "colab": {
          "base_uri": "https://localhost:8080/"
        },
        "id": "jWIuj1mz8fyf",
        "outputId": "1f4bf172-021b-4db9-a7e5-99513e5fe0b0"
      },
      "execution_count": 5,
      "outputs": [
        {
          "output_type": "stream",
          "name": "stdout",
          "text": [
            "A\n",
            "character again A\n",
            "42\n",
            "character again 42\n",
            "78\n",
            "character again 78\n",
            "Just a String\n",
            "character again Just a String\n"
          ]
        }
      ]
    },
    {
      "cell_type": "code",
      "source": [
        "l = [\"A\", 42, 78, \"Just a String\"]\n",
        "for character in l:\n",
        "     print(character)\n",
        "     print(\"character again\", character)\n",
        "print(\"last character again\", character)"
      ],
      "metadata": {
        "colab": {
          "base_uri": "https://localhost:8080/"
        },
        "id": "80J5KFKG92f2",
        "outputId": "0bad99db-d74b-4ccc-ea56-9d8c7e18393b"
      },
      "execution_count": 6,
      "outputs": [
        {
          "output_type": "stream",
          "name": "stdout",
          "text": [
            "A\n",
            "character again A\n",
            "42\n",
            "character again 42\n",
            "78\n",
            "character again 78\n",
            "Just a String\n",
            "character again Just a String\n",
            "last character again Just a String\n"
          ]
        }
      ]
    },
    {
      "cell_type": "code",
      "source": [
        "# 3 blocks\n",
        "from math import sqrt\n",
        "n = input(\"Maximum Number? \")\n",
        "n = int(n)+1\n",
        "for a in range(1,n):\n",
        "    for b in range(a,n):\n",
        "        c_square = a**2 + b**2\n",
        "        c = int(sqrt(c_square))\n",
        "        if ((c_square - c**2) == 0):\n",
        "            print(a, b, c)"
      ],
      "metadata": {
        "colab": {
          "base_uri": "https://localhost:8080/"
        },
        "id": "jCRMXUaj996e",
        "outputId": "7c3561a2-5b9f-479a-ddf9-b069d517cae6"
      },
      "execution_count": 8,
      "outputs": [
        {
          "output_type": "stream",
          "name": "stdout",
          "text": [
            "Maximum Number? 25\n",
            "3 4 5\n",
            "5 12 13\n",
            "6 8 10\n",
            "7 24 25\n",
            "8 15 17\n",
            "9 12 15\n",
            "10 24 26\n",
            "12 16 20\n",
            "15 20 25\n",
            "18 24 30\n",
            "20 21 29\n"
          ]
        }
      ]
    },
    {
      "cell_type": "markdown",
      "source": [
        "# Assignment Expression"
      ],
      "metadata": {
        "id": "KEbws5lt_Iag"
      }
    },
    {
      "cell_type": "code",
      "source": [
        "# assignment statement\n",
        "x = 5"
      ],
      "metadata": {
        "id": "ICNrCerx-bgn"
      },
      "execution_count": 9,
      "outputs": []
    },
    {
      "cell_type": "code",
      "source": [
        "x"
      ],
      "metadata": {
        "colab": {
          "base_uri": "https://localhost:8080/"
        },
        "id": "jD0z_-UX_nH7",
        "outputId": "c5f6c10c-e49d-43f5-f3cc-6ca765cb48e8"
      },
      "execution_count": 10,
      "outputs": [
        {
          "output_type": "execute_result",
          "data": {
            "text/plain": [
              "5"
            ]
          },
          "metadata": {},
          "execution_count": 10
        }
      ]
    },
    {
      "cell_type": "code",
      "source": [
        "x = 4.56\n",
        "# assignment expression\n",
        "z = (square := x**2) - (6.6 / square)\n",
        "print(z)\n",
        "print(x,z,square)"
      ],
      "metadata": {
        "colab": {
          "base_uri": "https://localhost:8080/"
        },
        "id": "CvXQe5qK_p9s",
        "outputId": "f572f6c3-54f0-45bb-d7dc-d3bc840d9b2b"
      },
      "execution_count": 12,
      "outputs": [
        {
          "output_type": "stream",
          "name": "stdout",
          "text": [
            "20.476194644506\n",
            "4.56 20.476194644506 20.793599999999998\n"
          ]
        }
      ]
    },
    {
      "cell_type": "code",
      "source": [
        "x = 3\n",
        "z = (square := x**2) - (6.6 / square)\n",
        "print(x,z,square)\n"
      ],
      "metadata": {
        "colab": {
          "base_uri": "https://localhost:8080/"
        },
        "id": "eZiWf7z1APX5",
        "outputId": "9d18c360-56ca-4a0f-a698-66e6fb4df700"
      },
      "execution_count": 13,
      "outputs": [
        {
          "output_type": "stream",
          "name": "stdout",
          "text": [
            "3 8.266666666666667 9\n"
          ]
        }
      ]
    },
    {
      "cell_type": "code",
      "source": [
        "# With the walrus operator\n",
        "n = int(input(\"Please give a number: \"))\n",
        "if (square := n ** 2) > 3:\n",
        "    print(\"The number is greater than 3.\")\n",
        "    print(f\"The square of {n} is {square}.\")"
      ],
      "metadata": {
        "colab": {
          "base_uri": "https://localhost:8080/"
        },
        "id": "2aPXC1xUAtk1",
        "outputId": "d0a2cd71-8f29-4bb1-92fa-35f9c9806eb5"
      },
      "execution_count": 15,
      "outputs": [
        {
          "name": "stdout",
          "output_type": "stream",
          "text": [
            "Please give a number: 1\n"
          ]
        }
      ]
    },
    {
      "cell_type": "code",
      "source": [
        "n = int(input(\"Please give a number: \"))\n",
        "square= n ** 2\n",
        "if square > 3:\n",
        "    print(\"The number is greater than 3.\")\n",
        "    print(f\"The square of {n} is {square}.\")"
      ],
      "metadata": {
        "colab": {
          "base_uri": "https://localhost:8080/"
        },
        "id": "FKfx0i4NBTnS",
        "outputId": "e591a378-d70c-483e-ad30-3d953659c385"
      },
      "execution_count": 16,
      "outputs": [
        {
          "name": "stdout",
          "output_type": "stream",
          "text": [
            "Please give a number: 1\n"
          ]
        }
      ]
    },
    {
      "cell_type": "markdown",
      "source": [
        "# 6. Data Types and Variables"
      ],
      "metadata": {
        "id": "xRqnTNRjCkwT"
      }
    },
    {
      "cell_type": "code",
      "source": [
        "i = 42"
      ],
      "metadata": {
        "id": "-LDSjJh1CFtE"
      },
      "execution_count": 17,
      "outputs": []
    },
    {
      "cell_type": "code",
      "source": [
        "i"
      ],
      "metadata": {
        "colab": {
          "base_uri": "https://localhost:8080/"
        },
        "id": "75Zv0VbBDMtS",
        "outputId": "993435d5-1d0f-4b67-b9f6-5e6d80f19593"
      },
      "execution_count": 18,
      "outputs": [
        {
          "output_type": "execute_result",
          "data": {
            "text/plain": [
              "42"
            ]
          },
          "metadata": {},
          "execution_count": 18
        }
      ]
    },
    {
      "cell_type": "code",
      "source": [
        "i = i + 1"
      ],
      "metadata": {
        "id": "tWA1lu92DPua"
      },
      "execution_count": 19,
      "outputs": []
    },
    {
      "cell_type": "code",
      "source": [
        "i"
      ],
      "metadata": {
        "colab": {
          "base_uri": "https://localhost:8080/"
        },
        "id": "HL7gD_CqDXgo",
        "outputId": "d382c063-24e9-466f-e8b2-73965cd858e4"
      },
      "execution_count": 20,
      "outputs": [
        {
          "output_type": "execute_result",
          "data": {
            "text/plain": [
              "43"
            ]
          },
          "metadata": {},
          "execution_count": 20
        }
      ]
    },
    {
      "cell_type": "code",
      "source": [
        "i = 42          # data type is implicitly set to integer"
      ],
      "metadata": {
        "id": "uxuFusc4Dc45"
      },
      "execution_count": 25,
      "outputs": []
    },
    {
      "cell_type": "code",
      "source": [
        "i"
      ],
      "metadata": {
        "colab": {
          "base_uri": "https://localhost:8080/"
        },
        "id": "SD0vg5QeDnDa",
        "outputId": "d56d31b6-f003-4a16-c7e1-91f552a31817"
      },
      "execution_count": 22,
      "outputs": [
        {
          "output_type": "execute_result",
          "data": {
            "text/plain": [
              "42"
            ]
          },
          "metadata": {},
          "execution_count": 22
        }
      ]
    },
    {
      "cell_type": "code",
      "source": [
        "i = 42 + 0.11       # data type is changed to float"
      ],
      "metadata": {
        "id": "mIPMqUzZDn2-"
      },
      "execution_count": 26,
      "outputs": []
    },
    {
      "cell_type": "code",
      "source": [
        "i"
      ],
      "metadata": {
        "colab": {
          "base_uri": "https://localhost:8080/"
        },
        "id": "KSv9JFCrDz12",
        "outputId": "9d5d0396-2960-496f-d530-9a04df6ace73"
      },
      "execution_count": 24,
      "outputs": [
        {
          "output_type": "execute_result",
          "data": {
            "text/plain": [
              "42.11"
            ]
          },
          "metadata": {},
          "execution_count": 24
        }
      ]
    },
    {
      "cell_type": "code",
      "source": [
        "i = \"forty\"     # and now it will be a string"
      ],
      "metadata": {
        "id": "2XiQtsPTD0r4"
      },
      "execution_count": 27,
      "outputs": []
    },
    {
      "cell_type": "code",
      "source": [
        "i"
      ],
      "metadata": {
        "colab": {
          "base_uri": "https://localhost:8080/",
          "height": 35
        },
        "id": "amxwFls2EHk-",
        "outputId": "ea85df1c-c752-4707-88de-1aa60c446d88"
      },
      "execution_count": 28,
      "outputs": [
        {
          "output_type": "execute_result",
          "data": {
            "text/plain": [
              "'forty'"
            ],
            "application/vnd.google.colaboratory.intrinsic+json": {
              "type": "string"
            }
          },
          "metadata": {},
          "execution_count": 28
        }
      ]
    },
    {
      "cell_type": "markdown",
      "source": [
        "# Session 4"
      ],
      "metadata": {
        "id": "4u3b1A6QbDyq"
      }
    },
    {
      "cell_type": "code",
      "source": [
        "x = 42\n",
        "y = x"
      ],
      "metadata": {
        "id": "DUBhUFTgEIf9"
      },
      "execution_count": 1,
      "outputs": []
    },
    {
      "cell_type": "code",
      "source": [
        "(x,y)"
      ],
      "metadata": {
        "colab": {
          "base_uri": "https://localhost:8080/"
        },
        "id": "kMIoomPeUhE3",
        "outputId": "df3d311c-ea1b-44c8-af72-847f76b647ca"
      },
      "execution_count": 2,
      "outputs": [
        {
          "output_type": "execute_result",
          "data": {
            "text/plain": [
              "(42, 42)"
            ]
          },
          "metadata": {},
          "execution_count": 2
        }
      ]
    },
    {
      "cell_type": "code",
      "source": [
        "y = 78"
      ],
      "metadata": {
        "id": "znYT2eQJUkKw"
      },
      "execution_count": 3,
      "outputs": []
    },
    {
      "cell_type": "code",
      "source": [
        "x,y"
      ],
      "metadata": {
        "colab": {
          "base_uri": "https://localhost:8080/"
        },
        "id": "HwzwB9LfVNJP",
        "outputId": "4570bbbf-dcb6-4cf5-b480-09f0a9091490"
      },
      "execution_count": 4,
      "outputs": [
        {
          "output_type": "execute_result",
          "data": {
            "text/plain": [
              "(42, 78)"
            ]
          },
          "metadata": {},
          "execution_count": 4
        }
      ]
    },
    {
      "cell_type": "code",
      "source": [
        "x = \"hello\""
      ],
      "metadata": {
        "id": "441VKdzWVUUj"
      },
      "execution_count": 5,
      "outputs": []
    },
    {
      "cell_type": "code",
      "source": [
        "x,y"
      ],
      "metadata": {
        "colab": {
          "base_uri": "https://localhost:8080/"
        },
        "id": "0bokCl36Vo4h",
        "outputId": "60e2a1da-117d-4a57-ff58-85b95c68aa97"
      },
      "execution_count": 6,
      "outputs": [
        {
          "output_type": "execute_result",
          "data": {
            "text/plain": [
              "('hello', 78)"
            ]
          },
          "metadata": {},
          "execution_count": 6
        }
      ]
    },
    {
      "cell_type": "code",
      "source": [
        "x=42\n"
      ],
      "metadata": {
        "id": "Wzjww3FqVzCD"
      },
      "execution_count": 7,
      "outputs": []
    },
    {
      "cell_type": "code",
      "source": [
        "id(x)"
      ],
      "metadata": {
        "colab": {
          "base_uri": "https://localhost:8080/"
        },
        "id": "z1VZyMW9WAez",
        "outputId": "c5ac2f02-fde5-40b3-a573-5bdf38b427c0"
      },
      "execution_count": 8,
      "outputs": [
        {
          "output_type": "execute_result",
          "data": {
            "text/plain": [
              "139671404414480"
            ]
          },
          "metadata": {},
          "execution_count": 8
        }
      ]
    },
    {
      "cell_type": "code",
      "source": [
        "id(y)"
      ],
      "metadata": {
        "colab": {
          "base_uri": "https://localhost:8080/"
        },
        "id": "1I55cegJWLIh",
        "outputId": "4e8e18d9-0a7e-48d8-8dfd-b6f1cab64f10"
      },
      "execution_count": 9,
      "outputs": [
        {
          "output_type": "execute_result",
          "data": {
            "text/plain": [
              "139671404415632"
            ]
          },
          "metadata": {},
          "execution_count": 9
        }
      ]
    },
    {
      "cell_type": "code",
      "source": [
        "x,y"
      ],
      "metadata": {
        "colab": {
          "base_uri": "https://localhost:8080/"
        },
        "id": "NuX53FcSWRP3",
        "outputId": "3083e3d9-cb35-4d36-b2f2-d08010b30697"
      },
      "execution_count": 10,
      "outputs": [
        {
          "output_type": "execute_result",
          "data": {
            "text/plain": [
              "(42, 78)"
            ]
          },
          "metadata": {},
          "execution_count": 10
        }
      ]
    },
    {
      "cell_type": "code",
      "source": [
        "y = x"
      ],
      "metadata": {
        "id": "7qKSbhkQWUrr"
      },
      "execution_count": 11,
      "outputs": []
    },
    {
      "cell_type": "code",
      "source": [
        "x,y"
      ],
      "metadata": {
        "colab": {
          "base_uri": "https://localhost:8080/"
        },
        "id": "HHGJ1P9mWc8f",
        "outputId": "1b2b24ff-901f-4687-ad71-7d3ba217449a"
      },
      "execution_count": 12,
      "outputs": [
        {
          "output_type": "execute_result",
          "data": {
            "text/plain": [
              "(42, 42)"
            ]
          },
          "metadata": {},
          "execution_count": 12
        }
      ]
    },
    {
      "cell_type": "code",
      "source": [
        "id(x), id(y)"
      ],
      "metadata": {
        "colab": {
          "base_uri": "https://localhost:8080/"
        },
        "id": "PMJ2mID_WnL9",
        "outputId": "a4631990-656b-41a3-df4e-e2c6ba31a8aa"
      },
      "execution_count": 13,
      "outputs": [
        {
          "output_type": "execute_result",
          "data": {
            "text/plain": [
              "(139671404414480, 139671404414480)"
            ]
          },
          "metadata": {},
          "execution_count": 13
        }
      ]
    },
    {
      "cell_type": "code",
      "source": [
        "x = 50\n"
      ],
      "metadata": {
        "id": "GG1kEyRRWtFB"
      },
      "execution_count": 14,
      "outputs": []
    },
    {
      "cell_type": "code",
      "source": [
        "x,y"
      ],
      "metadata": {
        "colab": {
          "base_uri": "https://localhost:8080/"
        },
        "id": "EcNhm7LeW17E",
        "outputId": "c1e17b8c-4bbf-4c36-e4e0-5cb365562c43"
      },
      "execution_count": 15,
      "outputs": [
        {
          "output_type": "execute_result",
          "data": {
            "text/plain": [
              "(50, 42)"
            ]
          },
          "metadata": {},
          "execution_count": 15
        }
      ]
    },
    {
      "cell_type": "code",
      "source": [
        "id(x), id(y)"
      ],
      "metadata": {
        "colab": {
          "base_uri": "https://localhost:8080/"
        },
        "id": "kSKAE1u1W5bt",
        "outputId": "7b090def-2bfe-4915-a942-549aa0d24f5d"
      },
      "execution_count": 16,
      "outputs": [
        {
          "output_type": "execute_result",
          "data": {
            "text/plain": [
              "(139671404414736, 139671404414480)"
            ]
          },
          "metadata": {},
          "execution_count": 16
        }
      ]
    },
    {
      "cell_type": "code",
      "source": [],
      "metadata": {
        "id": "dOcGMaQoW8eG"
      },
      "execution_count": null,
      "outputs": []
    }
  ]
}